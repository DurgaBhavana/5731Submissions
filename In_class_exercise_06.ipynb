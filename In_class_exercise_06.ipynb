{
  "nbformat": 4,
  "nbformat_minor": 0,
  "metadata": {
    "colab": {
      "name": "In_class_exercise_06.ipynb",
      "provenance": [],
      "collapsed_sections": [],
      "include_colab_link": true
    },
    "kernelspec": {
      "display_name": "Python 3",
      "language": "python",
      "name": "python3"
    },
    "language_info": {
      "codemirror_mode": {
        "name": "ipython",
        "version": 3
      },
      "file_extension": ".py",
      "mimetype": "text/x-python",
      "name": "python",
      "nbconvert_exporter": "python",
      "pygments_lexer": "ipython3",
      "version": "3.7.4"
    }
  },
  "cells": [
    {
      "cell_type": "markdown",
      "metadata": {
        "id": "view-in-github",
        "colab_type": "text"
      },
      "source": [
        "<a href=\"https://colab.research.google.com/github/DurgaBhavana/5731Submissions/blob/master/In_class_exercise_06.ipynb\" target=\"_parent\"><img src=\"https://colab.research.google.com/assets/colab-badge.svg\" alt=\"Open In Colab\"/></a>"
      ]
    },
    {
      "cell_type": "markdown",
      "metadata": {
        "id": "z7TahL04sVvR"
      },
      "source": [
        "# **The sixth in-class-exercise (20 points in total, 10/14/2020)**"
      ]
    },
    {
      "cell_type": "markdown",
      "metadata": {
        "id": "ejyZITr8sjnh"
      },
      "source": [
        "## **1. Rule-based information extraction (10 points)**\n",
        "\n",
        "Use any keywords related to data science, natural language processing, machine learning to search from google scholar, get the **titles** of 100 articles (either by web scraping or manually) about this topic, define a set of patterns to extract the research questions/problems, methods/algorithms/models, datasets, applications, or any other important information about this topic. "
      ]
    },
    {
      "cell_type": "code",
      "metadata": {
        "id": "BhPAMtsVCRY4",
        "outputId": "85ca130f-7720-4d6f-ddad-5a5b183c26a9",
        "colab": {
          "base_uri": "https://localhost:8080/",
          "height": 1000
        }
      },
      "source": [
        "import pandas as pd\n",
        "import spacy\n",
        "titles = pd.read_csv('/content/Data Science_Extracts from Web.csv', encoding = 'ISO-8859-1')\n",
        "nlp = spacy.load(\"en_core_web_sm\")\n",
        "j = 0\n",
        "for i in titles['Data Science Titles']:\n",
        "  doc = nlp(i)\n",
        "  for tok in doc: \n",
        "    print(tok.text, \"-->\",tok.dep_,\"-->\", tok.pos_)\n",
        "  j = j + 1\n",
        "  if j == 10:\n",
        "    break"
      ],
      "execution_count": 3,
      "outputs": [
        {
          "output_type": "stream",
          "text": [
            "Data --> compound --> NOUN\n",
            "science --> ROOT --> NOUN\n",
            "in --> prep --> ADP\n",
            "action --> pobj --> NOUN\n",
            "Data --> compound --> NOUN\n",
            "science --> nsubj --> NOUN\n",
            "and --> cc --> CCONJ\n",
            "its --> poss --> DET\n",
            "relationship --> conj --> NOUN\n",
            "to --> prep --> ADP\n",
            "big --> amod --> ADJ\n",
            "data --> pobj --> NOUN\n",
            "and --> cc --> CCONJ\n",
            "data --> npadvmod --> NOUN\n",
            "- --> punct --> PUNCT\n",
            "driven --> amod --> VERB\n",
            "decision --> conj --> NOUN\n",
            "making --> ROOT --> NOUN\n",
            "Data --> compound --> NOUN\n",
            "Science --> ROOT --> NOUN\n",
            "for --> prep --> ADP\n",
            "Business --> pobj --> NOUN\n",
            ": --> punct --> PUNCT\n",
            "What --> dobj --> PRON\n",
            "you --> nsubj --> PRON\n",
            "need --> ROOT --> VERB\n",
            "to --> aux --> PART\n",
            "know --> xcomp --> VERB\n",
            "about --> prep --> ADP\n",
            "data --> nmod --> NOUN\n",
            "mining --> nmod --> NOUN\n",
            "and --> cc --> CCONJ\n",
            "data --> compound --> NOUN\n",
            "- --> punct --> PUNCT\n",
            "analytic --> conj --> ADJ\n",
            "thinking --> pobj --> NOUN\n",
            "Data --> compound --> NOUN\n",
            "science --> ROOT --> NOUN\n",
            "and --> cc --> CCONJ\n",
            "prediction --> conj --> NOUN\n",
            "Data --> compound --> NOUN\n",
            "science --> ROOT --> NOUN\n",
            ", --> punct --> PUNCT\n",
            "predictive --> amod --> ADJ\n",
            "analytics --> conj --> NOUN\n",
            ", --> punct --> PUNCT\n",
            "and --> cc --> CCONJ\n",
            "big --> amod --> ADJ\n",
            "data --> conj --> NOUN\n",
            ": --> punct --> PUNCT\n",
            "a --> det --> DET\n",
            "revolution --> appos --> NOUN\n",
            "that --> nsubj --> DET\n",
            "will --> aux --> VERB\n",
            "transform --> relcl --> VERB\n",
            "supply --> compound --> NOUN\n",
            "chain --> compound --> NOUN\n",
            "design --> dobj --> NOUN\n",
            "and --> cc --> CCONJ\n",
            "management --> conj --> NOUN\n",
            "The --> det --> DET\n",
            "quantified --> amod --> ADJ\n",
            "self --> ROOT --> NOUN\n",
            ": --> punct --> PUNCT\n",
            "Fundamental --> amod --> ADJ\n",
            "disruption --> appos --> NOUN\n",
            "in --> prep --> ADP\n",
            "big --> amod --> ADJ\n",
            "data --> compound --> NOUN\n",
            "science --> pobj --> NOUN\n",
            "and --> cc --> CCONJ\n",
            "biological --> amod --> ADJ\n",
            "discovery --> conj --> NOUN\n",
            "Big --> amod --> ADJ\n",
            "data --> ROOT --> NOUN\n",
            ": --> punct --> PUNCT\n",
            "astronomical --> amod --> ADJ\n",
            "or --> cc --> CCONJ\n",
            "genomical --> conj --> ADJ\n",
            "? --> punct --> PUNCT\n",
            "Data --> compound --> PROPN\n",
            "Mining --> ROOT --> PROPN\n",
            "The --> det --> DET\n",
            "fourth --> amod --> ADJ\n",
            "paradigm --> ROOT --> NOUN\n",
            ": --> punct --> PUNCT\n",
            "data --> npadvmod --> NOUN\n",
            "- --> punct --> PUNCT\n",
            "intensive --> amod --> ADJ\n",
            "scientific --> amod --> ADJ\n",
            "discovery --> appos --> NOUN\n",
            "A --> det --> DET\n",
            "survey --> ROOT --> NOUN\n",
            "of --> prep --> ADP\n",
            "data --> compound --> NOUN\n",
            "provenance --> pobj --> NOUN\n",
            "in --> prep --> ADP\n",
            "e --> compound --> NOUN\n",
            "- --> punct --> NOUN\n",
            "science --> pobj --> NOUN\n"
          ],
          "name": "stdout"
        }
      ]
    },
    {
      "cell_type": "code",
      "metadata": {
        "id": "5hfOA7YLEERc",
        "outputId": "21612f8f-ca83-49e2-c184-85b9bed92e95",
        "colab": {
          "base_uri": "https://localhost:8080/",
          "height": 1000
        }
      },
      "source": [
        "from spacy.matcher import Matcher \n",
        "from spacy.tokens import Span \n",
        "matcher = Matcher(nlp.vocab) \n",
        "\n",
        "pattern = [{'DEP':'amod', 'OP':\"?\"}, \n",
        "           {'POS':'NOUN'}, \n",
        "           {'LOWER': 'and', 'OP':\"?\"}, \n",
        "           {'LOWER': 'or', 'OP':\"?\"}, \n",
        "           {'LOWER': 'other'}, \n",
        "           {'POS': 'NOUN'}]\n",
        "regex_pattern = [{\"TAG\": {\"REGEX\": \"^V\"}}]\n",
        "           \n",
        "matcher.add(\"matching_1\", None, pattern) \n",
        "matcher.add(\"matching_2\", None, regex_pattern)\n",
        "for i in titles['Data Science Titles']:\n",
        "  doc = nlp(i)\n",
        "  matches = matcher(doc) \n",
        "  span = doc\n",
        "  print(span.text)"
      ],
      "execution_count": 4,
      "outputs": [
        {
          "output_type": "stream",
          "text": [
            "Data science in action\n",
            "Data science and its relationship to big data and data-driven decision making\n",
            "Data Science for Business: What you need to know about data mining and data-analytic thinking\n",
            "Data science and prediction\n",
            "Data science, predictive analytics, and big data: a revolution that will transform supply chain design and management\n",
            "The quantified self: Fundamental disruption in big data science and biological discovery\n",
            "Big data: astronomical or genomical?\n",
            "Data Mining\n",
            "The fourth paradigm: data-intensive scientific discovery\n",
            "A survey of data provenance in e-science\n",
            "Analyzing social science data: 50 key problems in data analysis\n",
            "Analyzing incomplete political science data: An alternative algorithm for multiple imputation\n",
            "Cloudy, increasingly FAIR; revisiting the FAIR Data guiding principles for the European Open Science Cloud\n",
            "Mastering data mining: The art and science of customer relationship management\n",
            "The data deluge: An e-science perspective\n",
            "The analysis of social science data with missing values\n",
            "Analysis of multivariate social science data\n",
            "ENDF/B-VII. 1 nuclear data for science and technology: cross sections, covariances, fission product yields and decay data\n",
            "Online analysis enhances use of NASA earth science data\n",
            "Statistics: methods and applications: a comprehensive reference for science, industry, and data mining\n",
            "AIRS/AMSU/HSB on the Aqua mission: Design, science objectives, data products, and processing systems\n",
            "The role of anomalous data in knowledge acquisition: A theoretical framework and implications for science instruction\n",
            "ENDF/B-VII. 0: next generation evaluated nuclear data library for nuclear science and technology\n",
            "Citation indexes for science\n",
            "Discovering knowledge in data: an introduction to data mining\n",
            "Machine learning: the art and science of algorithms that make sense of data\n",
            "Opening the archive: How free data has enabled the science and monitoring promise of Landsat\n",
            "Color science\n",
            "Statistics of earth science data: their distribution in time, space and orientation\n",
            "The Herschel data processing system-HIPE and pipelines-up and running since the start of the mission\n",
            "Impact of data sources on citation counts and rankings of LIS faculty: Web of Science versus Scopus and Google Scholar\n",
            "Reproducible research in computational science\n",
            "Next steps for citizen science\n",
            "Reducing the dimensionality of data with neural networks\n",
            "Mining text data\n",
            "The grid: A new infrastructure for 21st century science.\n",
            "List-wise deletion is evil: what to do about missing data in political science\n",
            "Citizen science: a developing tool for expanding science knowledge and scientific literacy\n",
            "JENDL-4.0: a new library for nuclear science and engineering\n",
            "UK climate projections science report: climate change projections\n",
            "Landsat-8: Science and product vision for terrestrial global change research\n",
            "The conundrum of sharing research data\n",
            "Ancillary data services of NASA's navigation and ancillary information facility\n",
            "Modeling multilevel data structures\n",
            "Workflows for e-Science: scientific workflows for grids\n",
            "The FAIR Guiding Principles for scientific data management and stewardship\n",
            "TIMSS 2011 International Results in Science.\n",
            "Data structures and network algorithms\n",
            "Conceptual approaches for defining data, information, and knowledge\n",
            "Quality control of age data at the Alaska Fisheries Science Center\n",
            "A new dawn for citizen science\n",
            "The science of self-report: Implications for research and practice\n",
            "Linking crystallographic model and data quality\n",
            "Data streams: models and algorithms\n",
            "Investment science\n",
            "What ideas?about?science should be taught in school science? A Delphi study of the expert community\n",
            "Clustering by passing messages between data points\n",
            "A correlated topic model of science\n",
            "Calibration of the computer science and applications, Inc. accelerometer\n",
            "Distilling free-form natural laws from experimental data\n",
            "Data management and analysis methods\n",
            "Citizen science as an ecological research tool: challenges and benefits\n",
            "Fundamentals of data structures\n",
            "Semiconductors: data handbook\n",
            "The parable of Google Flu: traps in big data analysis\n",
            "A clustering technique for summarizing multivariate data\n",
            "Volume holographic storage and retrieval of digital data\n",
            "Creating the CIPRES Science Gateway for inference of large phylogenetic trees\n",
            "Toward an integrative science of the person\n",
            "Planning early for careers in science\n",
            "Competing on analytics: Updated, with a new introduction: The new science of winning\n",
            "How many scientists fabricate and falsify research? A systematic review and meta-analysis of survey data\n",
            "Detecting novel associations in large data sets\n",
            "TURBOVEG, a comprehensive data base management system for vegetation data\n",
            "Qualitative research methods for science education\n",
            "Characterization of the LIGO detectors during their sixth science run\n",
            "Business intelligence and analytics: From big data to big impact\n",
            "Challenges of data integration and interoperability in big data\n",
            "Big data: New tricks for econometrics\n",
            "Life in the network: the coming age of computational social science\n",
            "Global mineralogical and aqueous Mars history derived from OMEGA/Mars Express data\n",
            "Statistical data analysis in the computer age\n",
            "The medical review article: state of the science\n",
            "A Bayesian networks approach for predicting protein-protein interactions from genomic data\n",
            "Beyond the hype: Big data concepts, methods, and analytics\n",
            "Visualizing science by citation mapping\n",
            "Mars reconnaissance orbiter's high resolution imaging science experiment (HiRISE)\n",
            "Global change and local solutions: Tapping the unrealized potential of citizen science for biodiversity research\n",
            "Opportunistic data structures with applications\n",
            "Linked data: The story so far\n",
            "A kingdom-level phylogeny of eukaryotes based on combined protein data\n",
            "Clustering data streams\n",
            "Atmospheric modeling, data assimilation and predictability\n",
            "Concrete mathematics: a foundation for computer science\n",
            "Administrative science as socially constructed truth\n",
            "The nature of science and instructional practice: Making the unnatural natural\n",
            "Peer Review in the National Science Foundation: Phase One of a Study.\n",
            "Causal protein-signaling networks derived from multiparameter single-cell data\n",
            "Biomaterials science: an introduction to materials in medicine\n",
            "Geographical information science\n"
          ],
          "name": "stdout"
        }
      ]
    },
    {
      "cell_type": "markdown",
      "metadata": {
        "id": "Dq_7VGmrsum4"
      },
      "source": [
        "## **2. Domain-specific information extraction (10 points)**\n",
        "\n",
        "For the legal case used in the data cleaning exercise: [01-05-1 Adams v Tanner.txt](https://github.com/unt-iialab/INFO5731_FALL2020/blob/master/In_class_exercise/01-05-1%20%20Adams%20v%20Tanner.txt), use [legalNLP](https://lexpredict-lexnlp.readthedocs.io/en/latest/modules/extract/extract.html#nlp-based-extraction-methods) to extract the following inforation from the text (if the information is not exist, just print None):\n",
        "\n",
        "(1) acts, e.g., “section 1 of the Advancing Hope Act, 1986”\n",
        "\n",
        "(2) amounts, e.g., “ten pounds” or “5.8 megawatts”\n",
        "\n",
        "(3) citations, e.g., “10 U.S. 100” or “1998 S. Ct. 1”\n",
        "\n",
        "(4) companies, e.g., “Lexpredict LLC”\n",
        "\n",
        "(5) conditions, e.g., “subject to …” or “unless and until …”\n",
        "\n",
        "(6) constraints, e.g., “no more than”\n",
        "\n",
        "(7) copyright, e.g., “(C) Copyright 2000 Acme”\n",
        "\n",
        "(8) courts, e.g., “Supreme Court of New York”\n",
        "\n",
        "(9) CUSIP, e.g., “392690QT3”\n",
        "\n",
        "(10) dates, e.g., “June 1, 2017” or “2018-01-01”\n",
        "\n",
        "(11) definitions, e.g., “Term shall mean …”\n",
        "\n",
        "(12) distances, e.g., “fifteen miles”\n",
        "\n",
        "(13) durations, e.g., “ten years” or “thirty days”\n",
        "\n",
        "(14) geographic and geopolitical entities, e.g., “New York” or “Norway”\n",
        "\n",
        "(15) money and currency usages, e.g., “$5” or “10 Euro”\n",
        "\n",
        "(16) percents and rates, e.g., “10%” or “50 bps”\n",
        "\n",
        "(17) PII, e.g., “212-212-2121” or “999-999-9999”\n",
        "\n",
        "(18) ratios, e.g.,” 3:1” or “four to three”\n",
        "\n",
        "(19) regulations, e.g., “32 CFR 170”\n",
        "\n",
        "(20) trademarks, e.g., “MyApp (TM)”\n",
        "\n",
        "(21) URLs, e.g., “http://acme.com/”\n",
        "\n",
        "(22) addresses, e.g., “1999 Mount Read Blvd, Rochester, NY, USA, 14615”\n",
        "\n",
        "(23) persons, e.g., “John Doe"
      ]
    },
    {
      "cell_type": "code",
      "metadata": {
        "id": "q3QatyolKxq5"
      },
      "source": [
        "import pandas as pd\n",
        "from six.moves import urllib"
      ],
      "execution_count": 5,
      "outputs": []
    },
    {
      "cell_type": "code",
      "metadata": {
        "id": "IBUyERiAlzKU",
        "outputId": "c37d4f6e-cf8e-4c0a-9c13-cd2edfabdbae",
        "colab": {
          "base_uri": "https://localhost:8080/",
          "height": 470
        }
      },
      "source": [
        "pip install lexnlp==0.2.7"
      ],
      "execution_count": 1,
      "outputs": [
        {
          "output_type": "stream",
          "text": [
            "Requirement already satisfied: lexnlp==0.2.7 in /usr/local/lib/python3.6/dist-packages (0.2.7)\n",
            "Requirement already satisfied: pandas==0.23.4 in /usr/local/lib/python3.6/dist-packages (from lexnlp==0.2.7) (0.23.4)\n",
            "Requirement already satisfied: typing==3.6.2 in /usr/local/lib/python3.6/dist-packages (from lexnlp==0.2.7) (3.6.2)\n",
            "Requirement already satisfied: num2words==0.5.5 in /usr/local/lib/python3.6/dist-packages (from lexnlp==0.2.7) (0.5.5)\n",
            "Requirement already satisfied: nltk==3.2.4 in /usr/local/lib/python3.6/dist-packages (from lexnlp==0.2.7) (3.2.4)\n",
            "Requirement already satisfied: requests==2.22.0 in /usr/local/lib/python3.6/dist-packages (from lexnlp==0.2.7) (2.22.0)\n",
            "Requirement already satisfied: Unidecode==0.4.21 in /usr/local/lib/python3.6/dist-packages (from lexnlp==0.2.7) (0.4.21)\n",
            "Requirement already satisfied: datefinder-lexpredict==0.6.2 in /usr/local/lib/python3.6/dist-packages (from lexnlp==0.2.7) (0.6.2)\n",
            "Requirement already satisfied: pycountry==18.5.26 in /usr/local/lib/python3.6/dist-packages (from lexnlp==0.2.7) (18.5.26)\n",
            "Requirement already satisfied: regex==2017.9.23 in /usr/local/lib/python3.6/dist-packages (from lexnlp==0.2.7) (2017.9.23)\n",
            "Requirement already satisfied: us==1.0.0 in /usr/local/lib/python3.6/dist-packages (from lexnlp==0.2.7) (1.0.0)\n",
            "Requirement already satisfied: gensim==3.4.0 in /usr/local/lib/python3.6/dist-packages (from lexnlp==0.2.7) (3.4.0)\n",
            "Requirement already satisfied: scikit-learn==0.19.1 in /usr/local/lib/python3.6/dist-packages (from lexnlp==0.2.7) (0.19.1)\n",
            "Requirement already satisfied: dateparser==0.7.0 in /usr/local/lib/python3.6/dist-packages (from lexnlp==0.2.7) (0.7.0)\n",
            "Requirement already satisfied: scipy==1.0.0 in /usr/local/lib/python3.6/dist-packages (from lexnlp==0.2.7) (1.0.0)\n",
            "Requirement already satisfied: reporters-db==1.0.12.1 in /usr/local/lib/python3.6/dist-packages (from lexnlp==0.2.7) (1.0.12.1)\n",
            "Requirement already satisfied: python-dateutil>=2.5.0 in /usr/local/lib/python3.6/dist-packages (from pandas==0.23.4->lexnlp==0.2.7) (2.8.1)\n",
            "Requirement already satisfied: pytz>=2011k in /usr/local/lib/python3.6/dist-packages (from pandas==0.23.4->lexnlp==0.2.7) (2018.9)\n",
            "Requirement already satisfied: numpy>=1.9.0 in /usr/local/lib/python3.6/dist-packages (from pandas==0.23.4->lexnlp==0.2.7) (1.19.1)\n",
            "Requirement already satisfied: six in /usr/local/lib/python3.6/dist-packages (from nltk==3.2.4->lexnlp==0.2.7) (1.15.0)\n",
            "Requirement already satisfied: urllib3!=1.25.0,!=1.25.1,<1.26,>=1.21.1 in /usr/local/lib/python3.6/dist-packages (from requests==2.22.0->lexnlp==0.2.7) (1.24.3)\n",
            "Requirement already satisfied: certifi>=2017.4.17 in /usr/local/lib/python3.6/dist-packages (from requests==2.22.0->lexnlp==0.2.7) (2020.6.20)\n",
            "Requirement already satisfied: chardet<3.1.0,>=3.0.2 in /usr/local/lib/python3.6/dist-packages (from requests==2.22.0->lexnlp==0.2.7) (3.0.4)\n",
            "Requirement already satisfied: idna<2.9,>=2.5 in /usr/local/lib/python3.6/dist-packages (from requests==2.22.0->lexnlp==0.2.7) (2.8)\n",
            "Requirement already satisfied: jellyfish==0.5.6 in /usr/local/lib/python3.6/dist-packages (from us==1.0.0->lexnlp==0.2.7) (0.5.6)\n",
            "Requirement already satisfied: smart-open>=1.2.1 in /usr/local/lib/python3.6/dist-packages (from gensim==3.4.0->lexnlp==0.2.7) (2.2.0)\n",
            "Requirement already satisfied: tzlocal in /usr/local/lib/python3.6/dist-packages (from dateparser==0.7.0->lexnlp==0.2.7) (1.5.1)\n"
          ],
          "name": "stdout"
        }
      ]
    },
    {
      "cell_type": "code",
      "metadata": {
        "id": "qc7NtJrLx5tS"
      },
      "source": [
        "# write your code here\n",
        "import urllib\n",
        "legal_case = \"https://raw.githubusercontent.com/unt-iialab/INFO5731_FALL2020/master/In_class_exercise/01-05-1%20%20Adams%20v%20Tanner.txt\"\n",
        "sample_text = []\n",
        "file_data = urllib.request.urlopen(legal_case)"
      ],
      "execution_count": 129,
      "outputs": []
    },
    {
      "cell_type": "code",
      "metadata": {
        "id": "pPEyWEMQJWDK"
      },
      "source": [
        "# Decoding the text\n",
        "for element in file_data:\n",
        "    sample_text.append(element.decode(\"utf-8\").replace('\\r\\n', ' '))"
      ],
      "execution_count": 130,
      "outputs": []
    },
    {
      "cell_type": "code",
      "metadata": {
        "id": "stFDXQE_K5p8",
        "outputId": "dff852fa-9cb3-422c-c0e7-eb0073919b67",
        "colab": {
          "base_uri": "https://localhost:8080/",
          "height": 54
        }
      },
      "source": [
        "def listToString(s):  \n",
        "    str1 = \"\"  \n",
        "    for ele in s:  \n",
        "        str1 += ele   \n",
        "    return str1 \n",
        "text_string = listToString(sample_text)\n",
        "op = text_string\n",
        "punc = \"\"'!()-[]{};:'\"\\,<>./?@#$%^&*_~'\"\n",
        "for ele in text_string:  \n",
        "    if ele in punc:  \n",
        "        text_string = text_string.replace(ele, \"\")\n",
        "print(text_string)"
      ],
      "execution_count": 131,
      "outputs": [
        {
          "output_type": "stream",
          "text": [
            " 5 Ala 740 Supreme Court of Alabama ADAMS v TANNER AND HORTON June Term 1843 Synopsis WRIT of Error to the Circuit Court of Sumter     West Headnotes 2   1 Chattel Mortgages Crops A growing crop has such an existence as to be the subjectmatter of a mortgage or other contract which passes an interest to vest in possession either immediately or at a future time 4 Cases that cite this headnote  2 Creditors’ Remedies Lien and Priority Under St1821 prohibiting a levy on a crop until it has been gathered no lien attaches in favor of a fi fa on a growing crop nor does such lien attach until after the crop has been gathered 5 Cases that cite this headnote  1 This was a trial of the right of property under the statute In November 1840 an execution issued from the circuit court of Sumter at the suit of the plaintiff in error requiring the sheriff of that county to make of the goods c of Allen Harrison and others the sum of thirtyseven hundred and seventyseven 80100 dollars besides costs This execution was levied on thirty bales of cotton as the property of Allen Harrison which was claimed and a bond given to try the right An issue was made up to try the question of the liability of the cotton to the plaintiff’s execution and submitted to a jury On the trial a bill of exceptions was sealed at the instance of the plaintiff The plaintiff proved that he recovered his judgment in October 1839 that an execution 741 was issued thereon on the 7th Nov thereafter and that alias and pluries fieri facias’ issued regularly up to the time levy was made that the cotton levied on was growed on the plantation of Harrison and cultivated by the hands in his service It was proved by the claimants by the production of a written contract that Harrison on the twentysecond of May 1840 in consideration that the claimants were involved as indorsers for Burton  Harrison of Sumter county and were then exposed to an execution amounting to upwards of fourteen thousand dollars bargained and sold to the claimants all his growing crop of cotton c consisting of one hundred and twenty acres c Allen Harrison promised and obliged himself to give up his crop to the use of the claimants at any time to save them from suffering as his indorsers if the crop matured and was gathered he undertook to deliver the cotton in Gainesville The claimants came from Tennessee where they resided about the first of September 1840 bringing with them three or four white laborers and took possession of the crop and slaves and with the latter and white laborers gathered the cotton prepared it for market and when levied on it was in a warehouse in Gainesville The plaintiff then proved by Harrison that the claimants took possession of the crop while he was absent and disposed of it without his consent It was admitted that the contract was made in good faith The court charged the jury that the plaintiff had no lien by virtue of his judgment and execution on the growing crop that Harrison had a right to convey it without being in any manner restrained by them that the writing adduced was a sale of the crop but if it was not and the lien of the fieri facias would have attached upon it when gathered yet if the claimants obtained possession on the first of September and controlled the gathering of the crop then no lien attached and it was not subject to the levy Attorneys and Law Firms R H SMITH for the plaintiff in error made the following points1 The crop of Harrison must in May 1840 have been in an immature state and it is insisted was not the subject of a sale 2 By the common law a growing crop could be levied on and sold 1 Salk Rep 361 1 Bos  P Rep 307 6 East’s Rep 604 note 1 2 Johns Rep 418 422 7 Mass Rep 34 and our statue Aik Dig § 41 p 167 which forbids the levy of an 742 execution on a growing crop is to receive a strict construction It merely inhibits the levy but the lien attaches and a levy and sale may be made after the crop matures and is gathered 3 The contract does not purport to convey the growing crop but is a mere executory agreement requiring some act to be done by Harrison in order to invest the claimants with the right of property Chit on Con 112 207 3 Johns Rep 338 424 5 Wend Rep 26 13 Johns Rep 235 8 Dowl Rep 693 and until this act was done the crop no matter by who gathered because liable to be seized for Harrison’s debts A court of chancery would not compel a specific performance of the contract at the claimant’s instance 4 The charge of the court is also objectionable in deciding disputed facts W M MURPHY with whom was W G JONES for the defendantcited the act of 1821 Aik Dig 167 which declares it to be lawful to levy an execution on a planted crop until it is gathered and contended that no lien attached in favor of the plaintiff This being the case the defendant in execution was not restrained from making the contract which he did with the claimants 2 The lien of an execution is destroyed by an injunction because it takes away the right to levy it In short whenever the right to levy an execution is but temporarily suspended or withdrawn the lien is during that time lost Whipple v Foot 2 Johns Rep 216 3 Wash C C Rep 66 4 How Rep 130 It is admitted that the contract between the defendant in execution and the claimants was in good faith if so the severance and removal of the cotton gave the latter a good title against all creditors of the former Opinion  COLLIER C J  There can be no doubt that a growing crop has such an existence as to be the subject matter of a sale mortgage or other contract which possess an interest to vest in possession either immediately or at some future time This proposition has frequently been assumed as unquestionable the point of inquiry generally being whether under a statute of frauds such as the 29 Chas 2 it is a mere chattel and transferrable by parol without writing Chitty on Con 2412 332 Whipple v Foot 2 Johns Rep 422 Stewart v Doughty 9 Johns Rep 112 743 Austin v Sawyer 9 Cow Rep 39 See also Ravesies v Lee  Alston at last term The contract set out in the bill of exceptions we are inclined to think evidences rather a mortgage than an absolute sale It recites that the claimants are involved as indorsers of a mercantile firm of which the defendant was a partner that an execution for upwards of fourteen thousand dollars against their estate is in the sheriff’s hands and that a conveyance is made of the crop of cotton corn and oats which the grantor agrees to give up at any time to the use of the claimants so as to prevent injury to them as indorsers The defendant in execution might at any time have divested the interest which the contract vested in the claimants by discharging their liability as his indorsers or a judgment creditor might have satisfied the lien and when the crop was gathered have levied on and sold it under a fieri facias We will then consider the writing under which the claimants assert a right as a mortgage with a power to take possession any time during the year unless they should be relieved from their engagements as indorsers It is not pretended that their liability has been satisfied and it is admitted that the parties have acted with good faith so that it is a dry question of law whether the right of the plaintiff or the claimants shall prevail Assuming for the present that the execution of the plaintiffs did not operate a lien upon the planted crop previous to the contract of May 1840 we will inquire whether the defendant in execution had such an interest as could be levied on and sold The claimants had previous to the levy of the execution taken possession of the crop prepared the cotton for market and removed it to a warehouse This possession it is insisted was a trespass because it was acquired in the absence of the defendant in execution and without his consent then given Conceding the truth of the facts stated in the bill of exceptions and we think it will not follow that the possession of the claimants is a nullity and that the case must be considered as if they had never interfered with the crop The contract contains an express undertaking to give up the crop at any time the claimants might require it for their indemnity and if they took possession of it in the absence of the grantor though without his consent if he subsequently acquiesced in it the inference would be if necessary that their acts were approved by him Taking this to be clear 744 law and it will be seen that the defendant in execution at the time of the levy had nothing more than a mere equitable right to redeem the cotton by paying the debts indorsed by the claimants He had no possession coupled with this equity but only a naked equity which it has been held cannot be reached by an ordinary execution Perkins and Elliott v Mayfield 5 Porter’s Rep 182 3 This brings us back to the question whether the execution of the plaintiff was a lien on the growing crop so as to defeat the mortgage to the claimants It has been frequently mooted whether at common law corn c before it is gathered can be seized under a fieri facias Mr Dane in remarking upon this point says “The American editor of Bacon’s Abridgment says ‘Wheat growing in the ground is a chattel and subject to be taken in execution and the sheriff may suffer it to grow till harvest and then cut and sell it or may perhaps sell it growing and the purchaser will then be entitled to enter for the purpose of cutting and carrying it away” He cites Whipple v Foot ut supra also Poole’s case Salk 368 1 Bos  P 397 6 East 604 n But Whipple v Foot seems to be the only case that supports his position that unripe wheat or corn may be taken in execution and the same editor states that nothing can be taken in execution which cannot be sold This position says the learned commentator is no doubt law But it is unnecessary to consider how this matter stands at common law The first section of the act of 1821 “To prevent sheriffs and other officers from levying executions in certain cases enacts that “It shall not be lawful for any sheriff or other officer to levy a writ of fieri facias or other execution on the planted crop of a debtor or person against whom an execution may issue until the crop is gathered” Aik Dig 167 Now here is an express inhibition to levy an execution on a crop while it remains on or in the ground and until it is severed from the soil to which it owes its growth In respect to property thus situated will the lien of an execution attach eo instanti upon its being placed in the hands of an officer If so the act cited will only have the effect of keeping the right to levy it in abeyance until the crop is gathered The lien of an execution does not only operate so as to prevent the debtor from disposing of the property on which it attaches but gives to the creditor the right to have it sold to satisfy his 745 judgment The lien and the right to levy are intimately connected and if the latter be taken away or suspended the effect at common law is the destruction of the former This principle is fully established by Mansony and Hurtell v The President c of the Bank of the United States and its assignees and the citations contained in the opinion of the court in that case as also in my opinion in Wood v Gary et al both decided at the last term That it was competent for the legislature to have made it unlawful to levy an execution on particular property until its condition was changed and still to give it a continuing lien cannot be doubted but there is nothing in the act in question to indicate that such is its intention If the object was merely to suspend the sale until the crop was gathered it would have been very easy to have said so in explicit terms but declaring as the statute does in totidem verbis that the execution shall not be levied the legislature must be supposed to have meant what they have expressed The act was induced by the doubts which existed as to what was the common law and was intended to remove those doubts by declaring what should be the law in future It does not create a lien or authorize a levy in a case in which the law as it then existed was silent The idea that the lien attached upon the planted crop as soon as the execution was delivered to the sheriff though the right to levy it was postponed until a severance took place is attempted to be deduced from the last words of the section cited viz “until the crop is gathered” These words cannot upon any just principles of construction be regarded so potent as to give to an execution a retrospective effect They do not refer to the lien if they did they would postpone it until the crop was gathered but it is the levy they relate to and postpone until that event takes place 4 The right to levy an execution on a planted crop then being expressly taken away by the statute the lien which is connected with and consequent upon that right never attaches until severance This being the case the right of the defendant in execution to make the contract which he did is unquestionable and the title of the claimants coupled as it was with the possession was paramount to any lien which the execution could exert The circuit judge may have mistaken the law in supposing that the contract was a sale but if he did an error in that respect was very immaterial for whether a sale or mortgage as we have 746 seen under the facts of the case the defendant in execution has no interest that could be seised and sold under execution There is no assumption of any material fact in the charge but the possession of the claimant the time when acquired the gathering of the crop c are all referred to the determination of the jury who are instructed if they find them according to the evidence adduced that no lien ever attached in favor of the plaintiff The bona fides of the contract was conceded so that no charge was necessary on that point and it could not with propriety enter into the inquiry of the jury It results from what has been said that the judgment of the circuit court is affirmed  DISSENTING OPINION  ORMOND J 4 The statute which presents the question before the court is that “it shall not be lawful for any sheriff or other officer to levy a writ of fieei facias or other execution on the planted crop of a debtor or person against whom an execution may issue until the crop is gathered” Clay’s Dig 210 § 46 I shall not enter upon the enquiry whether at common law an execution could be levied upon a growing crop though I apprehend it would not be difficult to maintain the affirmative of the proposition It is sufficient for my purpose that the statute supposes such to have been the law as it doubtless was the practice This act must be considered in connection with the other acts upon the same subject The policy of the State as indicated by these statutes is undeniably that all the property of a debtor real and personal to which he has a legal title shall be subject to sale by execution and it appears to me that it would be difficult to assign a reason for the exemption of this species of property from the claims of judgment creditors and for giving to the defendant in execution the right to dispose of it It appears to me with all deference that the argument that because the sheriff was prohibited from levying on a ““planted crop” that therefore the execution had lost its lien and the debtor had the right to sell it is a non sequitur The mischief which the statute designed to remedy was the sacrifice which would be necessarily made by the sale of an immature crop the statute enables the debtor to retain it until it matures and by severing it from the soil to put it 747 in a condition to bring its valuethe lien in the mean time continuing in the plaintiff in execution 5 If further confirmation of the correctness of this view were necessary it will be found I think in the language employed by the legislature The sheriff is forbidden to levy on a “planted crop” until the crop is gathered Now if the view taken by the majority of the court is correct the right secured to the plaintiff in execution of levying on the crop after it is gathered may be frustrated as it was in this case by a sale by the defendant in execution whilst the crop is in an immature state The construction which has been put upon the statute involves the singular anomaly that the legislature for the protection of the debtor has forbidden the plaintiff in execution to sell the property of his debtor because it is not in a condition to bring its value and yet permits the debtor voluntarily by a sale to submit to the same sacrifice for his own benefit It is in effect a gift to the defendant in execution of the growing crop provided he does not gather it himself but disposes of it in its then condition This I feel a thorough conviction was not the intention of the legislature but that it was to secure him from loss by prohibiting a levy and sale of the crop until it was gathered when the temporary suspension of the right to sell ceased All Citations 5 Ala 740 1843 WL 284 End of Document © 2019 Thomson Reuters No claim to original US Government Works Citing References 9 Treatment Title Date Type Depth Headnotes Cited by 1  Booker v Jones’s Adm’x 55 Ala 266 271  Ala Trover for Conversion of Cotton with Counts in Case APPEAL from the Circuit Court of Hale Tried before the Hon M J SAFFOLD Dec Term 1876 Case — Cited by 2  Lehman Durr  Co v Marshall 47 Ala 362 376  Ala TROVER FOR CONVERSION OF COTTON APPEAL from the City Court of Montgomery Tried before Hon JOHN D CUNNINGHAM Jan Term 1872 Case — Cited by 3  Bibb v Janney 45 Ala 329 334  Ala GARNISHMENT WAGES WAIVER OF EXEMPTION APPEAL from City Court of Montgomery Tried before Hon JOHN D CUNNINGHAM Jan Term 1871 Case — Cited by 4  McKenzie v Lampley 31 Ala 526 527  Ala TRIAL OF RIGHT OF PROPERTY IN COTTON APPEAL from the Circuit Court of Barbour Tried before the Hon S D HALE Jan Term 1858 Case — Cited by 5  Evans v Lamar 21 Ala 333 335+  Ala ERROR to the Circuit Court of Autauga Tried before the Hon A B MOORE Jun Term 1852 Case — Cited by  6  Dewey v Bowman 8 Cal 145 147  Cal The judgment of the Court below against Jacob S Cohen should be reversed for the following reasons Because the finding of the Court was so far as Cohen was concerned Jul Term 1857 Case — Mentioned by 7  Rees v Coats 65 Ala 256 258  Ala Trover for Conversion of Three Bales of Cotton APPEAL from the Circuit Court of Etowah Tried before the Hon WM L WHITLOCK Nov Term 1880 Case — Mentioned by 8  Edwards v Thompson 4 SW 913 914  Tenn Appeal from circuit court Weakley county May 1887 Case — — 9  Growing crops as subject to levy and seizure under attachment or execution 103 ALR 464 Generally at common law growing crops raised by annual planting while still attached to the soil are regarded as personal chattels subject to levy and seizure under attachment 1936 ALR — — Table of Authorities 3 Treatment Referenced Title Type Depth Quoted Page Number Mentioned 1  Austin v Sawyer 9 Cow 39 NYSup 1828 Parol evidence is not admissible to contradict or substantially vary a written contract And where A quitclaimed land to W on which a crop of wheat was growing reserving the Case 2 Cited  2  Perkins v Mayfield 5 Port 182 Ala 1837 On writ of error to the Circuit Court of Tuskaloosa Case 2+ Mentioned 3  Stewart v Doughty 9 Johns 108 NYSup 1812 A let to B a farm for six years and A agreed “to render yield and pay to A the one half of all the wheat rye corn and other grain raised on the farm in each year in the Case 2 Filings There are no Filings for this citation Negative Treatment There are no Negative Treatment results for this citation History There are no History results for this citation \n"
          ],
          "name": "stdout"
        }
      ]
    },
    {
      "cell_type": "code",
      "metadata": {
        "id": "hQgHEnYuqmgA",
        "outputId": "30a799ad-5401-41e3-c99f-4afae83f896f",
        "colab": {
          "base_uri": "https://localhost:8080/",
          "height": 269
        }
      },
      "source": [
        "!pip install scipy==1.4.1"
      ],
      "execution_count": 9,
      "outputs": [
        {
          "output_type": "stream",
          "text": [
            "Collecting scipy==1.4.1\n",
            "  Using cached https://files.pythonhosted.org/packages/dc/29/162476fd44203116e7980cfbd9352eef9db37c49445d1fec35509022f6aa/scipy-1.4.1-cp36-cp36m-manylinux1_x86_64.whl\n",
            "Requirement already satisfied: numpy>=1.13.3 in /usr/local/lib/python3.6/dist-packages (from scipy==1.4.1) (1.19.1)\n",
            "\u001b[31mERROR: yellowbrick 0.9.1 has requirement scikit-learn>=0.20, but you'll have scikit-learn 0.19.1 which is incompatible.\u001b[0m\n",
            "\u001b[31mERROR: umap-learn 0.4.6 has requirement scikit-learn>=0.20, but you'll have scikit-learn 0.19.1 which is incompatible.\u001b[0m\n",
            "\u001b[31mERROR: tensorflow 2.3.0 has requirement numpy<1.19.0,>=1.16.0, but you'll have numpy 1.19.1 which is incompatible.\u001b[0m\n",
            "\u001b[31mERROR: plotnine 0.6.0 has requirement pandas>=0.25.0, but you'll have pandas 0.23.4 which is incompatible.\u001b[0m\n",
            "\u001b[31mERROR: lexnlp 0.2.7 has requirement scipy==1.0.0, but you'll have scipy 1.4.1 which is incompatible.\u001b[0m\n",
            "\u001b[31mERROR: imbalanced-learn 0.4.3 has requirement scikit-learn>=0.20, but you'll have scikit-learn 0.19.1 which is incompatible.\u001b[0m\n",
            "\u001b[31mERROR: albumentations 0.1.12 has requirement imgaug<0.2.7,>=0.2.5, but you'll have imgaug 0.2.9 which is incompatible.\u001b[0m\n",
            "Installing collected packages: scipy\n",
            "  Found existing installation: scipy 1.0.0\n",
            "    Uninstalling scipy-1.0.0:\n",
            "      Successfully uninstalled scipy-1.0.0\n",
            "Successfully installed scipy-1.4.1\n"
          ],
          "name": "stdout"
        }
      ]
    },
    {
      "cell_type": "code",
      "metadata": {
        "id": "0pO0skBnPbeg"
      },
      "source": [
        "import lexnlp.extract.en.acts\n",
        "import lexnlp.extract.en.amounts\n",
        "import lexnlp.extract.en.citations\n",
        "import lexnlp.extract.en.entities.nltk_re\n",
        "import lexnlp.extract.en.conditions\n",
        "import lexnlp.extract.en.constraints\n",
        "import lexnlp.extract.en.copyright\n",
        "import lexnlp.extract.en.courts\n",
        "import lexnlp.extract.en.cusip\n",
        "import lexnlp.extract.en.dates\n",
        "import lexnlp.extract.en.definitions\n",
        "import lexnlp.extract.en.distances\n",
        "import lexnlp.extract.en.durations"
      ],
      "execution_count": 132,
      "outputs": []
    },
    {
      "cell_type": "code",
      "metadata": {
        "id": "0oxcQT1hK80d",
        "outputId": "fc1306c8-e593-4fd9-85a2-c3d82bad18cb",
        "colab": {
          "base_uri": "https://localhost:8080/",
          "height": 34
        }
      },
      "source": [
        "# extracting acts\n",
        "print(lexnlp.extract.en.acts.get_act_list(text_string))"
      ],
      "execution_count": 133,
      "outputs": [
        {
          "output_type": "stream",
          "text": [
            "[]\n"
          ],
          "name": "stdout"
        }
      ]
    },
    {
      "cell_type": "code",
      "metadata": {
        "id": "XLOc3Ha6Y-rx",
        "outputId": "030c26b5-8fa5-42ad-fa62-e7dbb156f9e8",
        "colab": {
          "base_uri": "https://localhost:8080/",
          "height": 168
        }
      },
      "source": [
        "import nltk\n",
        "nltk.download('punkt')\n",
        "nltk.download('averaged_perceptron_tagger')\n",
        "nltk.download('wordnet')"
      ],
      "execution_count": 134,
      "outputs": [
        {
          "output_type": "stream",
          "text": [
            "[nltk_data] Downloading package punkt to /root/nltk_data...\n",
            "[nltk_data]   Package punkt is already up-to-date!\n",
            "[nltk_data] Downloading package averaged_perceptron_tagger to\n",
            "[nltk_data]     /root/nltk_data...\n",
            "[nltk_data]   Package averaged_perceptron_tagger is already up-to-\n",
            "[nltk_data]       date!\n",
            "[nltk_data] Downloading package wordnet to /root/nltk_data...\n",
            "[nltk_data]   Package wordnet is already up-to-date!\n"
          ],
          "name": "stdout"
        },
        {
          "output_type": "execute_result",
          "data": {
            "text/plain": [
              "True"
            ]
          },
          "metadata": {
            "tags": []
          },
          "execution_count": 134
        }
      ]
    },
    {
      "cell_type": "code",
      "metadata": {
        "id": "CrSjybqnTXFv",
        "outputId": "49ba5c50-d96d-4645-b1e9-ed9a08f7cc0e",
        "colab": {
          "base_uri": "https://localhost:8080/",
          "height": 54
        }
      },
      "source": [
        "# extracting amounts\n",
        "print(list(lexnlp.extract.en.amounts.get_amounts(text_string)))"
      ],
      "execution_count": 135,
      "outputs": [
        {
          "output_type": "stream",
          "text": [
            "[5.0, 740.0, 1843.0, 2.0, 1.0, 4.0, 2.0, 5.0, 1.0, 1840.0, 80100.0, 30, 1839.0, 741.0, 1840.0, 14000, 120, 1, 1840.0, 3, 4, 1, 1840.0, 2.0, 1.0, 361.0, 1.0, 307.0, 6.0, 604.0, 1.0, 2.0, 418.0, 422.0, 7.0, 34.0, 41.0, 167.0, 742.0, 3.0, 112.0, 207.0, 3.0, 338.0, 424.0, 5.0, 26.0, 13.0, 235.0, 8.0, 693.0, 4.0, 1821.0, 167.0, 2.0, 2.0, 216.0, 3.0, 66.0, 4.0, 130.0, 29.0, 2.0, 2412.0, 332.0, 2.0, 422.0, 9.0, 112.0, 743.0, 9.0, 39.0, 14000, 1840.0, 744.0, 5.0, 182.0, 3.0, 368.0, 1.0, 397.0, 6.0, 604.0, 1, 1821.0, 167.0, 745.0, 4.0, 746.0, 4.0, 210.0, 46.0, 747.0, 5.0, 5.0, 740.0, 1843.0, 284.0, 2019.0, 9.0, 1.0, 55.0, 266.0, 271.0, 1876.0, 2.0, 47.0, 362.0, 376.0, 1872.0, 3.0, 45.0, 329.0, 334.0, 1871.0, 4.0, 31.0, 526.0, 527.0, 1858.0, 5.0, 21.0, 333.0, 335.0, 1852.0, 6.0, 8.0, 145.0, 147.0, 1857.0, 7.0, 65.0, 256.0, 258.0, 3, 1880.0, 8.0, 4.0, 913.0, 914.0, 1887.0, 9.0, 103.0, 464.0, 1936.0, 3.0, 1.0, 9.0, 39.0, 1828.0, 2.0, 2.0, 5.0, 182.0, 1837.0, 2.0, 3.0, 9.0, 108.0, 1812.0, 6, 1, 2.0]\n"
          ],
          "name": "stdout"
        }
      ]
    },
    {
      "cell_type": "code",
      "metadata": {
        "id": "8RKFs7d9YIZN",
        "outputId": "cb60f47e-d8b2-4671-a34c-0cc4a1022a4b",
        "colab": {
          "base_uri": "https://localhost:8080/",
          "height": 34
        }
      },
      "source": [
        "# extracting citations\n",
        "print(list(lexnlp.extract.en.citations.get_citations(text_string)))"
      ],
      "execution_count": 136,
      "outputs": [
        {
          "output_type": "stream",
          "text": [
            "[(1843, 'WL', 'West Law Citation', 284, None, None, None)]\n"
          ],
          "name": "stdout"
        }
      ]
    },
    {
      "cell_type": "code",
      "metadata": {
        "id": "BjTREEcRbPfa",
        "outputId": "a1cddfbf-4dfc-4903-8676-0b39683d37b6",
        "colab": {
          "base_uri": "https://localhost:8080/",
          "height": 34
        }
      },
      "source": [
        "# extracting companies\n",
        "print(list(lexnlp.extract.en.entities.nltk_re.get_companies(text_string)))"
      ],
      "execution_count": 137,
      "outputs": [
        {
          "output_type": "stream",
          "text": [
            "[('Cited by 2  Lehman Durr', 'Co', None)]\n"
          ],
          "name": "stdout"
        }
      ]
    },
    {
      "cell_type": "code",
      "metadata": {
        "id": "Gci4wGQ9enc0",
        "outputId": "8cfc9a95-ff78-4db0-8a9c-e5995db891a9",
        "colab": {
          "base_uri": "https://localhost:8080/",
          "height": 54
        }
      },
      "source": [
        "# extracting conditions\n",
        "print(list(lexnlp.extract.en.conditions.get_conditions(text_string)))"
      ],
      "execution_count": 138,
      "outputs": [
        {
          "output_type": "stream",
          "text": [
            "[('until', '5 Ala 740 Supreme Court of Alabama ADAMS v TANNER AND HORTON June Term 1843 Synopsis WRIT of Error to the Circuit Court of Sumter \\xa0   West Headnotes 2   1 Chattel Mortgages Crops A growing crop has such an existence as to be the subjectmatter of a mortgage or other contract which passes an interest to vest in possession either immediately or at a future time 4 Cases that cite this headnote  2 Creditors’ Remedies Lien and Priority Under St1821 prohibiting a levy on a crop', ''), ('until', 'it has been gathered no lien attaches in favor of a fi fa on a growing crop nor does such lien attach', ''), ('if', 'after the crop has been gathered 5 Cases that cite this headnote  1 This was a trial of the right of property under the statute In November 1840 an execution issued from the circuit court of Sumter at the suit of the plaintiff in error requiring the sheriff of that county to make of the goods c of Allen Harrison and others the sum of thirtyseven hundred and seventyseven 80100 dollars besides costs This execution was levied on thirty bales of cotton as the property of Allen Harrison which was claimed and a bond given to try the right An issue was made up to try the question of the liability of the cotton to the plaintiff’s execution and submitted to a jury On the trial a bill of exceptions was sealed at the instance of the plaintiff The plaintiff proved that he recovered his judgment in October 1839 that an execution 741 was issued thereon on the 7th Nov thereafter and that alias and pluries fieri facias’ issued regularly up to the time levy was made that the cotton levied on was growed on the plantation of Harrison and cultivated by the hands in his service It was proved by the claimants by the production of a written contract that Harrison on the twentysecond of May 1840 in consideration that the claimants were involved as indorsers for Burton  Harrison of Sumter county and were then exposed to an execution amounting to upwards of fourteen thousand dollars bargained and sold to the claimants all his growing crop of cotton c consisting of one hundred and twenty acres c Allen Harrison promised and obliged himself to give up his crop to the use of the claimants at any time to save them from suffering as his indorsers', ''), ('where', 'the crop matured and was gathered he undertook to deliver the cotton in Gainesville The claimants came from Tennessee', ''), ('when', 'they resided about the first of September 1840 bringing with them three or four white laborers and took possession of the crop and slaves and with the latter and white laborers gathered the cotton prepared it for market and', ''), ('if', 'levied on it was in a warehouse in Gainesville The plaintiff then proved by Harrison that the claimants took possession of the crop while he was absent and disposed of it without his consent It was admitted that the contract was made in good faith The court charged the jury that the plaintiff had no lien by virtue of his judgment and execution on the growing crop that Harrison had a right to convey it without being in any manner restrained by them that the writing adduced was a sale of the crop but', ''), ('when', 'it was not and the lien of the fieri facias would have attached upon it', ''), ('if', 'gathered yet', ''), ('not subject to', 'the claimants obtained possession on the first of September and controlled the gathering of the crop then no lien attached and it was', ''), ('until', 'the levy Attorneys and Law Firms R H SMITH for the plaintiff in error made the following points1 The crop of Harrison must in May 1840 have been in an immature state and it is insisted was not the subject of a sale 2 By the common law a growing crop could be levied on and sold 1 Salk Rep 361 1 Bos  P Rep 307 6 East’s Rep 604 note 1 2 Johns Rep 418 422 7 Mass Rep 34 and our statue Aik Dig § 41 p 167 which forbids the levy of an 742 execution on a growing crop is to receive a strict construction It merely inhibits the levy but the lien attaches and a levy and sale may be made after the crop matures and is gathered 3 The contract does not purport to convey the growing crop but is a mere executory agreement requiring some act to be done by Harrison in order to invest the claimants with the right of property Chit on Con 112 207 3 Johns Rep 338 424 5 Wend Rep 26 13 Johns Rep 235 8 Dowl Rep 693 and', ''), ('until', 'this act was done the crop no matter by who gathered because liable to be seized for Harrison’s debts A court of chancery would not compel a specific performance of the contract at the claimant’s instance 4 The charge of the court is also objectionable in deciding disputed facts W M MURPHY with whom was W G JONES for the defendantcited the act of 1821 Aik Dig 167 which declares it to be lawful to levy an execution on a planted crop', ''), ('if', 'it is gathered and contended that no lien attached in favor of the plaintiff This being the case the defendant in execution was not restrained from making the contract which he did with the claimants 2 The lien of an execution is destroyed by an injunction because it takes away the right to levy it In short whenever the right to levy an execution is but temporarily suspended or withdrawn the lien is during that time lost Whipple v Foot 2 Johns Rep 216 3 Wash C C Rep 66 4 How Rep 130 It is admitted that the contract between the defendant in execution and the claimants was in good faith', ''), ('when', 'so the severance and removal of the cotton gave the latter a good title against all creditors of the former Opinion  COLLIER C J  There can be no doubt that a growing crop has such an existence as to be the subject matter of a sale mortgage or other contract which possess an interest to vest in possession either immediately or at some future time This proposition has frequently been assumed as unquestionable the point of inquiry generally being whether under a statute of frauds such as the 29 Chas 2 it is a mere chattel and transferrable by parol without writing Chitty on Con 2412 332 Whipple v Foot 2 Johns Rep 422 Stewart v Doughty 9 Johns Rep 112 743 Austin v Sawyer 9 Cow Rep 39 See also Ravesies v Lee  Alston at last term The contract set out in the bill of exceptions we are inclined to think evidences rather a mortgage than an absolute sale It recites that the claimants are involved as indorsers of a mercantile firm of which the defendant was a partner that an execution for upwards of fourteen thousand dollars against their estate is in the sheriff’s hands and that a conveyance is made of the crop of cotton corn and oats which the grantor agrees to give up at any time to the use of the claimants so as to prevent injury to them as indorsers The defendant in execution might at any time have divested the interest which the contract vested in the claimants by discharging their liability as his indorsers or a judgment creditor might have satisfied the lien and', ''), ('unless', 'the crop was gathered have levied on and sold it under a fieri facias We will then consider the writing under which the claimants assert a right as a mortgage with a power to take possession any time during the year', ''), ('if', 'they should be relieved from their engagements as indorsers It is not pretended that their liability has been satisfied and it is admitted that the parties have acted with good faith so that it is a dry question of law whether the right of the plaintiff or the claimants shall prevail Assuming for the present that the execution of the plaintiffs did not operate a lien upon the planted crop previous to the contract of May 1840 we will inquire whether the defendant in execution had such an interest as could be levied on and sold The claimants had previous to the levy of the execution taken possession of the crop prepared the cotton for market and removed it to a warehouse This possession it is insisted was a trespass because it was acquired in the absence of the defendant in execution and without his consent then given Conceding the truth of the facts stated in the bill of exceptions and we think it will not follow that the possession of the claimants is a nullity and that the case must be considered as', ''), ('if', 'they had never interfered with the crop The contract contains an express undertaking to give up the crop at any time the claimants might require it for their indemnity and', ''), ('if', 'they took possession of it in the absence of the grantor though without his consent', ''), ('if', 'he subsequently acquiesced in it the inference would be', ''), ('subject to', 'necessary that their acts were approved by him Taking this to be clear 744 law and it will be seen that the defendant in execution at the time of the levy had nothing more than a mere equitable right to redeem the cotton by paying the debts indorsed by the claimants He had no possession coupled with this equity but only a naked equity which it has been held cannot be reached by an ordinary execution Perkins and Elliott v Mayfield 5 Porter’s Rep 182 3 This brings us back to the question whether the execution of the plaintiff was a lien on the growing crop so as to defeat the mortgage to the claimants It has been frequently mooted whether at common law corn c before it is gathered can be seized under a fieri facias Mr Dane in remarking upon this point says “The American editor of Bacon’s Abridgment says ‘Wheat growing in the ground is a chattel and', ''), ('until', 'be taken in execution and the sheriff may suffer it to grow till harvest and then cut and sell it or may perhaps sell it growing and the purchaser will then be entitled to enter for the purpose of cutting and carrying it away” He cites Whipple v Foot ut supra also Poole’s case Salk 368 1 Bos  P 397 6 East 604 n But Whipple v Foot seems to be the only case that supports his position that unripe wheat or corn may be taken in execution and the same editor states that nothing can be taken in execution which cannot be sold This position says the learned commentator is no doubt law But it is unnecessary to consider how this matter stands at common law The first section of the act of 1821 “To prevent sheriffs and other officers from levying executions in certain cases enacts that “It shall not be lawful for any sheriff or other officer to levy a writ of fieri facias or other execution on the planted crop of a debtor or person against whom an execution may issue', ''), ('until', 'the crop is gathered” Aik Dig 167 Now here is an express inhibition to levy an execution on a crop while it remains on or in the ground and', ''), ('if', 'it is severed from the soil to which it owes its growth In respect to property thus situated will the lien of an execution attach eo instanti upon its being placed in the hands of an officer', ''), ('until', 'so the act cited will only have the effect of keeping the right to levy it in abeyance', ''), ('if', 'the crop is gathered The lien of an execution does not only operate so as to prevent the debtor from disposing of the property on which it attaches but gives to the creditor the right to have it sold to satisfy his 745 judgment The lien and the right to levy are intimately connected and', ''), ('until', 'the latter be taken away or suspended the effect at common law is the destruction of the former This principle is fully established by Mansony and Hurtell v The President c of the Bank of the United States and its assignees and the citations contained in the opinion of the court in that case as also in my opinion in Wood v Gary et al both decided at the last term That it was competent for the legislature to have made it unlawful to levy an execution on particular property', ''), ('if', 'its condition was changed and still to give it a continuing lien cannot be doubted but there is nothing in the act in question to indicate that such is its intention', ''), ('until', 'the object was merely to suspend the sale', ''), ('as soon as', 'the crop was gathered it would have been very easy to have said so in explicit terms but declaring as the statute does in totidem verbis that the execution shall not be levied the legislature must be supposed to have meant what they have expressed The act was induced by the doubts which existed as to what was the common law and was intended to remove those doubts by declaring what should be the law in future It does not create a lien or authorize a levy in a case in which the law as it then existed was silent The idea that the lien attached upon the planted crop', ''), ('until', 'the execution was delivered to the sheriff though the right to levy it was postponed', ''), ('if', 'a severance took place is attempted to be deduced from the last words of the section cited viz “until the crop is gathered” These words cannot upon any just principles of construction be regarded so potent as to give to an execution a retrospective effect They do not refer to the lien', ''), ('until', 'they did they would postpone it', ''), ('until', 'the crop was gathered but it is the levy they relate to and postpone', ''), ('until', 'that event takes place 4 The right to levy an execution on a planted crop then being expressly taken away by the statute the lien which is connected with and consequent upon that right never attaches', ''), ('if', 'severance This being the case the right of the defendant in execution to make the contract which he did is unquestionable and the title of the claimants coupled as it was with the possession was paramount to any lien which the execution could exert The circuit judge may have mistaken the law in supposing that the contract was a sale but', ''), ('when', 'he did an error in that respect was very immaterial for whether a sale or mortgage as we have 746 seen under the facts of the case the defendant in execution has no interest that could be seised and sold under execution There is no assumption of any material fact in the charge but the possession of the claimant the time', ''), ('if', 'acquired the gathering of the crop c are all referred to the determination of the jury who are instructed', ''), ('until', 'they find them according to the evidence adduced that no lien ever attached in favor of the plaintiff The bona fides of the contract was conceded so that no charge was necessary on that point and it could not with propriety enter into the inquiry of the jury It results from what has been said that the judgment of the circuit court is affirmed  DISSENTING OPINION  ORMOND J 4 The statute which presents the question before the court is that “it shall not be lawful for any sheriff or other officer to levy a writ of fieei facias or other execution on the planted crop of a debtor or person against whom an execution may issue', ''), ('subject to', 'the crop is gathered” Clay’s Dig 210 § 46 I shall not enter upon the enquiry whether at common law an execution could be levied upon a growing crop though I apprehend it would not be difficult to maintain the affirmative of the proposition It is sufficient for my purpose that the statute supposes such to have been the law as it doubtless was the practice This act must be considered in connection with the other acts upon the same subject The policy of the State as indicated by these statutes is undeniably that all the property of a debtor real and personal to which he has a legal title shall be', ''), ('until', 'sale by execution and it appears to me that it would be difficult to assign a reason for the exemption of this species of property from the claims of judgment creditors and for giving to the defendant in execution the right to dispose of it It appears to me with all deference that the argument that because the sheriff was prohibited from levying on a ““planted crop” that therefore the execution had lost its lien and the debtor had the right to sell it is a non sequitur The mischief which the statute designed to remedy was the sacrifice which would be necessarily made by the sale of an immature crop the statute enables the debtor to retain it', ''), ('if', 'it matures and by severing it from the soil to put it 747 in a condition to bring its valuethe lien in the mean time continuing in the plaintiff in execution 5', ''), ('until', 'further confirmation of the correctness of this view were necessary it will be found I think in the language employed by the legislature The sheriff is forbidden to levy on a “planted crop”', ''), ('if', 'the crop is gathered Now', ''), ('until', 'the view taken by the majority of the court is correct the right secured to the plaintiff in execution of levying on the crop after it is gathered may be frustrated as it was in this case by a sale by the defendant in execution whilst the crop is in an immature state The construction which has been put upon the statute involves the singular anomaly that the legislature for the protection of the debtor has forbidden the plaintiff in execution to sell the property of his debtor because it is not in a condition to bring its value and yet permits the debtor voluntarily by a sale to submit to the same sacrifice for his own benefit It is in effect a gift to the defendant in execution of the growing crop provided he does not gather it himself but disposes of it in its then condition This I feel a thorough conviction was not the intention of the legislature but that it was to secure him from loss by prohibiting a levy and sale of the crop', ''), ('when', 'it was gathered', ''), ('subject to', 'the temporary suspension of the right to sell ceased All Citations 5 Ala 740 1843 WL 284 End of Document © 2019 Thomson Reuters No claim to original US Government Works Citing References 9 Treatment Title Date Type Depth Headnotes Cited by 1  Booker v Jones’s Adm’x 55 Ala 266 271  Ala Trover for Conversion of Cotton with Counts in Case APPEAL from the Circuit Court of Hale Tried before the Hon M J SAFFOLD Dec Term 1876 Case — Cited by 2  Lehman Durr  Co v Marshall 47 Ala 362 376  Ala TROVER FOR CONVERSION OF COTTON APPEAL from the City Court of Montgomery Tried before Hon JOHN D CUNNINGHAM Jan Term 1872 Case — Cited by 3  Bibb v Janney 45 Ala 329 334  Ala GARNISHMENT WAGES WAIVER OF EXEMPTION APPEAL from City Court of Montgomery Tried before Hon JOHN D CUNNINGHAM Jan Term 1871 Case — Cited by 4  McKenzie v Lampley 31 Ala 526 527  Ala TRIAL OF RIGHT OF PROPERTY IN COTTON APPEAL from the Circuit Court of Barbour Tried before the Hon S D HALE Jan Term 1858 Case — Cited by 5  Evans v Lamar 21 Ala 333 335+  Ala ERROR to the Circuit Court of Autauga Tried before the Hon A B MOORE Jun Term 1852 Case — Cited by  6  Dewey v Bowman 8 Cal 145 147  Cal The judgment of the Court below against Jacob S Cohen should be reversed for the following reasons Because the finding of the Court was so far as Cohen was concerned Jul Term 1857 Case — Mentioned by 7  Rees v Coats 65 Ala 256 258  Ala Trover for Conversion of Three Bales of Cotton APPEAL from the Circuit Court of Etowah Tried before the Hon WM L WHITLOCK Nov Term 1880 Case — Mentioned by 8  Edwards v Thompson 4 SW 913 914  Tenn Appeal from circuit court Weakley county May 1887 Case — — 9  Growing crops as', ''), ('subject to', 'levy and seizure under attachment or execution 103 ALR 464 Generally at common law growing crops raised by annual planting while still attached to the soil are regarded as personal chattels', ''), ('where', 'levy and seizure under attachment 1936 ALR — — Table of Authorities 3 Treatment Referenced Title Type Depth Quoted Page Number Mentioned 1  Austin v Sawyer 9 Cow 39 NYSup 1828 Parol evidence is not admissible to contradict or substantially vary a written contract And', '')]\n"
          ],
          "name": "stdout"
        }
      ]
    },
    {
      "cell_type": "code",
      "metadata": {
        "id": "C2jpcHQbgcLz",
        "outputId": "92cf34e3-a589-47cf-c9df-84b51aa64b50",
        "colab": {
          "base_uri": "https://localhost:8080/",
          "height": 54
        }
      },
      "source": [
        "# extracting constraints\n",
        "print(list(lexnlp.extract.en.constraints.get_constraints(text_string)))"
      ],
      "execution_count": 139,
      "outputs": [
        {
          "output_type": "stream",
          "text": [
            "[('after', '5 ala 740 supreme court of alabama adams v tanner and horton june term 1843 synopsis writ of error to the circuit court of sumter \\xa0   west headnotes 2   1 chattel mortgages crops a growing crop has such an existence as to be the subjectmatter of a mortgage or other contract which passes an interest to vest in possession either immediately or at a future time 4 cases that cite this headnote  2 creditors’ remedies lien and priority under st1821 prohibiting a levy on a crop until it has been gathered no lien attaches in favor of a fi fa on a growing crop nor does such lien attach until', ''), ('first of', 'the crop has been gathered 5 cases that cite this headnote  1 this was a trial of the right of property under the statute in november 1840 an execution issued from the circuit court of sumter at the suit of the plaintiff in error requiring the sheriff of that county to make of the goods c of allen harrison and others the sum of thirtyseven hundred and seventyseven 80100 dollars besides costs this execution was levied on thirty bales of cotton as the property of allen harrison which was claimed and a bond given to try the right an issue was made up to try the question of the liability of the cotton to the plaintiff’s execution and submitted to a jury on the trial a bill of exceptions was sealed at the instance of the plaintiff the plaintiff proved that he recovered his judgment in october 1839 that an execution 741 was issued thereon on the 7th nov thereafter and that alias and pluries fieri facias’ issued regularly up to the time levy was made that the cotton levied on was growed on the plantation of harrison and cultivated by the hands in his service it was proved by the claimants by the production of a written contract that harrison on the twentysecond of may 1840 in consideration that the claimants were involved as indorsers for burton  harrison of sumter county and were then exposed to an execution amounting to upwards of fourteen thousand dollars bargained and sold to the claimants all his growing crop of cotton c consisting of one hundred and twenty acres c allen harrison promised and obliged himself to give up his crop to the use of the claimants at any time to save them from suffering as his indorsers if the crop matured and was gathered he undertook to deliver the cotton in gainesville the claimants came from tennessee where they resided about the', ''), ('first of', 'september 1840 bringing with them three or four white laborers and took possession of the crop and slaves and with the latter and white laborers gathered the cotton prepared it for market and when levied on it was in a warehouse in gainesville the plaintiff then proved by harrison that the claimants took possession of the crop while he was absent and disposed of it without his consent it was admitted that the contract was made in good faith the court charged the jury that the plaintiff had no lien by virtue of his judgment and execution on the growing crop that harrison had a right to convey it without being in any manner restrained by them that the writing adduced was a sale of the crop but if it was not and the lien of the fieri facias would have attached upon it when gathered yet if the claimants obtained possession on the', ''), ('after', 'september and controlled the gathering of the crop then no lien attached and it was not subject to the levy attorneys and law firms r h smith for the plaintiff in error made the following points1 the crop of harrison must in may 1840 have been in an immature state and it is insisted was not the subject of a sale 2 by the common law a growing crop could be levied on and sold 1 salk rep 361 1 bos  p rep 307 6 east’s rep 604 note 1 2 johns rep 418 422 7 mass rep 34 and our statue aik dig § 41 p 167 which forbids the levy of an 742 execution on a growing crop is to receive a strict construction it merely inhibits the levy but the lien attaches and a levy and sale may be made', ''), ('more than', 'the crop matures and is gathered 3 the contract does not purport to convey the growing crop but is a mere executory agreement requiring some act to be done by harrison in order to invest the claimants with the right of property chit on con 112 207 3 johns rep 338 424 5 wend rep 26 13 johns rep 235 8 dowl rep 693 and until this act was done the crop no matter by who gathered because liable to be seized for harrison’s debts a court of chancery would not compel a specific performance of the contract at the claimant’s instance 4 the charge of the court is also objectionable in deciding disputed facts w m murphy with whom was w g jones for the defendantcited the act of 1821 aik dig 167 which declares it to be lawful to levy an execution on a planted crop until it is gathered and contended that no lien attached in favor of the plaintiff this being the case the defendant in execution was not restrained from making the contract which he did with the claimants 2 the lien of an execution is destroyed by an injunction because it takes away the right to levy it in short whenever the right to levy an execution is but temporarily suspended or withdrawn the lien is during that time lost whipple v foot 2 johns rep 216 3 wash c c rep 66 4 how rep 130 it is admitted that the contract between the defendant in execution and the claimants was in good faith if so the severance and removal of the cotton gave the latter a good title against all creditors of the former opinion  collier c j  there can be no doubt that a growing crop has such an existence as to be the subject matter of a sale mortgage or other contract which possess an interest to vest in possession either immediately or at some future time this proposition has frequently been assumed as unquestionable the point of inquiry generally being whether under a statute of frauds such as the 29 chas 2 it is a mere chattel and transferrable by parol without writing chitty on con 2412 332 whipple v foot 2 johns rep 422 stewart v doughty 9 johns rep 112 743 austin v sawyer 9 cow rep 39 see also ravesies v lee  alston at last term the contract set out in the bill of exceptions we are inclined to think evidences rather a mortgage than an absolute sale it recites that the claimants are involved as indorsers of a mercantile firm of which the defendant was a partner that an execution for upwards of fourteen thousand dollars against their estate is in the sheriff’s hands and that a conveyance is made of the crop of cotton corn and oats which the grantor agrees to give up at any time to the use of the claimants so as to prevent injury to them as indorsers the defendant in execution might at any time have divested the interest which the contract vested in the claimants by discharging their liability as his indorsers or a judgment creditor might have satisfied the lien and when the crop was gathered have levied on and sold it under a fieri facias we will then consider the writing under which the claimants assert a right as a mortgage with a power to take possession any time during the year unless they should be relieved from their engagements as indorsers it is not pretended that their liability has been satisfied and it is admitted that the parties have acted with good faith so that it is a dry question of law whether the right of the plaintiff or the claimants shall prevail assuming for the present that the execution of the plaintiffs did not operate a lien upon the planted crop previous to the contract of may 1840 we will inquire whether the defendant in execution had such an interest as could be levied on and sold the claimants had previous to the levy of the execution taken possession of the crop prepared the cotton for market and removed it to a warehouse this possession it is insisted was a trespass because it was acquired in the absence of the defendant in execution and without his consent then given conceding the truth of the facts stated in the bill of exceptions and we think it will not follow that the possession of the claimants is a nullity and that the case must be considered as if they had never interfered with the crop the contract contains an express undertaking to give up the crop at any time the claimants might require it for their indemnity and if they took possession of it in the absence of the grantor though without his consent if he subsequently acquiesced in it the inference would be if necessary that their acts were approved by him taking this to be clear 744 law and it will be seen that the defendant in execution at the time of the levy had nothing', ''), ('before', 'a mere equitable right to redeem the cotton by paying the debts indorsed by the claimants he had no possession coupled with this equity but only a naked equity which it has been held cannot be reached by an ordinary execution perkins and elliott v mayfield 5 porter’s rep 182 3 this brings us back to the question whether the execution of the plaintiff was a lien on the growing crop so as to defeat the mortgage to the claimants it has been frequently mooted whether at common law corn c', ''), ('before', 'it is gathered can be seized under a fieri facias mr dane in remarking upon this point says “the american editor of bacon’s abridgment says ‘wheat growing in the ground is a chattel and subject to be taken in execution and the sheriff may suffer it to grow till harvest and then cut and sell it or may perhaps sell it growing and the purchaser will then be entitled to enter for the purpose of cutting and carrying it away” he cites whipple v foot ut supra also poole’s case salk 368 1 bos  p 397 6 east 604 n but whipple v foot seems to be the only case that supports his position that unripe wheat or corn may be taken in execution and the same editor states that nothing can be taken in execution which cannot be sold this position says the learned commentator is no doubt law but it is unnecessary to consider how this matter stands at common law the first section of the act of 1821 “to prevent sheriffs and other officers from levying executions in certain cases enacts that “it shall not be lawful for any sheriff or other officer to levy a writ of fieri facias or other execution on the planted crop of a debtor or person against whom an execution may issue until the crop is gathered” aik dig 167 now here is an express inhibition to levy an execution on a crop while it remains on or in the ground and until it is severed from the soil to which it owes its growth in respect to property thus situated will the lien of an execution attach eo instanti upon its being placed in the hands of an officer if so the act cited will only have the effect of keeping the right to levy it in abeyance until the crop is gathered the lien of an execution does not only operate so as to prevent the debtor from disposing of the property on which it attaches but gives to the creditor the right to have it sold to satisfy his 745 judgment the lien and the right to levy are intimately connected and if the latter be taken away or suspended the effect at common law is the destruction of the former this principle is fully established by mansony and hurtell v the president c of the bank of the united states and its assignees and the citations contained in the opinion of the court in that case as also in my opinion in wood v gary et al both decided at the last term that it was competent for the legislature to have made it unlawful to levy an execution on particular property until its condition was changed and still to give it a continuing lien cannot be doubted but there is nothing in the act in question to indicate that such is its intention if the object was merely to suspend the sale until the crop was gathered it would have been very easy to have said so in explicit terms but declaring as the statute does in totidem verbis that the execution shall not be levied the legislature must be supposed to have meant what they have expressed the act was induced by the doubts which existed as to what was the common law and was intended to remove those doubts by declaring what should be the law in future it does not create a lien or authorize a levy in a case in which the law as it then existed was silent the idea that the lien attached upon the planted crop as soon as the execution was delivered to the sheriff though the right to levy it was postponed until a severance took place is attempted to be deduced from the last words of the section cited viz “until the crop is gathered” these words cannot upon any just principles of construction be regarded so potent as to give to an execution a retrospective effect they do not refer to the lien if they did they would postpone it until the crop was gathered but it is the levy they relate to and postpone until that event takes place 4 the right to levy an execution on a planted crop then being expressly taken away by the statute the lien which is connected with and consequent upon that right never attaches until severance this being the case the right of the defendant in execution to make the contract which he did is unquestionable and the title of the claimants coupled as it was with the possession was paramount to any lien which the execution could exert the circuit judge may have mistaken the law in supposing that the contract was a sale but if he did an error in that respect was very immaterial for whether a sale or mortgage as we have 746 seen under the facts of the case the defendant in execution has no interest that could be seised and sold under execution there is no assumption of any material fact in the charge but the possession of the claimant the time when acquired the gathering of the crop c are all referred to the determination of the jury who are instructed if they find them according to the evidence adduced that no lien ever attached in favor of the plaintiff the bona fides of the contract was conceded so that no charge was necessary on that point and it could not with propriety enter into the inquiry of the jury it results from what has been said that the judgment of the circuit court is affirmed  dissenting opinion  ormond j 4 the statute which presents the question', ''), ('after', 'the court is that “it shall not be lawful for any sheriff or other officer to levy a writ of fieei facias or other execution on the planted crop of a debtor or person against whom an execution may issue until the crop is gathered” clay’s dig 210 § 46 i shall not enter upon the enquiry whether at common law an execution could be levied upon a growing crop though i apprehend it would not be difficult to maintain the affirmative of the proposition it is sufficient for my purpose that the statute supposes such to have been the law as it doubtless was the practice this act must be considered in connection with the other acts upon the same subject the policy of the state as indicated by these statutes is undeniably that all the property of a debtor real and personal to which he has a legal title shall be subject to sale by execution and it appears to me that it would be difficult to assign a reason for the exemption of this species of property from the claims of judgment creditors and for giving to the defendant in execution the right to dispose of it it appears to me with all deference that the argument that because the sheriff was prohibited from levying on a ““planted crop” that therefore the execution had lost its lien and the debtor had the right to sell it is a non sequitur the mischief which the statute designed to remedy was the sacrifice which would be necessarily made by the sale of an immature crop the statute enables the debtor to retain it until it matures and by severing it from the soil to put it 747 in a condition to bring its valuethe lien in the mean time continuing in the plaintiff in execution 5 if further confirmation of the correctness of this view were necessary it will be found i think in the language employed by the legislature the sheriff is forbidden to levy on a “planted crop” until the crop is gathered now if the view taken by the majority of the court is correct the right secured to the plaintiff in execution of levying on the crop', ''), ('before', 'it is gathered may be frustrated as it was in this case by a sale by the defendant in execution whilst the crop is in an immature state the construction which has been put upon the statute involves the singular anomaly that the legislature for the protection of the debtor has forbidden the plaintiff in execution to sell the property of his debtor because it is not in a condition to bring its value and yet permits the debtor voluntarily by a sale to submit to the same sacrifice for his own benefit it is in effect a gift to the defendant in execution of the growing crop provided he does not gather it himself but disposes of it in its then condition this i feel a thorough conviction was not the intention of the legislature but that it was to secure him from loss by prohibiting a levy and sale of the crop until it was gathered when the temporary suspension of the right to sell ceased all citations 5 ala 740 1843 wl 284 end of document © 2019 thomson reuters no claim to original us government works citing references 9 treatment title date type depth headnotes cited by 1  booker v jones’s adm’x 55 ala 266 271  ala trover for conversion of cotton with counts in case appeal from the circuit court of hale tried', ''), ('before', 'the hon m j saffold dec term 1876 case — cited by 2  lehman durr  co v marshall 47 ala 362 376  ala trover for conversion of cotton appeal from the city court of montgomery tried', ''), ('before', 'hon john d cunningham jan term 1872 case — cited by 3  bibb v janney 45 ala 329 334  ala garnishment wages waiver of exemption appeal from city court of montgomery tried', ''), ('before', 'hon john d cunningham jan term 1871 case — cited by 4  mckenzie v lampley 31 ala 526 527  ala trial of right of property in cotton appeal from the circuit court of barbour tried', ''), ('before', 'the hon s d hale jan term 1858 case — cited by 5  evans v lamar 21 ala 333 335+  ala error to the circuit court of autauga tried', ''), ('before', 'the hon a b moore jun term 1852 case — cited by  6  dewey v bowman 8 cal 145 147  cal the judgment of the court below against jacob s cohen should be reversed for the following reasons because the finding of the court was so far as cohen was concerned jul term 1857 case — mentioned by 7  rees v coats 65 ala 256 258  ala trover for conversion of three bales of cotton appeal from the circuit court of etowah tried', '')]\n"
          ],
          "name": "stdout"
        }
      ]
    },
    {
      "cell_type": "code",
      "metadata": {
        "id": "D329h_Magfdg",
        "outputId": "c595825d-17f3-412d-ba69-2bb310962bcc",
        "colab": {
          "base_uri": "https://localhost:8080/",
          "height": 34
        }
      },
      "source": [
        "# extracting copy rights\n",
        "print(list(lexnlp.extract.en.copyright.get_copyright(text_string)))"
      ],
      "execution_count": 140,
      "outputs": [
        {
          "output_type": "stream",
          "text": [
            "[('©', '2019', 'Thomson Reuters No')]\n"
          ],
          "name": "stdout"
        }
      ]
    },
    {
      "cell_type": "code",
      "metadata": {
        "id": "Bkv3W8MNhvtj"
      },
      "source": [
        "# extracting courts\n",
        "import pandas as pd\n",
        "court_df = pd.read_csv(\"https://raw.githubusercontent.com/LexPredict/lexpredict-legal-dictionary/1.0.5/en/legal/us_courts.csv\")\n",
        "court_config_data = []\n",
        "for _, row in court_df.iterrows():\n",
        "  c = lexnlp.extract.en.dict_entities.entity_config(row[\"Court ID\"], row[\"Court Name\"], 0, row[\"Alias\"].split(\";\") if not pd.isnull(row[\"Alias\"]) else [])\n",
        "  court_config_data.append(c)"
      ],
      "execution_count": 141,
      "outputs": []
    },
    {
      "cell_type": "code",
      "metadata": {
        "id": "q-U3oO9FISYS",
        "outputId": "76e68561-e32a-471f-d1dd-e7f6d890e8fa",
        "colab": {
          "base_uri": "https://localhost:8080/",
          "height": 50
        }
      },
      "source": [
        "for entity, alias in lexnlp.extract.en.courts.get_courts(text_string, court_config_data):\n",
        "  print(\"entity=\", entity)\n",
        "  print(\"alias=\", alias)"
      ],
      "execution_count": 142,
      "outputs": [
        {
          "output_type": "stream",
          "text": [
            "entity= (1, 'United States Supreme Court', 0, [('United States Supreme Court', None, False, None), ('Supreme Court', None, False, None), (' SCOTUS', None, False, None)])\n",
            "alias= ('Supreme Court', None, False, None)\n"
          ],
          "name": "stdout"
        }
      ]
    },
    {
      "cell_type": "code",
      "metadata": {
        "id": "9bC6wuDJhwqd",
        "outputId": "8c08d92b-ead9-482a-bfc7-4a6d672c750f",
        "colab": {
          "base_uri": "https://localhost:8080/",
          "height": 34
        }
      },
      "source": [
        "# extracting CUSIP\n",
        "print(list(lexnlp.extract.en.cusip.get_cusip(text_string)))"
      ],
      "execution_count": 143,
      "outputs": [
        {
          "output_type": "stream",
          "text": [
            "[]\n"
          ],
          "name": "stdout"
        }
      ]
    },
    {
      "cell_type": "code",
      "metadata": {
        "id": "4ZxKLWpliqTK",
        "outputId": "ed9e4701-ba3a-4db1-c37a-d1cd5a5b90d6",
        "colab": {
          "base_uri": "https://localhost:8080/",
          "height": 54
        }
      },
      "source": [
        "# extracting dates\n",
        "print(list(lexnlp.extract.en.dates.get_dates(text_string)))"
      ],
      "execution_count": 144,
      "outputs": [
        {
          "output_type": "stream",
          "text": [
            "[datetime.date(2020, 6, 1), datetime.date(1840, 11, 1), datetime.date(1839, 10, 1), datetime.date(1840, 5, 1), datetime.date(1840, 9, 1), datetime.date(1840, 5, 1), datetime.date(1840, 5, 1), datetime.date(2020, 12, 1), datetime.date(2020, 12, 1), datetime.date(2020, 1, 1), datetime.date(2020, 1, 1), datetime.date(2020, 1, 1), datetime.date(2020, 3, 21), datetime.date(2020, 6, 1), datetime.date(2020, 7, 1), datetime.date(2020, 11, 1), datetime.date(1887, 5, 1)]\n"
          ],
          "name": "stdout"
        }
      ]
    },
    {
      "cell_type": "code",
      "metadata": {
        "id": "UuUf0w--ssiG",
        "outputId": "14206817-984d-4986-8b7f-4650417f3ab4",
        "colab": {
          "base_uri": "https://localhost:8080/",
          "height": 34
        }
      },
      "source": [
        "# extracting definitions\n",
        "print(list(lexnlp.extract.en.definitions.get_definitions(text_string)))"
      ],
      "execution_count": 145,
      "outputs": [
        {
          "output_type": "stream",
          "text": [
            "[]\n"
          ],
          "name": "stdout"
        }
      ]
    },
    {
      "cell_type": "code",
      "metadata": {
        "id": "zONkcSsGsuey",
        "outputId": "68ba12f9-d47b-4356-cac2-4be6e5e0802d",
        "colab": {
          "base_uri": "https://localhost:8080/",
          "height": 34
        }
      },
      "source": [
        "# extracting distances\n",
        "print(list(lexnlp.extract.en.distances.get_distances(text_string)))"
      ],
      "execution_count": 146,
      "outputs": [
        {
          "output_type": "stream",
          "text": [
            "[]\n"
          ],
          "name": "stdout"
        }
      ]
    },
    {
      "cell_type": "code",
      "metadata": {
        "id": "7dbWbn7LsyvF",
        "outputId": "1b75d5d8-9e6c-4b70-9fbf-9764cd426744",
        "colab": {
          "base_uri": "https://localhost:8080/",
          "height": 34
        }
      },
      "source": [
        "# extracting durations\n",
        "print(list(lexnlp.extract.en.durations.get_durations(text_string)))"
      ],
      "execution_count": 147,
      "outputs": [
        {
          "output_type": "stream",
          "text": [
            "[('year', 6.0, 2190.0)]\n"
          ],
          "name": "stdout"
        }
      ]
    },
    {
      "cell_type": "code",
      "metadata": {
        "id": "OADk7rttS2pv",
        "outputId": "f3e89651-4875-4df1-bcb9-568ab0491f0a",
        "colab": {
          "base_uri": "https://localhost:8080/",
          "height": 84
        }
      },
      "source": [
        "pip install pyap"
      ],
      "execution_count": 112,
      "outputs": [
        {
          "output_type": "stream",
          "text": [
            "Collecting pyap\n",
            "  Downloading https://files.pythonhosted.org/packages/53/b2/f0f962a5385d54cd91c153df93932b4996b793f1a2145807823d7f71328d/pyap-0.3.1-py2.py3-none-any.whl\n",
            "Installing collected packages: pyap\n",
            "Successfully installed pyap-0.3.1\n"
          ],
          "name": "stdout"
        }
      ]
    },
    {
      "cell_type": "code",
      "metadata": {
        "id": "KGdc94NGTqeP",
        "outputId": "fa453264-9892-4d8c-fed2-e96de1d8ca9c",
        "colab": {
          "base_uri": "https://localhost:8080/",
          "height": 84
        }
      },
      "source": [
        "!pip install nameparser"
      ],
      "execution_count": 115,
      "outputs": [
        {
          "output_type": "stream",
          "text": [
            "Collecting nameparser\n",
            "  Downloading https://files.pythonhosted.org/packages/3d/70/8cc66ac7d01118aa7a2ca938915ce4d622c5d73bb9f08058c7dce4ea9853/nameparser-1.0.6-py2.py3-none-any.whl\n",
            "Installing collected packages: nameparser\n",
            "Successfully installed nameparser-1.0.6\n"
          ],
          "name": "stdout"
        }
      ]
    },
    {
      "cell_type": "code",
      "metadata": {
        "id": "t9EBDBOHs1xJ"
      },
      "source": [
        "import lexnlp.extract.en.geoentities\n",
        "import lexnlp.extract.en.money\n",
        "import lexnlp.extract.en.percents\n",
        "import lexnlp.extract.en.pii\n",
        "import lexnlp.extract.en.ratios\n",
        "import lexnlp.extract.en.regulations\n",
        "import lexnlp.extract.en.trademarks\n",
        "import lexnlp.extract.en.urls\n",
        "import pyap\n",
        "from nameparser import HumanName\n",
        "import spacy"
      ],
      "execution_count": 117,
      "outputs": []
    },
    {
      "cell_type": "code",
      "metadata": {
        "id": "tXvjGB3ps_7i",
        "outputId": "533e5cf1-a561-403c-d4c6-15384c19f689",
        "colab": {
          "base_uri": "https://localhost:8080/",
          "height": 54
        }
      },
      "source": [
        "# extracting geographic and geopolitical entities\n",
        "for entity,alias in lexnlp.extract.en.geoentities.get_geoentities(text_string,court_config_data):\n",
        "  print(entity,alias)"
      ],
      "execution_count": 148,
      "outputs": [
        {
          "output_type": "stream",
          "text": [
            "(1, 'United States Supreme Court', 0, [('United States Supreme Court', None, False, None), ('Supreme Court', None, False, None), (' SCOTUS', None, False, None)]) ('Supreme Court', None, False, None)\n"
          ],
          "name": "stdout"
        }
      ]
    },
    {
      "cell_type": "code",
      "metadata": {
        "id": "kmmkPsnytgo-",
        "outputId": "12342b90-ffc6-422e-f4e0-430446ce6fcb",
        "colab": {
          "base_uri": "https://localhost:8080/",
          "height": 34
        }
      },
      "source": [
        "# extracting money and currency usages\n",
        "print(list(lexnlp.extract.en.money.get_money(text_string)))"
      ],
      "execution_count": 149,
      "outputs": [
        {
          "output_type": "stream",
          "text": [
            "[(14000, 'USD'), (14000, 'USD'), (80100.0, 'USD')]\n"
          ],
          "name": "stdout"
        }
      ]
    },
    {
      "cell_type": "code",
      "metadata": {
        "id": "8hZxeDBuuTCl",
        "outputId": "505fc429-e327-4291-e0f4-9c3e5754cb6f",
        "colab": {
          "base_uri": "https://localhost:8080/",
          "height": 34
        }
      },
      "source": [
        "# extracting percents and rates\n",
        "print(list(lexnlp.extract.en.percents.get_percents(text_string)))"
      ],
      "execution_count": 150,
      "outputs": [
        {
          "output_type": "stream",
          "text": [
            "[]\n"
          ],
          "name": "stdout"
        }
      ]
    },
    {
      "cell_type": "code",
      "metadata": {
        "id": "iPVkUR_JvAOm",
        "outputId": "6a0783c9-8c7c-448f-eda0-3e536505d8f5",
        "colab": {
          "base_uri": "https://localhost:8080/",
          "height": 34
        }
      },
      "source": [
        "# extracting PII\n",
        "print(list(lexnlp.extract.en.pii.get_pii(text_string)))"
      ],
      "execution_count": 151,
      "outputs": [
        {
          "output_type": "stream",
          "text": [
            "[]\n"
          ],
          "name": "stdout"
        }
      ]
    },
    {
      "cell_type": "code",
      "metadata": {
        "id": "aMWf0AmIvZ0u",
        "outputId": "ddd80d2c-f664-4b1f-f965-216b348ef32d",
        "colab": {
          "base_uri": "https://localhost:8080/",
          "height": 34
        }
      },
      "source": [
        "# extracting ratios\n",
        "print(list(lexnlp.extract.en.ratios.get_ratios(text_string)))"
      ],
      "execution_count": 152,
      "outputs": [
        {
          "output_type": "stream",
          "text": [
            "[]\n"
          ],
          "name": "stdout"
        }
      ]
    },
    {
      "cell_type": "code",
      "metadata": {
        "id": "OOn2IfShwJ1P",
        "outputId": "73d9eb49-2fb5-4b32-b4bc-5da8ca342572",
        "colab": {
          "base_uri": "https://localhost:8080/",
          "height": 34
        }
      },
      "source": [
        "# extracting regulations\n",
        "print(list(lexnlp.extract.en.regulations.get_regulations(text_string)))"
      ],
      "execution_count": 153,
      "outputs": [
        {
          "output_type": "stream",
          "text": [
            "[]\n"
          ],
          "name": "stdout"
        }
      ]
    },
    {
      "cell_type": "code",
      "metadata": {
        "id": "Eu3F4TjxwLCv",
        "outputId": "f9bdf96e-41f4-4d30-cfcd-bb59f59c95bb",
        "colab": {
          "base_uri": "https://localhost:8080/",
          "height": 34
        }
      },
      "source": [
        "# extracting trademarks\n",
        "print(list(lexnlp.extract.en.trademarks.get_trademarks(text_string)))"
      ],
      "execution_count": 154,
      "outputs": [
        {
          "output_type": "stream",
          "text": [
            "[]\n"
          ],
          "name": "stdout"
        }
      ]
    },
    {
      "cell_type": "code",
      "metadata": {
        "id": "7w0L0_h2irHb",
        "outputId": "fe5e391d-dc06-4b61-931d-1a84c1c526ca",
        "colab": {
          "base_uri": "https://localhost:8080/",
          "height": 34
        }
      },
      "source": [
        "# extracting URLs\n",
        "print(list(lexnlp.extract.en.urls.get_urls(text_string)))"
      ],
      "execution_count": 155,
      "outputs": [
        {
          "output_type": "stream",
          "text": [
            "[]\n"
          ],
          "name": "stdout"
        }
      ]
    },
    {
      "cell_type": "code",
      "metadata": {
        "id": "c7Ca2hgaseNI",
        "outputId": "a5c3e4d7-8b77-401d-e640-e4c4086682f4",
        "colab": {
          "base_uri": "https://localhost:8080/",
          "height": 70
        }
      },
      "source": [
        "# extracting addresses\n",
        "addresses = pyap.parse(text_string, country='US')\n",
        "for address in addresses:\n",
        "  print(address)\n",
        "  print(address.as_dict())"
      ],
      "execution_count": 156,
      "outputs": [
        {
          "output_type": "stream",
          "text": [
            "5 Ala 740 Supreme Court of Alabama ADAMS\n",
            "{'full_address': '5 Ala 740 Supreme Court of Alabama ADAMS', 'full_street': '5 Ala 740 Supreme Court', 'street_number': '5', 'street_name': 'Ala 740 Supreme', 'street_type': 'Court', 'route_id': None, 'post_direction': None, 'floor': None, 'building_id': None, 'occupancy': None, 'city': 'of Alabama ADA', 'region1': 'MS', 'postal_code': None, 'country_id': 'US', 'match_start': 1, 'match_end': 42}\n"
          ],
          "name": "stdout"
        }
      ]
    },
    {
      "cell_type": "code",
      "metadata": {
        "id": "1K6QDw5CTL61",
        "outputId": "96c6e2a6-660f-46e0-d5cd-6dd8048a0542",
        "colab": {
          "base_uri": "https://localhost:8080/",
          "height": 54
        }
      },
      "source": [
        "# extracting persons\n",
        "nlp  = spacy.load('en_core_web_sm')\n",
        "doc_text = nlp(text_string.strip())\n",
        "person_array = []\n",
        "for line in doc_text.ents:\n",
        "  value = str(line.lemma_).lower()\n",
        "  if line.label_ == \"PERSON\":\n",
        "    person_array.append(value.title())\n",
        "print(person_array)"
      ],
      "execution_count": 119,
      "outputs": [
        {
          "output_type": "stream",
          "text": [
            "['Mortgagescropsa', 'Lien Attach', 'Sumter', 'Allen Harrison', 'Allen Harrison', 'Harrison', 'Burton   Harrison', 'Allen Harrison', 'Law Firmsr H Smith', 'Lien', 'Dowl Rep', 'W G Jones', 'Lien', 'Whipple', 'Stewart', 'Austin', 'Alston', 'Lien', 'Lien', 'Perkins', 'Elliott', 'Lien', 'Dane', 'Lien', 'Mansony', 'Wood', 'Lien', 'Exertthe', 'Lien', 'Ceasedall Citations5 Ala', 'Evans', 'Lamar21 Ala', 'Jacob S Cohen', 'Cohen', 'Concernedjul Term', 'Mention By7', 'Edwards', 'Austin', 'Ala 1837On', 'Stewart']\n"
          ],
          "name": "stdout"
        }
      ]
    }
  ]
}