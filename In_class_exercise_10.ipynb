{
  "nbformat": 4,
  "nbformat_minor": 0,
  "metadata": {
    "kernelspec": {
      "display_name": "Python 3",
      "language": "python",
      "name": "python3"
    },
    "language_info": {
      "codemirror_mode": {
        "name": "ipython",
        "version": 3
      },
      "file_extension": ".py",
      "mimetype": "text/x-python",
      "name": "python",
      "nbconvert_exporter": "python",
      "pygments_lexer": "ipython3",
      "version": "3.7.1"
    },
    "colab": {
      "name": "In_class_exercise-10.ipynb",
      "provenance": [],
      "collapsed_sections": [],
      "include_colab_link": true
    }
  },
  "cells": [
    {
      "cell_type": "markdown",
      "metadata": {
        "id": "view-in-github",
        "colab_type": "text"
      },
      "source": [
        "<a href=\"https://colab.research.google.com/github/DurgaBhavana/5731Submissions/blob/master/In_class_exercise_10.ipynb\" target=\"_parent\"><img src=\"https://colab.research.google.com/assets/colab-badge.svg\" alt=\"Open In Colab\"/></a>"
      ]
    },
    {
      "cell_type": "markdown",
      "metadata": {
        "id": "MX7QI8EfWVgj"
      },
      "source": [
        "# In class exercise 10"
      ]
    },
    {
      "cell_type": "markdown",
      "metadata": {
        "id": "rmiTSI8MWVgj"
      },
      "source": [
        "The purpose of the exercise is to practice different machine learning algorithms for text clustering\n",
        "Please downlad the dataset by using the following link.  https://www.kaggle.com/PromptCloudHQ/amazon-reviews-unlocked-mobile-phones\n",
        "(You can also use different text data which you want)\n",
        "\n",
        "Apply the listed clustering methods to the dataset:\n",
        "\n",
        "K means, \n",
        "DBSCAN,\n",
        "Hierarchical clustering. \n",
        "\n",
        "You can refer to of the codes from  the follwing link below. \n",
        "https://www.kaggle.com/karthik3890/text-clustering \n",
        "    "
      ]
    },
    {
      "cell_type": "code",
      "metadata": {
        "id": "7xeM3SPoWVgj",
        "colab": {
          "base_uri": "https://localhost:8080/"
        },
        "outputId": "6a9d9f73-fe49-4740-f133-a6a1062797ba"
      },
      "source": [
        "# IMPORT REQUIRED LIBRARIES\n",
        "import pandas as pd\n",
        "from nltk.corpus import stopwords\n",
        "import nltk\n",
        "nltk.download('punkt')\n",
        "nltk.download('stopwords')\n",
        "import re\n",
        "from textblob import TextBlob\n",
        "from nltk.stem import PorterStemmer\n",
        "from textblob import Word\n",
        "nltk.download('wordnet')"
      ],
      "execution_count": 71,
      "outputs": [
        {
          "output_type": "stream",
          "text": [
            "[nltk_data] Downloading package punkt to /root/nltk_data...\n",
            "[nltk_data]   Package punkt is already up-to-date!\n",
            "[nltk_data] Downloading package stopwords to /root/nltk_data...\n",
            "[nltk_data]   Package stopwords is already up-to-date!\n",
            "[nltk_data] Downloading package wordnet to /root/nltk_data...\n",
            "[nltk_data]   Package wordnet is already up-to-date!\n"
          ],
          "name": "stdout"
        },
        {
          "output_type": "execute_result",
          "data": {
            "text/plain": [
              "True"
            ]
          },
          "metadata": {
            "tags": []
          },
          "execution_count": 71
        }
      ]
    },
    {
      "cell_type": "code",
      "metadata": {
        "id": "O30EwacPGMJ4"
      },
      "source": [
        "# READ CSV FILE\n",
        "data_df = pd.read_csv('/content/Amazon_Unlocked_Mobile.csv')"
      ],
      "execution_count": 72,
      "outputs": []
    },
    {
      "cell_type": "code",
      "metadata": {
        "colab": {
          "base_uri": "https://localhost:8080/"
        },
        "id": "jigA5t-AGSgE",
        "outputId": "fb92620b-ec7a-49fc-875f-d9144ededcb2"
      },
      "source": [
        "# NUMBER OF OBSERVATIONS\n",
        "print(\"Shape: {0}\".format(data_df.shape))"
      ],
      "execution_count": 73,
      "outputs": [
        {
          "output_type": "stream",
          "text": [
            "Shape: (413840, 6)\n"
          ],
          "name": "stdout"
        }
      ]
    },
    {
      "cell_type": "code",
      "metadata": {
        "id": "PRdrxdGCGSX7",
        "colab": {
          "base_uri": "https://localhost:8080/",
          "height": 402
        },
        "outputId": "b2f4e57c-e207-494f-be5d-91456db295e0"
      },
      "source": [
        "cluster_data_df = data_df.head(1000)\n",
        "cluster_data_df"
      ],
      "execution_count": 74,
      "outputs": [
        {
          "output_type": "execute_result",
          "data": {
            "text/html": [
              "<div>\n",
              "<style scoped>\n",
              "    .dataframe tbody tr th:only-of-type {\n",
              "        vertical-align: middle;\n",
              "    }\n",
              "\n",
              "    .dataframe tbody tr th {\n",
              "        vertical-align: top;\n",
              "    }\n",
              "\n",
              "    .dataframe thead th {\n",
              "        text-align: right;\n",
              "    }\n",
              "</style>\n",
              "<table border=\"1\" class=\"dataframe\">\n",
              "  <thead>\n",
              "    <tr style=\"text-align: right;\">\n",
              "      <th></th>\n",
              "      <th>Product Name</th>\n",
              "      <th>Brand Name</th>\n",
              "      <th>Price</th>\n",
              "      <th>Rating</th>\n",
              "      <th>Reviews</th>\n",
              "      <th>Review Votes</th>\n",
              "    </tr>\n",
              "  </thead>\n",
              "  <tbody>\n",
              "    <tr>\n",
              "      <th>0</th>\n",
              "      <td>\"CLEAR CLEAN ESN\" Sprint EPIC 4G Galaxy SPH-D7...</td>\n",
              "      <td>Samsung</td>\n",
              "      <td>199.99</td>\n",
              "      <td>5</td>\n",
              "      <td>I feel so LUCKY to have found this used (phone...</td>\n",
              "      <td>1.0</td>\n",
              "    </tr>\n",
              "    <tr>\n",
              "      <th>1</th>\n",
              "      <td>\"CLEAR CLEAN ESN\" Sprint EPIC 4G Galaxy SPH-D7...</td>\n",
              "      <td>Samsung</td>\n",
              "      <td>199.99</td>\n",
              "      <td>4</td>\n",
              "      <td>nice phone, nice up grade from my pantach revu...</td>\n",
              "      <td>0.0</td>\n",
              "    </tr>\n",
              "    <tr>\n",
              "      <th>2</th>\n",
              "      <td>\"CLEAR CLEAN ESN\" Sprint EPIC 4G Galaxy SPH-D7...</td>\n",
              "      <td>Samsung</td>\n",
              "      <td>199.99</td>\n",
              "      <td>5</td>\n",
              "      <td>Very pleased</td>\n",
              "      <td>0.0</td>\n",
              "    </tr>\n",
              "    <tr>\n",
              "      <th>3</th>\n",
              "      <td>\"CLEAR CLEAN ESN\" Sprint EPIC 4G Galaxy SPH-D7...</td>\n",
              "      <td>Samsung</td>\n",
              "      <td>199.99</td>\n",
              "      <td>4</td>\n",
              "      <td>It works good but it goes slow sometimes but i...</td>\n",
              "      <td>0.0</td>\n",
              "    </tr>\n",
              "    <tr>\n",
              "      <th>4</th>\n",
              "      <td>\"CLEAR CLEAN ESN\" Sprint EPIC 4G Galaxy SPH-D7...</td>\n",
              "      <td>Samsung</td>\n",
              "      <td>199.99</td>\n",
              "      <td>4</td>\n",
              "      <td>Great phone to replace my lost phone. The only...</td>\n",
              "      <td>0.0</td>\n",
              "    </tr>\n",
              "    <tr>\n",
              "      <th>...</th>\n",
              "      <td>...</td>\n",
              "      <td>...</td>\n",
              "      <td>...</td>\n",
              "      <td>...</td>\n",
              "      <td>...</td>\n",
              "      <td>...</td>\n",
              "    </tr>\n",
              "    <tr>\n",
              "      <th>995</th>\n",
              "      <td>5.5-Inch Unlocked Lenovo A850 3G Smartphone-(9...</td>\n",
              "      <td>NaN</td>\n",
              "      <td>161.06</td>\n",
              "      <td>3</td>\n",
              "      <td>It's a decent for the price.. I've had this on...</td>\n",
              "      <td>0.0</td>\n",
              "    </tr>\n",
              "    <tr>\n",
              "      <th>996</th>\n",
              "      <td>5.5-Inch Unlocked Lenovo A850 3G Smartphone-(9...</td>\n",
              "      <td>NaN</td>\n",
              "      <td>161.06</td>\n",
              "      <td>3</td>\n",
              "      <td>Is good cell phone</td>\n",
              "      <td>0.0</td>\n",
              "    </tr>\n",
              "    <tr>\n",
              "      <th>997</th>\n",
              "      <td>5.5-Inch Unlocked Lenovo A850 3G Smartphone-(9...</td>\n",
              "      <td>NaN</td>\n",
              "      <td>161.06</td>\n",
              "      <td>5</td>\n",
              "      <td>Amazing phone. Cables and case included, also ...</td>\n",
              "      <td>0.0</td>\n",
              "    </tr>\n",
              "    <tr>\n",
              "      <th>998</th>\n",
              "      <td>5.5-Inch Unlocked Lenovo A850 3G Smartphone-(9...</td>\n",
              "      <td>NaN</td>\n",
              "      <td>161.06</td>\n",
              "      <td>5</td>\n",
              "      <td>Excelent</td>\n",
              "      <td>0.0</td>\n",
              "    </tr>\n",
              "    <tr>\n",
              "      <th>999</th>\n",
              "      <td>5.5-Inch Unlocked Lenovo A850 3G Smartphone-(9...</td>\n",
              "      <td>NaN</td>\n",
              "      <td>161.06</td>\n",
              "      <td>5</td>\n",
              "      <td>Excellent, it meets the requirements requested</td>\n",
              "      <td>0.0</td>\n",
              "    </tr>\n",
              "  </tbody>\n",
              "</table>\n",
              "<p>1000 rows × 6 columns</p>\n",
              "</div>"
            ],
            "text/plain": [
              "                                          Product Name  ... Review Votes\n",
              "0    \"CLEAR CLEAN ESN\" Sprint EPIC 4G Galaxy SPH-D7...  ...          1.0\n",
              "1    \"CLEAR CLEAN ESN\" Sprint EPIC 4G Galaxy SPH-D7...  ...          0.0\n",
              "2    \"CLEAR CLEAN ESN\" Sprint EPIC 4G Galaxy SPH-D7...  ...          0.0\n",
              "3    \"CLEAR CLEAN ESN\" Sprint EPIC 4G Galaxy SPH-D7...  ...          0.0\n",
              "4    \"CLEAR CLEAN ESN\" Sprint EPIC 4G Galaxy SPH-D7...  ...          0.0\n",
              "..                                                 ...  ...          ...\n",
              "995  5.5-Inch Unlocked Lenovo A850 3G Smartphone-(9...  ...          0.0\n",
              "996  5.5-Inch Unlocked Lenovo A850 3G Smartphone-(9...  ...          0.0\n",
              "997  5.5-Inch Unlocked Lenovo A850 3G Smartphone-(9...  ...          0.0\n",
              "998  5.5-Inch Unlocked Lenovo A850 3G Smartphone-(9...  ...          0.0\n",
              "999  5.5-Inch Unlocked Lenovo A850 3G Smartphone-(9...  ...          0.0\n",
              "\n",
              "[1000 rows x 6 columns]"
            ]
          },
          "metadata": {
            "tags": []
          },
          "execution_count": 74
        }
      ]
    },
    {
      "cell_type": "code",
      "metadata": {
        "colab": {
          "base_uri": "https://localhost:8080/",
          "height": 1000
        },
        "id": "v_3IEZ1FaSz_",
        "outputId": "10fa635b-900f-4b0d-cf56-80fd16143db9"
      },
      "source": [
        "# PRE PROCESSING\n",
        "\n",
        "# Special characters removal\n",
        "cluster_data_df['After noise removal'] = cluster_data_df['Reviews'].apply(lambda x: ''.join(re.sub(r\"[^a-zA-Z0-9]+\", ' ', charctr) for charctr in x ))\n",
        "\n",
        "# Punctuation removal\n",
        "cluster_data_df['Punctuation removal'] = cluster_data_df['After noise removal'].str.replace('[^\\w\\s]','')\n",
        "\n",
        "# Remove numbers\n",
        "cluster_data_df['Remove numbers'] = cluster_data_df['Punctuation removal'].str.replace('\\d+', '')\n",
        "\n",
        "# Stopwords removal\n",
        "stop_word = stopwords.words('english')\n",
        "cluster_data_df['Stopwords removal'] = cluster_data_df['Remove numbers'].apply(lambda x: \" \".join(x for x in x.split() if x not in stop_word))\n",
        "\n",
        "# Lower Casing\n",
        "cluster_data_df['Lower casing'] = cluster_data_df['Stopwords removal'].apply(lambda x: \" \".join(x.lower() for x in x.split()))\n",
        "\n",
        "# Tokenization\n",
        "cluster_data_df['Tokenization'] = cluster_data_df['Lower casing'].apply(lambda x: TextBlob(x).words)\n",
        "\n",
        "# Stemming\n",
        "st = PorterStemmer()\n",
        "cluster_data_df['Stemming'] = cluster_data_df['Tokenization'].apply(lambda x: \" \".join([st.stem(word) for word in x]))\n",
        "\n",
        "# Lemmatization\n",
        "cluster_data_df['Lemmatization'] = cluster_data_df['Stemming'].apply(lambda x: \" \".join([Word(word).lemmatize() for word in x.split()]))\n",
        "cluster_data_df"
      ],
      "execution_count": 75,
      "outputs": [
        {
          "output_type": "stream",
          "text": [
            "/usr/local/lib/python3.6/dist-packages/ipykernel_launcher.py:4: SettingWithCopyWarning: \n",
            "A value is trying to be set on a copy of a slice from a DataFrame.\n",
            "Try using .loc[row_indexer,col_indexer] = value instead\n",
            "\n",
            "See the caveats in the documentation: https://pandas.pydata.org/pandas-docs/stable/user_guide/indexing.html#returning-a-view-versus-a-copy\n",
            "  after removing the cwd from sys.path.\n",
            "/usr/local/lib/python3.6/dist-packages/ipykernel_launcher.py:7: SettingWithCopyWarning: \n",
            "A value is trying to be set on a copy of a slice from a DataFrame.\n",
            "Try using .loc[row_indexer,col_indexer] = value instead\n",
            "\n",
            "See the caveats in the documentation: https://pandas.pydata.org/pandas-docs/stable/user_guide/indexing.html#returning-a-view-versus-a-copy\n",
            "  import sys\n",
            "/usr/local/lib/python3.6/dist-packages/ipykernel_launcher.py:10: SettingWithCopyWarning: \n",
            "A value is trying to be set on a copy of a slice from a DataFrame.\n",
            "Try using .loc[row_indexer,col_indexer] = value instead\n",
            "\n",
            "See the caveats in the documentation: https://pandas.pydata.org/pandas-docs/stable/user_guide/indexing.html#returning-a-view-versus-a-copy\n",
            "  # Remove the CWD from sys.path while we load stuff.\n",
            "/usr/local/lib/python3.6/dist-packages/ipykernel_launcher.py:14: SettingWithCopyWarning: \n",
            "A value is trying to be set on a copy of a slice from a DataFrame.\n",
            "Try using .loc[row_indexer,col_indexer] = value instead\n",
            "\n",
            "See the caveats in the documentation: https://pandas.pydata.org/pandas-docs/stable/user_guide/indexing.html#returning-a-view-versus-a-copy\n",
            "  \n",
            "/usr/local/lib/python3.6/dist-packages/ipykernel_launcher.py:17: SettingWithCopyWarning: \n",
            "A value is trying to be set on a copy of a slice from a DataFrame.\n",
            "Try using .loc[row_indexer,col_indexer] = value instead\n",
            "\n",
            "See the caveats in the documentation: https://pandas.pydata.org/pandas-docs/stable/user_guide/indexing.html#returning-a-view-versus-a-copy\n",
            "/usr/local/lib/python3.6/dist-packages/ipykernel_launcher.py:20: SettingWithCopyWarning: \n",
            "A value is trying to be set on a copy of a slice from a DataFrame.\n",
            "Try using .loc[row_indexer,col_indexer] = value instead\n",
            "\n",
            "See the caveats in the documentation: https://pandas.pydata.org/pandas-docs/stable/user_guide/indexing.html#returning-a-view-versus-a-copy\n",
            "/usr/local/lib/python3.6/dist-packages/ipykernel_launcher.py:24: SettingWithCopyWarning: \n",
            "A value is trying to be set on a copy of a slice from a DataFrame.\n",
            "Try using .loc[row_indexer,col_indexer] = value instead\n",
            "\n",
            "See the caveats in the documentation: https://pandas.pydata.org/pandas-docs/stable/user_guide/indexing.html#returning-a-view-versus-a-copy\n",
            "/usr/local/lib/python3.6/dist-packages/ipykernel_launcher.py:27: SettingWithCopyWarning: \n",
            "A value is trying to be set on a copy of a slice from a DataFrame.\n",
            "Try using .loc[row_indexer,col_indexer] = value instead\n",
            "\n",
            "See the caveats in the documentation: https://pandas.pydata.org/pandas-docs/stable/user_guide/indexing.html#returning-a-view-versus-a-copy\n"
          ],
          "name": "stderr"
        },
        {
          "output_type": "execute_result",
          "data": {
            "text/html": [
              "<div>\n",
              "<style scoped>\n",
              "    .dataframe tbody tr th:only-of-type {\n",
              "        vertical-align: middle;\n",
              "    }\n",
              "\n",
              "    .dataframe tbody tr th {\n",
              "        vertical-align: top;\n",
              "    }\n",
              "\n",
              "    .dataframe thead th {\n",
              "        text-align: right;\n",
              "    }\n",
              "</style>\n",
              "<table border=\"1\" class=\"dataframe\">\n",
              "  <thead>\n",
              "    <tr style=\"text-align: right;\">\n",
              "      <th></th>\n",
              "      <th>Product Name</th>\n",
              "      <th>Brand Name</th>\n",
              "      <th>Price</th>\n",
              "      <th>Rating</th>\n",
              "      <th>Reviews</th>\n",
              "      <th>Review Votes</th>\n",
              "      <th>After noise removal</th>\n",
              "      <th>Punctuation removal</th>\n",
              "      <th>Remove numbers</th>\n",
              "      <th>Stopwords removal</th>\n",
              "      <th>Lower casing</th>\n",
              "      <th>Tokenization</th>\n",
              "      <th>Stemming</th>\n",
              "      <th>Lemmatization</th>\n",
              "    </tr>\n",
              "  </thead>\n",
              "  <tbody>\n",
              "    <tr>\n",
              "      <th>0</th>\n",
              "      <td>\"CLEAR CLEAN ESN\" Sprint EPIC 4G Galaxy SPH-D7...</td>\n",
              "      <td>Samsung</td>\n",
              "      <td>199.99</td>\n",
              "      <td>5</td>\n",
              "      <td>I feel so LUCKY to have found this used (phone...</td>\n",
              "      <td>1.0</td>\n",
              "      <td>I feel so LUCKY to have found this used  phone...</td>\n",
              "      <td>I feel so LUCKY to have found this used  phone...</td>\n",
              "      <td>I feel so LUCKY to have found this used  phone...</td>\n",
              "      <td>I feel LUCKY found used phone us used hard pho...</td>\n",
              "      <td>i feel lucky found used phone us used hard pho...</td>\n",
              "      <td>[i, feel, lucky, found, used, phone, us, used,...</td>\n",
              "      <td>i feel lucki found use phone us use hard phone...</td>\n",
              "      <td>i feel lucki found use phone u use hard phone ...</td>\n",
              "    </tr>\n",
              "    <tr>\n",
              "      <th>1</th>\n",
              "      <td>\"CLEAR CLEAN ESN\" Sprint EPIC 4G Galaxy SPH-D7...</td>\n",
              "      <td>Samsung</td>\n",
              "      <td>199.99</td>\n",
              "      <td>4</td>\n",
              "      <td>nice phone, nice up grade from my pantach revu...</td>\n",
              "      <td>0.0</td>\n",
              "      <td>nice phone  nice up grade from my pantach revu...</td>\n",
              "      <td>nice phone  nice up grade from my pantach revu...</td>\n",
              "      <td>nice phone  nice up grade from my pantach revu...</td>\n",
              "      <td>nice phone nice grade pantach revue Very clean...</td>\n",
              "      <td>nice phone nice grade pantach revue very clean...</td>\n",
              "      <td>[nice, phone, nice, grade, pantach, revue, ver...</td>\n",
              "      <td>nice phone nice grade pantach revu veri clean ...</td>\n",
              "      <td>nice phone nice grade pantach revu veri clean ...</td>\n",
              "    </tr>\n",
              "    <tr>\n",
              "      <th>2</th>\n",
              "      <td>\"CLEAR CLEAN ESN\" Sprint EPIC 4G Galaxy SPH-D7...</td>\n",
              "      <td>Samsung</td>\n",
              "      <td>199.99</td>\n",
              "      <td>5</td>\n",
              "      <td>Very pleased</td>\n",
              "      <td>0.0</td>\n",
              "      <td>Very pleased</td>\n",
              "      <td>Very pleased</td>\n",
              "      <td>Very pleased</td>\n",
              "      <td>Very pleased</td>\n",
              "      <td>very pleased</td>\n",
              "      <td>[very, pleased]</td>\n",
              "      <td>veri pleas</td>\n",
              "      <td>veri plea</td>\n",
              "    </tr>\n",
              "    <tr>\n",
              "      <th>3</th>\n",
              "      <td>\"CLEAR CLEAN ESN\" Sprint EPIC 4G Galaxy SPH-D7...</td>\n",
              "      <td>Samsung</td>\n",
              "      <td>199.99</td>\n",
              "      <td>4</td>\n",
              "      <td>It works good but it goes slow sometimes but i...</td>\n",
              "      <td>0.0</td>\n",
              "      <td>It works good but it goes slow sometimes but i...</td>\n",
              "      <td>It works good but it goes slow sometimes but i...</td>\n",
              "      <td>It works good but it goes slow sometimes but i...</td>\n",
              "      <td>It works good goes slow sometimes good phone I...</td>\n",
              "      <td>it works good goes slow sometimes good phone i...</td>\n",
              "      <td>[it, works, good, goes, slow, sometimes, good,...</td>\n",
              "      <td>it work good goe slow sometim good phone i love</td>\n",
              "      <td>it work good goe slow sometim good phone i love</td>\n",
              "    </tr>\n",
              "    <tr>\n",
              "      <th>4</th>\n",
              "      <td>\"CLEAR CLEAN ESN\" Sprint EPIC 4G Galaxy SPH-D7...</td>\n",
              "      <td>Samsung</td>\n",
              "      <td>199.99</td>\n",
              "      <td>4</td>\n",
              "      <td>Great phone to replace my lost phone. The only...</td>\n",
              "      <td>0.0</td>\n",
              "      <td>Great phone to replace my lost phone  The only...</td>\n",
              "      <td>Great phone to replace my lost phone  The only...</td>\n",
              "      <td>Great phone to replace my lost phone  The only...</td>\n",
              "      <td>Great phone replace lost phone The thing volum...</td>\n",
              "      <td>great phone replace lost phone the thing volum...</td>\n",
              "      <td>[great, phone, replace, lost, phone, the, thin...</td>\n",
              "      <td>great phone replac lost phone the thing volum ...</td>\n",
              "      <td>great phone replac lost phone the thing volum ...</td>\n",
              "    </tr>\n",
              "    <tr>\n",
              "      <th>...</th>\n",
              "      <td>...</td>\n",
              "      <td>...</td>\n",
              "      <td>...</td>\n",
              "      <td>...</td>\n",
              "      <td>...</td>\n",
              "      <td>...</td>\n",
              "      <td>...</td>\n",
              "      <td>...</td>\n",
              "      <td>...</td>\n",
              "      <td>...</td>\n",
              "      <td>...</td>\n",
              "      <td>...</td>\n",
              "      <td>...</td>\n",
              "      <td>...</td>\n",
              "    </tr>\n",
              "    <tr>\n",
              "      <th>995</th>\n",
              "      <td>5.5-Inch Unlocked Lenovo A850 3G Smartphone-(9...</td>\n",
              "      <td>NaN</td>\n",
              "      <td>161.06</td>\n",
              "      <td>3</td>\n",
              "      <td>It's a decent for the price.. I've had this on...</td>\n",
              "      <td>0.0</td>\n",
              "      <td>It s a decent for the price   I ve had this on...</td>\n",
              "      <td>It s a decent for the price   I ve had this on...</td>\n",
              "      <td>It s a decent for the price   I ve had this on...</td>\n",
              "      <td>It decent price I one months The cons I pretty...</td>\n",
              "      <td>it decent price i one months the cons i pretty...</td>\n",
              "      <td>[it, decent, price, i, one, months, the, cons,...</td>\n",
              "      <td>it decent price i one month the con i pretti f...</td>\n",
              "      <td>it decent price i one month the con i pretti f...</td>\n",
              "    </tr>\n",
              "    <tr>\n",
              "      <th>996</th>\n",
              "      <td>5.5-Inch Unlocked Lenovo A850 3G Smartphone-(9...</td>\n",
              "      <td>NaN</td>\n",
              "      <td>161.06</td>\n",
              "      <td>3</td>\n",
              "      <td>Is good cell phone</td>\n",
              "      <td>0.0</td>\n",
              "      <td>Is good cell phone</td>\n",
              "      <td>Is good cell phone</td>\n",
              "      <td>Is good cell phone</td>\n",
              "      <td>Is good cell phone</td>\n",
              "      <td>is good cell phone</td>\n",
              "      <td>[is, good, cell, phone]</td>\n",
              "      <td>is good cell phone</td>\n",
              "      <td>is good cell phone</td>\n",
              "    </tr>\n",
              "    <tr>\n",
              "      <th>997</th>\n",
              "      <td>5.5-Inch Unlocked Lenovo A850 3G Smartphone-(9...</td>\n",
              "      <td>NaN</td>\n",
              "      <td>161.06</td>\n",
              "      <td>5</td>\n",
              "      <td>Amazing phone. Cables and case included, also ...</td>\n",
              "      <td>0.0</td>\n",
              "      <td>Amazing phone  Cables and case included  also ...</td>\n",
              "      <td>Amazing phone  Cables and case included  also ...</td>\n",
              "      <td>Amazing phone  Cables and case included  also ...</td>\n",
              "      <td>Amazing phone Cables case included also screen...</td>\n",
              "      <td>amazing phone cables case included also screen...</td>\n",
              "      <td>[amazing, phone, cables, case, included, also,...</td>\n",
              "      <td>amaz phone cabl case includ also screen pritec...</td>\n",
              "      <td>amaz phone cabl case includ also screen pritec...</td>\n",
              "    </tr>\n",
              "    <tr>\n",
              "      <th>998</th>\n",
              "      <td>5.5-Inch Unlocked Lenovo A850 3G Smartphone-(9...</td>\n",
              "      <td>NaN</td>\n",
              "      <td>161.06</td>\n",
              "      <td>5</td>\n",
              "      <td>Excelent</td>\n",
              "      <td>0.0</td>\n",
              "      <td>Excelent</td>\n",
              "      <td>Excelent</td>\n",
              "      <td>Excelent</td>\n",
              "      <td>Excelent</td>\n",
              "      <td>excelent</td>\n",
              "      <td>[excelent]</td>\n",
              "      <td>excel</td>\n",
              "      <td>excel</td>\n",
              "    </tr>\n",
              "    <tr>\n",
              "      <th>999</th>\n",
              "      <td>5.5-Inch Unlocked Lenovo A850 3G Smartphone-(9...</td>\n",
              "      <td>NaN</td>\n",
              "      <td>161.06</td>\n",
              "      <td>5</td>\n",
              "      <td>Excellent, it meets the requirements requested</td>\n",
              "      <td>0.0</td>\n",
              "      <td>Excellent  it meets the requirements requested</td>\n",
              "      <td>Excellent  it meets the requirements requested</td>\n",
              "      <td>Excellent  it meets the requirements requested</td>\n",
              "      <td>Excellent meets requirements requested</td>\n",
              "      <td>excellent meets requirements requested</td>\n",
              "      <td>[excellent, meets, requirements, requested]</td>\n",
              "      <td>excel meet requir request</td>\n",
              "      <td>excel meet requir request</td>\n",
              "    </tr>\n",
              "  </tbody>\n",
              "</table>\n",
              "<p>1000 rows × 14 columns</p>\n",
              "</div>"
            ],
            "text/plain": [
              "                                          Product Name  ...                                      Lemmatization\n",
              "0    \"CLEAR CLEAN ESN\" Sprint EPIC 4G Galaxy SPH-D7...  ...  i feel lucki found use phone u use hard phone ...\n",
              "1    \"CLEAR CLEAN ESN\" Sprint EPIC 4G Galaxy SPH-D7...  ...  nice phone nice grade pantach revu veri clean ...\n",
              "2    \"CLEAR CLEAN ESN\" Sprint EPIC 4G Galaxy SPH-D7...  ...                                          veri plea\n",
              "3    \"CLEAR CLEAN ESN\" Sprint EPIC 4G Galaxy SPH-D7...  ...    it work good goe slow sometim good phone i love\n",
              "4    \"CLEAR CLEAN ESN\" Sprint EPIC 4G Galaxy SPH-D7...  ...  great phone replac lost phone the thing volum ...\n",
              "..                                                 ...  ...                                                ...\n",
              "995  5.5-Inch Unlocked Lenovo A850 3G Smartphone-(9...  ...  it decent price i one month the con i pretti f...\n",
              "996  5.5-Inch Unlocked Lenovo A850 3G Smartphone-(9...  ...                                 is good cell phone\n",
              "997  5.5-Inch Unlocked Lenovo A850 3G Smartphone-(9...  ...  amaz phone cabl case includ also screen pritec...\n",
              "998  5.5-Inch Unlocked Lenovo A850 3G Smartphone-(9...  ...                                              excel\n",
              "999  5.5-Inch Unlocked Lenovo A850 3G Smartphone-(9...  ...                          excel meet requir request\n",
              "\n",
              "[1000 rows x 14 columns]"
            ]
          },
          "metadata": {
            "tags": []
          },
          "execution_count": 75
        }
      ]
    },
    {
      "cell_type": "markdown",
      "metadata": {
        "id": "AR-YzkLivXZf"
      },
      "source": [
        "# K - means using TFIDF"
      ]
    },
    {
      "cell_type": "code",
      "metadata": {
        "id": "LsI8S0IYaTRD",
        "colab": {
          "base_uri": "https://localhost:8080/"
        },
        "outputId": "9180e4df-9822-424e-b7ef-9199cd1c5d2f"
      },
      "source": [
        "from sklearn.feature_extraction.text import TfidfVectorizer\n",
        "tfidf_vect = TfidfVectorizer()\n",
        "tfidf = tfidf_vect.fit_transform(cluster_data_df['Lemmatization'].values)\n",
        "tfidf.shape"
      ],
      "execution_count": 76,
      "outputs": [
        {
          "output_type": "execute_result",
          "data": {
            "text/plain": [
              "(1000, 2483)"
            ]
          },
          "metadata": {
            "tags": []
          },
          "execution_count": 76
        }
      ]
    },
    {
      "cell_type": "code",
      "metadata": {
        "id": "jjlsGGZnaTDT",
        "colab": {
          "base_uri": "https://localhost:8080/"
        },
        "outputId": "7bb1e549-06c4-4b6a-e44e-25674b7a9cba"
      },
      "source": [
        "from sklearn.cluster import KMeans\n",
        "model_tf = KMeans(n_clusters = 10, n_jobs = -1,random_state=99)\n",
        "model_tf.fit(tfidf)"
      ],
      "execution_count": 77,
      "outputs": [
        {
          "output_type": "execute_result",
          "data": {
            "text/plain": [
              "KMeans(algorithm='auto', copy_x=True, init='k-means++', max_iter=300,\n",
              "       n_clusters=10, n_init=10, n_jobs=-1, precompute_distances='auto',\n",
              "       random_state=99, tol=0.0001, verbose=0)"
            ]
          },
          "metadata": {
            "tags": []
          },
          "execution_count": 77
        }
      ]
    },
    {
      "cell_type": "code",
      "metadata": {
        "id": "7L7LgNgAaSoP",
        "colab": {
          "base_uri": "https://localhost:8080/"
        },
        "outputId": "974e16da-8d25-4165-d508-723e722f833d"
      },
      "source": [
        "labels_tf = model_tf.labels_\n",
        "cluster_center_tf=model_tf.cluster_centers_\n",
        "cluster_center_tf"
      ],
      "execution_count": 78,
      "outputs": [
        {
          "output_type": "execute_result",
          "data": {
            "text/plain": [
              "array([[0.        , 0.        , 0.        , ..., 0.        , 0.        ,\n",
              "        0.        ],\n",
              "       [0.00044339, 0.00109302, 0.00746944, ..., 0.00648556, 0.00169077,\n",
              "        0.00070448],\n",
              "       [0.        , 0.        , 0.        , ..., 0.        , 0.        ,\n",
              "        0.        ],\n",
              "       ...,\n",
              "       [0.        , 0.        , 0.        , ..., 0.        , 0.        ,\n",
              "        0.        ],\n",
              "       [0.        , 0.        , 0.02834208, ..., 0.        , 0.        ,\n",
              "        0.        ],\n",
              "       [0.        , 0.        , 0.        , ..., 0.        , 0.        ,\n",
              "        0.        ]])"
            ]
          },
          "metadata": {
            "tags": []
          },
          "execution_count": 78
        }
      ]
    },
    {
      "cell_type": "code",
      "metadata": {
        "id": "Hgk4zsaXgAjD"
      },
      "source": [
        "# to understand what kind of words generated as columns by BOW\n",
        "terms1 = tfidf_vect.get_feature_names()"
      ],
      "execution_count": 79,
      "outputs": []
    },
    {
      "cell_type": "code",
      "metadata": {
        "colab": {
          "base_uri": "https://localhost:8080/"
        },
        "id": "B0cb7ym8gElD",
        "outputId": "474a290d-5fe0-4cbe-c8d7-4445432cb8ef"
      },
      "source": [
        "terms1[1:10]"
      ],
      "execution_count": 80,
      "outputs": [
        {
          "output_type": "execute_result",
          "data": {
            "text/plain": [
              "['abil',\n",
              " 'abl',\n",
              " 'ablebto',\n",
              " 'about',\n",
              " 'absolut',\n",
              " 'abysm',\n",
              " 'accent',\n",
              " 'accept',\n",
              " 'access']"
            ]
          },
          "metadata": {
            "tags": []
          },
          "execution_count": 80
        }
      ]
    },
    {
      "cell_type": "code",
      "metadata": {
        "colab": {
          "base_uri": "https://localhost:8080/"
        },
        "id": "V05FwyMwgK11",
        "outputId": "52212c4e-1a64-46bb-906f-183e3a74df73"
      },
      "source": [
        "from sklearn import metrics\n",
        "silhouette_score_tf = metrics.silhouette_score(tfidf, labels_tf, metric='euclidean')\n",
        "silhouette_score_tf"
      ],
      "execution_count": 81,
      "outputs": [
        {
          "output_type": "execute_result",
          "data": {
            "text/plain": [
              "0.08767419501657137"
            ]
          },
          "metadata": {
            "tags": []
          },
          "execution_count": 81
        }
      ]
    },
    {
      "cell_type": "code",
      "metadata": {
        "colab": {
          "base_uri": "https://localhost:8080/",
          "height": 1000
        },
        "id": "yORq8rShgOm8",
        "outputId": "6a5434d9-3f80-4fd1-cdeb-4972ef43c841"
      },
      "source": [
        "# Giving Labels/assigning a cluster to each point/text \n",
        "df1 = cluster_data_df\n",
        "df1['Tfidf Clus Label'] = model_tf.labels_\n",
        "df1.head(5)"
      ],
      "execution_count": 82,
      "outputs": [
        {
          "output_type": "stream",
          "text": [
            "/usr/local/lib/python3.6/dist-packages/ipykernel_launcher.py:3: SettingWithCopyWarning: \n",
            "A value is trying to be set on a copy of a slice from a DataFrame.\n",
            "Try using .loc[row_indexer,col_indexer] = value instead\n",
            "\n",
            "See the caveats in the documentation: https://pandas.pydata.org/pandas-docs/stable/user_guide/indexing.html#returning-a-view-versus-a-copy\n",
            "  This is separate from the ipykernel package so we can avoid doing imports until\n"
          ],
          "name": "stderr"
        },
        {
          "output_type": "execute_result",
          "data": {
            "text/html": [
              "<div>\n",
              "<style scoped>\n",
              "    .dataframe tbody tr th:only-of-type {\n",
              "        vertical-align: middle;\n",
              "    }\n",
              "\n",
              "    .dataframe tbody tr th {\n",
              "        vertical-align: top;\n",
              "    }\n",
              "\n",
              "    .dataframe thead th {\n",
              "        text-align: right;\n",
              "    }\n",
              "</style>\n",
              "<table border=\"1\" class=\"dataframe\">\n",
              "  <thead>\n",
              "    <tr style=\"text-align: right;\">\n",
              "      <th></th>\n",
              "      <th>Product Name</th>\n",
              "      <th>Brand Name</th>\n",
              "      <th>Price</th>\n",
              "      <th>Rating</th>\n",
              "      <th>Reviews</th>\n",
              "      <th>Review Votes</th>\n",
              "      <th>After noise removal</th>\n",
              "      <th>Punctuation removal</th>\n",
              "      <th>Remove numbers</th>\n",
              "      <th>Stopwords removal</th>\n",
              "      <th>Lower casing</th>\n",
              "      <th>Tokenization</th>\n",
              "      <th>Stemming</th>\n",
              "      <th>Lemmatization</th>\n",
              "      <th>Tfidf Clus Label</th>\n",
              "    </tr>\n",
              "  </thead>\n",
              "  <tbody>\n",
              "    <tr>\n",
              "      <th>0</th>\n",
              "      <td>\"CLEAR CLEAN ESN\" Sprint EPIC 4G Galaxy SPH-D7...</td>\n",
              "      <td>Samsung</td>\n",
              "      <td>199.99</td>\n",
              "      <td>5</td>\n",
              "      <td>I feel so LUCKY to have found this used (phone...</td>\n",
              "      <td>1.0</td>\n",
              "      <td>I feel so LUCKY to have found this used  phone...</td>\n",
              "      <td>I feel so LUCKY to have found this used  phone...</td>\n",
              "      <td>I feel so LUCKY to have found this used  phone...</td>\n",
              "      <td>I feel LUCKY found used phone us used hard pho...</td>\n",
              "      <td>i feel lucky found used phone us used hard pho...</td>\n",
              "      <td>[i, feel, lucky, found, used, phone, us, used,...</td>\n",
              "      <td>i feel lucki found use phone us use hard phone...</td>\n",
              "      <td>i feel lucki found use phone u use hard phone ...</td>\n",
              "      <td>1</td>\n",
              "    </tr>\n",
              "    <tr>\n",
              "      <th>1</th>\n",
              "      <td>\"CLEAR CLEAN ESN\" Sprint EPIC 4G Galaxy SPH-D7...</td>\n",
              "      <td>Samsung</td>\n",
              "      <td>199.99</td>\n",
              "      <td>4</td>\n",
              "      <td>nice phone, nice up grade from my pantach revu...</td>\n",
              "      <td>0.0</td>\n",
              "      <td>nice phone  nice up grade from my pantach revu...</td>\n",
              "      <td>nice phone  nice up grade from my pantach revu...</td>\n",
              "      <td>nice phone  nice up grade from my pantach revu...</td>\n",
              "      <td>nice phone nice grade pantach revue Very clean...</td>\n",
              "      <td>nice phone nice grade pantach revue very clean...</td>\n",
              "      <td>[nice, phone, nice, grade, pantach, revue, ver...</td>\n",
              "      <td>nice phone nice grade pantach revu veri clean ...</td>\n",
              "      <td>nice phone nice grade pantach revu veri clean ...</td>\n",
              "      <td>3</td>\n",
              "    </tr>\n",
              "    <tr>\n",
              "      <th>2</th>\n",
              "      <td>\"CLEAR CLEAN ESN\" Sprint EPIC 4G Galaxy SPH-D7...</td>\n",
              "      <td>Samsung</td>\n",
              "      <td>199.99</td>\n",
              "      <td>5</td>\n",
              "      <td>Very pleased</td>\n",
              "      <td>0.0</td>\n",
              "      <td>Very pleased</td>\n",
              "      <td>Very pleased</td>\n",
              "      <td>Very pleased</td>\n",
              "      <td>Very pleased</td>\n",
              "      <td>very pleased</td>\n",
              "      <td>[very, pleased]</td>\n",
              "      <td>veri pleas</td>\n",
              "      <td>veri plea</td>\n",
              "      <td>3</td>\n",
              "    </tr>\n",
              "    <tr>\n",
              "      <th>3</th>\n",
              "      <td>\"CLEAR CLEAN ESN\" Sprint EPIC 4G Galaxy SPH-D7...</td>\n",
              "      <td>Samsung</td>\n",
              "      <td>199.99</td>\n",
              "      <td>4</td>\n",
              "      <td>It works good but it goes slow sometimes but i...</td>\n",
              "      <td>0.0</td>\n",
              "      <td>It works good but it goes slow sometimes but i...</td>\n",
              "      <td>It works good but it goes slow sometimes but i...</td>\n",
              "      <td>It works good but it goes slow sometimes but i...</td>\n",
              "      <td>It works good goes slow sometimes good phone I...</td>\n",
              "      <td>it works good goes slow sometimes good phone i...</td>\n",
              "      <td>[it, works, good, goes, slow, sometimes, good,...</td>\n",
              "      <td>it work good goe slow sometim good phone i love</td>\n",
              "      <td>it work good goe slow sometim good phone i love</td>\n",
              "      <td>9</td>\n",
              "    </tr>\n",
              "    <tr>\n",
              "      <th>4</th>\n",
              "      <td>\"CLEAR CLEAN ESN\" Sprint EPIC 4G Galaxy SPH-D7...</td>\n",
              "      <td>Samsung</td>\n",
              "      <td>199.99</td>\n",
              "      <td>4</td>\n",
              "      <td>Great phone to replace my lost phone. The only...</td>\n",
              "      <td>0.0</td>\n",
              "      <td>Great phone to replace my lost phone  The only...</td>\n",
              "      <td>Great phone to replace my lost phone  The only...</td>\n",
              "      <td>Great phone to replace my lost phone  The only...</td>\n",
              "      <td>Great phone replace lost phone The thing volum...</td>\n",
              "      <td>great phone replace lost phone the thing volum...</td>\n",
              "      <td>[great, phone, replace, lost, phone, the, thin...</td>\n",
              "      <td>great phone replac lost phone the thing volum ...</td>\n",
              "      <td>great phone replac lost phone the thing volum ...</td>\n",
              "      <td>8</td>\n",
              "    </tr>\n",
              "  </tbody>\n",
              "</table>\n",
              "</div>"
            ],
            "text/plain": [
              "                                        Product Name  ... Tfidf Clus Label\n",
              "0  \"CLEAR CLEAN ESN\" Sprint EPIC 4G Galaxy SPH-D7...  ...                1\n",
              "1  \"CLEAR CLEAN ESN\" Sprint EPIC 4G Galaxy SPH-D7...  ...                3\n",
              "2  \"CLEAR CLEAN ESN\" Sprint EPIC 4G Galaxy SPH-D7...  ...                3\n",
              "3  \"CLEAR CLEAN ESN\" Sprint EPIC 4G Galaxy SPH-D7...  ...                9\n",
              "4  \"CLEAR CLEAN ESN\" Sprint EPIC 4G Galaxy SPH-D7...  ...                8\n",
              "\n",
              "[5 rows x 15 columns]"
            ]
          },
          "metadata": {
            "tags": []
          },
          "execution_count": 82
        }
      ]
    },
    {
      "cell_type": "code",
      "metadata": {
        "colab": {
          "base_uri": "https://localhost:8080/"
        },
        "id": "UvBYxKizjEsj",
        "outputId": "a5bb9eee-793a-468c-8f69-184fc4e6f16f"
      },
      "source": [
        "# How many points belong to each cluster ->\n",
        "\n",
        "df1.groupby(['Tfidf Clus Label'])['Reviews'].count()"
      ],
      "execution_count": 83,
      "outputs": [
        {
          "output_type": "execute_result",
          "data": {
            "text/plain": [
              "Tfidf Clus Label\n",
              "0     12\n",
              "1    189\n",
              "2     52\n",
              "3    351\n",
              "4     21\n",
              "5     33\n",
              "6     47\n",
              "7     62\n",
              "8    172\n",
              "9     61\n",
              "Name: Reviews, dtype: int64"
            ]
          },
          "metadata": {
            "tags": []
          },
          "execution_count": 83
        }
      ]
    },
    {
      "cell_type": "code",
      "metadata": {
        "colab": {
          "base_uri": "https://localhost:8080/"
        },
        "id": "4PMTdOsdjSEM",
        "outputId": "29491892-c525-4619-a65d-e0194f4c80df"
      },
      "source": [
        "#Refrence credit - to find the top 10 features of cluster centriod\n",
        "\n",
        "print(\"Top terms per cluster:\")\n",
        "order_centroids = model_tf.cluster_centers_.argsort()[:, ::-1]\n",
        "for i in range(10):\n",
        "    print(\"Cluster %d:\" % i, end='')\n",
        "    for ind in order_centroids[i, :10]:\n",
        "        print(' %s' % terms1[ind], end='')\n",
        "        print()"
      ],
      "execution_count": 84,
      "outputs": [
        {
          "output_type": "stream",
          "text": [
            "Top terms per cluster:\n",
            "Cluster 0: bueno\n",
            " muy\n",
            " excelent\n",
            " bien\n",
            " excelet\n",
            " gracia\n",
            " form\n",
            " forth\n",
            " freez\n",
            " freeli\n",
            "Cluster 1: phone\n",
            " it\n",
            " the\n",
            " use\n",
            " like\n",
            " screen\n",
            " review\n",
            " card\n",
            " camera\n",
            " good\n",
            "Cluster 2: excel\n",
            " product\n",
            " recommend\n",
            " seller\n",
            " thank\n",
            " phone\n",
            " fash\n",
            " function\n",
            " five\n",
            " cellphon\n",
            "Cluster 3: phone\n",
            " great\n",
            " good\n",
            " use\n",
            " expect\n",
            " it\n",
            " the\n",
            " like\n",
            " product\n",
            " thank\n",
            "Cluster 4: ok\n",
            " far\n",
            " wcdma\n",
            " it\n",
            " quit\n",
            " peopl\n",
            " someon\n",
            " buy\n",
            " slow\n",
            " phone\n",
            "Cluster 5: excelent\n",
            " telefono\n",
            " producto\n",
            " zip\n",
            " foundat\n",
            " freedom\n",
            " free\n",
            " freak\n",
            " frame\n",
            " fraction\n",
            "Cluster 6: love\n",
            " phone\n",
            " great\n",
            " use\n",
            " my\n",
            " like\n",
            " mom\n",
            " it\n",
            " easi\n",
            " buy\n",
            "Cluster 7: work\n",
            " bad\n",
            " item\n",
            " the\n",
            " it\n",
            " phone\n",
            " great\n",
            " die\n",
            " so\n",
            " put\n",
            "Cluster 8: phone\n",
            " work\n",
            " great\n",
            " charg\n",
            " call\n",
            " would\n",
            " return\n",
            " the\n",
            " sim\n",
            " card\n",
            "Cluster 9: good\n",
            " veri\n",
            " phone\n",
            " product\n",
            " price\n",
            " buy\n",
            " tank\n",
            " thank\n",
            " mobil\n",
            " recomend\n"
          ],
          "name": "stdout"
        }
      ]
    },
    {
      "cell_type": "code",
      "metadata": {
        "colab": {
          "base_uri": "https://localhost:8080/",
          "height": 295
        },
        "id": "TU_QQyrRjdHY",
        "outputId": "b389b872-c77c-4425-adf1-b78953a3c306"
      },
      "source": [
        "# visually how points or reviews are distributed across 10 clusters \n",
        "\n",
        "import matplotlib.pyplot as plt\n",
        "plt.bar([x for x in range(10)], df1.groupby(['Tfidf Clus Label'])['Reviews'].count(), alpha = 0.4)\n",
        "plt.title('KMeans cluster points')\n",
        "plt.xlabel(\"Cluster number\")\n",
        "plt.ylabel(\"Number of points\")\n",
        "plt.show()"
      ],
      "execution_count": 85,
      "outputs": [
        {
          "output_type": "display_data",
          "data": {
            "image/png": "[encoded data removed]",
            "text/plain": [
              "<Figure size 432x288 with 1 Axes>"
            ]
          },
          "metadata": {
            "tags": [],
            "needs_background": "light"
          }
        }
      ]
    },
    {
      "cell_type": "code",
      "metadata": {
        "colab": {
          "base_uri": "https://localhost:8080/"
        },
        "id": "Fz3zNGDgkIuH",
        "outputId": "7acb9e59-3ea0-44a9-f641-17dadec5966c"
      },
      "source": [
        "# Reading a review which belong to each group.\n",
        "\n",
        "for i in range(10):\n",
        "    print(\"4 review of assigned to cluster \", i)\n",
        "    print(\"-\" * 70)\n",
        "    print(df1.iloc[df1.groupby(['Tfidf Clus Label']).groups[i][0]]['Reviews'])\n",
        "    print('\\n')\n",
        "    print(df1.iloc[df1.groupby(['Tfidf Clus Label']).groups[i][5]]['Reviews'])\n",
        "    print('\\n')\n",
        "    print(df1.iloc[df1.groupby(['Tfidf Clus Label']).groups[i][10]]['Reviews'])\n",
        "    print('\\n')\n",
        "    print(\"_\" * 70)"
      ],
      "execution_count": 88,
      "outputs": [
        {
          "output_type": "stream",
          "text": [
            "4 review of assigned to cluster  0\n",
            "----------------------------------------------------------------------\n",
            "MUY BUENO\n",
            "\n",
            "\n",
            "muy bien\n",
            "\n",
            "\n",
            "excelente muy bueno\n",
            "\n",
            "\n",
            "______________________________________________________________________\n",
            "4 review of assigned to cluster  1\n",
            "----------------------------------------------------------------------\n",
            "I feel so LUCKY to have found this used (phone to us & not used hard at all), phone on line from someone who upgraded and sold this one. My Son liked his old one that finally fell apart after 2.5+ years and didn't want an upgrade!! Thank you Seller, we really appreciate it & your honesty re: said used phone.I recommend this seller very highly & would but from them again!!\n",
            "\n",
            "\n",
            "Just... not good. The phone has great screen resolution, storage is low, you need an SD card to do anything. May have a clear ESN but don't expect to use it with things like Freedompop.\n",
            "\n",
            "\n",
            "Nokia Asha 302 Unlocked GSM Phone with 3.2MP Camera, Video, QWERTYDependableTraditional Nokia Menu'sNot Complicated like 'Smart Phones'DurableEasy to use on Straighttalk, Internet, WiFi, Bluetooth.\n",
            "\n",
            "\n",
            "______________________________________________________________________\n",
            "4 review of assigned to cluster  2\n",
            "----------------------------------------------------------------------\n",
            "excellent product in perfect condition\n",
            "\n",
            "\n",
            "Excellent phone has all the special functions to be communicated with all social networks, excellent operational...I recommend it 100% excellent product\n",
            "\n",
            "\n",
            "Excelent\n",
            "\n",
            "\n",
            "______________________________________________________________________\n",
            "4 review of assigned to cluster  3\n",
            "----------------------------------------------------------------------\n",
            "nice phone, nice up grade from my pantach revue. Very clean set up and easy set up. never had an android phone but they are fantastic to say the least. perfect size for surfing and social media. great phone samsung\n",
            "\n",
            "\n",
            "This is a great product it came after two days of ordering it. There was only one little blemish on the side,but who cares as long as the phone is fullly functional.i recommend this product to anyone reading this.\n",
            "\n",
            "\n",
            "the phone was great and in good condition. My Daughter is so happy the be a andriod user now !!!!!!!!!!!!!!!!!!!!!!!!!!!!!!!\n",
            "\n",
            "\n",
            "______________________________________________________________________\n",
            "4 review of assigned to cluster  4\n",
            "----------------------------------------------------------------------\n",
            "I have to say that it is a ok phone. I don't like the keyboard. There is only 5 or 6 language options, no Korean and Chinese.\n",
            "\n",
            "\n",
            "Ok phone I buy for someone\n",
            "\n",
            "\n",
            "OK so far\n",
            "\n",
            "\n",
            "______________________________________________________________________\n",
            "4 review of assigned to cluster  5\n",
            "----------------------------------------------------------------------\n",
            "excelente\n",
            "\n",
            "\n",
            "Excelente\n",
            "\n",
            "\n",
            "excelente\n",
            "\n",
            "\n",
            "______________________________________________________________________\n",
            "4 review of assigned to cluster  6\n",
            "----------------------------------------------------------------------\n",
            "I like these phone I bought it for my mom and she loves it\n",
            "\n",
            "\n",
            "I bouht this phone for my 82 year old mother who has macular degeneration, she loves it. It is very easy and she can see the big numbers for dialing and such.\n",
            "\n",
            "\n",
            "this phone met all our expectations, my dad loved it and is enjoying it!\n",
            "\n",
            "\n",
            "______________________________________________________________________\n",
            "4 review of assigned to cluster  7\n",
            "----------------------------------------------------------------------\n",
            "Phone works great. No problems at all\n",
            "\n",
            "\n",
            "but did not work with Iwirless\n",
            "\n",
            "\n",
            "these work nice for the price and that is why i bought so many\n",
            "\n",
            "\n",
            "______________________________________________________________________\n",
            "4 review of assigned to cluster  8\n",
            "----------------------------------------------------------------------\n",
            "Great phone to replace my lost phone. The only thing is the volume up button does not work, but I can still go into settings to adjust. Other than that, it does the job until I am eligible to upgrade my phone again.Thaanks!\n",
            "\n",
            "\n",
            "I brought this phone as a replacement for my daughter, who is very hard on cell phones. I must say it was a great purchase. The phone work wonderful. Thank you\n",
            "\n",
            "\n",
            "This phone is trapped in 2001, if you want a simple phone get an old school flip phone. If you want something also for work get a blackberry or somthing new. This isn't even in the middle of those two, it's in another dimension. Nothing but frustration with this phone.\n",
            "\n",
            "\n",
            "______________________________________________________________________\n",
            "4 review of assigned to cluster  9\n",
            "----------------------------------------------------------------------\n",
            "It works good but it goes slow sometimes but its a very good phone I love it\n",
            "\n",
            "\n",
            "Is a good product That I recomended it has all you will need, it's fast good looking very good,thank you\n",
            "\n",
            "\n",
            "Good phone\n",
            "\n",
            "\n",
            "______________________________________________________________________\n"
          ],
          "name": "stdout"
        }
      ]
    },
    {
      "cell_type": "markdown",
      "metadata": {
        "id": "nV_TCbWhnCIc"
      },
      "source": [
        "# K-means - Method 2"
      ]
    },
    {
      "cell_type": "code",
      "metadata": {
        "colab": {
          "base_uri": "https://localhost:8080/"
        },
        "id": "-_xU8xR0nA4K",
        "outputId": "afb29bfc-6211-4e36-ec7e-9a82f2bd245a"
      },
      "source": [
        "# Generating bag of words features.\n",
        "from sklearn.feature_extraction.text import CountVectorizer\n",
        "count_vect = CountVectorizer()\n",
        "bow = count_vect.fit_transform(cluster_data_df['Reviews'].values)\n",
        "bow.shape"
      ],
      "execution_count": 90,
      "outputs": [
        {
          "output_type": "execute_result",
          "data": {
            "text/plain": [
              "(1000, 3455)"
            ]
          },
          "metadata": {
            "tags": []
          },
          "execution_count": 90
        }
      ]
    },
    {
      "cell_type": "code",
      "metadata": {
        "colab": {
          "base_uri": "https://localhost:8080/"
        },
        "id": "ObI_KP-rnIqI",
        "outputId": "abfad818-9986-42fd-d316-ec700804ea38"
      },
      "source": [
        "from sklearn.cluster import KMeans\n",
        "model = KMeans(n_clusters = 10,init='k-means++', n_jobs = -1,random_state=99)\n",
        "model.fit(bow)"
      ],
      "execution_count": 91,
      "outputs": [
        {
          "output_type": "execute_result",
          "data": {
            "text/plain": [
              "KMeans(algorithm='auto', copy_x=True, init='k-means++', max_iter=300,\n",
              "       n_clusters=10, n_init=10, n_jobs=-1, precompute_distances='auto',\n",
              "       random_state=99, tol=0.0001, verbose=0)"
            ]
          },
          "metadata": {
            "tags": []
          },
          "execution_count": 91
        }
      ]
    },
    {
      "cell_type": "code",
      "metadata": {
        "id": "rMH3hlg4nNfO"
      },
      "source": [
        "labels = model.labels_\n",
        "cluster_center=model.cluster_centers_"
      ],
      "execution_count": 92,
      "outputs": []
    },
    {
      "cell_type": "code",
      "metadata": {
        "colab": {
          "base_uri": "https://localhost:8080/"
        },
        "id": "P2jgglf9nRL0",
        "outputId": "d41caf16-bfd5-41a6-df2b-e1e7dbc2dde1"
      },
      "source": [
        "from sklearn import metrics\n",
        "print(metrics.silhouette_score(bow, labels, metric='euclidean'))"
      ],
      "execution_count": 93,
      "outputs": [
        {
          "output_type": "stream",
          "text": [
            "0.396624076509732\n"
          ],
          "name": "stdout"
        }
      ]
    },
    {
      "cell_type": "code",
      "metadata": {
        "colab": {
          "base_uri": "https://localhost:8080/",
          "height": 530
        },
        "id": "zv-KYIU1nWde",
        "outputId": "2824f891-474d-4ea3-f574-527e4f98744a"
      },
      "source": [
        "cluster_data_df['Bow Clus Label'] = model.labels_ # the last column you can see the label numebers\n",
        "cluster_data_df.head(2)"
      ],
      "execution_count": 95,
      "outputs": [
        {
          "output_type": "stream",
          "text": [
            "/usr/local/lib/python3.6/dist-packages/ipykernel_launcher.py:1: SettingWithCopyWarning: \n",
            "A value is trying to be set on a copy of a slice from a DataFrame.\n",
            "Try using .loc[row_indexer,col_indexer] = value instead\n",
            "\n",
            "See the caveats in the documentation: https://pandas.pydata.org/pandas-docs/stable/user_guide/indexing.html#returning-a-view-versus-a-copy\n",
            "  \"\"\"Entry point for launching an IPython kernel.\n"
          ],
          "name": "stderr"
        },
        {
          "output_type": "execute_result",
          "data": {
            "text/html": [
              "<div>\n",
              "<style scoped>\n",
              "    .dataframe tbody tr th:only-of-type {\n",
              "        vertical-align: middle;\n",
              "    }\n",
              "\n",
              "    .dataframe tbody tr th {\n",
              "        vertical-align: top;\n",
              "    }\n",
              "\n",
              "    .dataframe thead th {\n",
              "        text-align: right;\n",
              "    }\n",
              "</style>\n",
              "<table border=\"1\" class=\"dataframe\">\n",
              "  <thead>\n",
              "    <tr style=\"text-align: right;\">\n",
              "      <th></th>\n",
              "      <th>Product Name</th>\n",
              "      <th>Brand Name</th>\n",
              "      <th>Price</th>\n",
              "      <th>Rating</th>\n",
              "      <th>Reviews</th>\n",
              "      <th>Review Votes</th>\n",
              "      <th>After noise removal</th>\n",
              "      <th>Punctuation removal</th>\n",
              "      <th>Remove numbers</th>\n",
              "      <th>Stopwords removal</th>\n",
              "      <th>Lower casing</th>\n",
              "      <th>Tokenization</th>\n",
              "      <th>Stemming</th>\n",
              "      <th>Lemmatization</th>\n",
              "      <th>Tfidf Clus Label</th>\n",
              "      <th>Bow Clus Label</th>\n",
              "    </tr>\n",
              "  </thead>\n",
              "  <tbody>\n",
              "    <tr>\n",
              "      <th>0</th>\n",
              "      <td>\"CLEAR CLEAN ESN\" Sprint EPIC 4G Galaxy SPH-D7...</td>\n",
              "      <td>Samsung</td>\n",
              "      <td>199.99</td>\n",
              "      <td>5</td>\n",
              "      <td>I feel so LUCKY to have found this used (phone...</td>\n",
              "      <td>1.0</td>\n",
              "      <td>I feel so LUCKY to have found this used  phone...</td>\n",
              "      <td>I feel so LUCKY to have found this used  phone...</td>\n",
              "      <td>I feel so LUCKY to have found this used  phone...</td>\n",
              "      <td>I feel LUCKY found used phone us used hard pho...</td>\n",
              "      <td>i feel lucky found used phone us used hard pho...</td>\n",
              "      <td>[i, feel, lucky, found, used, phone, us, used,...</td>\n",
              "      <td>i feel lucki found use phone us use hard phone...</td>\n",
              "      <td>i feel lucki found use phone u use hard phone ...</td>\n",
              "      <td>1</td>\n",
              "      <td>5</td>\n",
              "    </tr>\n",
              "    <tr>\n",
              "      <th>1</th>\n",
              "      <td>\"CLEAR CLEAN ESN\" Sprint EPIC 4G Galaxy SPH-D7...</td>\n",
              "      <td>Samsung</td>\n",
              "      <td>199.99</td>\n",
              "      <td>4</td>\n",
              "      <td>nice phone, nice up grade from my pantach revu...</td>\n",
              "      <td>0.0</td>\n",
              "      <td>nice phone  nice up grade from my pantach revu...</td>\n",
              "      <td>nice phone  nice up grade from my pantach revu...</td>\n",
              "      <td>nice phone  nice up grade from my pantach revu...</td>\n",
              "      <td>nice phone nice grade pantach revue Very clean...</td>\n",
              "      <td>nice phone nice grade pantach revue very clean...</td>\n",
              "      <td>[nice, phone, nice, grade, pantach, revue, ver...</td>\n",
              "      <td>nice phone nice grade pantach revu veri clean ...</td>\n",
              "      <td>nice phone nice grade pantach revu veri clean ...</td>\n",
              "      <td>3</td>\n",
              "      <td>0</td>\n",
              "    </tr>\n",
              "  </tbody>\n",
              "</table>\n",
              "</div>"
            ],
            "text/plain": [
              "                                        Product Name  ... Bow Clus Label\n",
              "0  \"CLEAR CLEAN ESN\" Sprint EPIC 4G Galaxy SPH-D7...  ...              5\n",
              "1  \"CLEAR CLEAN ESN\" Sprint EPIC 4G Galaxy SPH-D7...  ...              0\n",
              "\n",
              "[2 rows x 16 columns]"
            ]
          },
          "metadata": {
            "tags": []
          },
          "execution_count": 95
        }
      ]
    },
    {
      "cell_type": "markdown",
      "metadata": {
        "id": "N3Ko7b1jvJEu"
      },
      "source": [
        "# DBSCAN clustering"
      ]
    },
    {
      "cell_type": "code",
      "metadata": {
        "id": "QwUVghmen5dr"
      },
      "source": [
        "from sklearn.cluster import DBSCAN\n",
        "import numpy as np"
      ],
      "execution_count": 105,
      "outputs": []
    },
    {
      "cell_type": "code",
      "metadata": {
        "id": "wvKb_wznqbwn"
      },
      "source": [
        "# Computing 200th Nearest neighbour distance\n",
        "minPts = 2 * 100\n",
        "# Lower bound function copied from -> https://gist.github.com/m00nlight/0f9306b4d4e61ba0195f\n",
        "def lower_bound(nums, target): # This function return the number in the array just greater than or equal to itself.\n",
        "    l, r = 0, len(nums) - 1\n",
        "    while l <= r: # Binary searching.\n",
        "        mid = int(l + (r - l) / 2)\n",
        "        if nums[mid] >= target:\n",
        "            r = mid - 1\n",
        "        else:\n",
        "            l = mid + 1\n",
        "    return l\n",
        "\n",
        "def compute200thnearestneighbour(x, data): # Returns the distance of 200th nearest neighbour.\n",
        "    dists = []\n",
        "    for val in data:\n",
        "        dist = np.sum((x - val) **2 ) # computing distances.\n",
        "        if (len(dists) == 200 and dists[199] > dist): # If distance is larger than current largest distance found.\n",
        "          l = int(lower_bound(dists, dist)) # Using the lower bound function to get the right position.\n",
        "          if l < 200 and l >= 0 and dists[l] > dist:\n",
        "              dists[l] = dist\n",
        "        else:\n",
        "          dists.append(dist)\n",
        "          dists.sort()\n",
        "    \n",
        "    return dists[199] # Dist 199 contains the distance of 200th nearest neighbour."
      ],
      "execution_count": 106,
      "outputs": []
    },
    {
      "cell_type": "code",
      "metadata": {
        "id": "7ZlJ7QcltF_d"
      },
      "source": [
        "list_of_sent_train = list()\n",
        "\n",
        "for i in cluster_data_df[\"Lower casing\"].values:\n",
        "  list_of_sent_train.append(i.split())"
      ],
      "execution_count": 162,
      "outputs": []
    },
    {
      "cell_type": "code",
      "metadata": {
        "id": "oWzuRz2D23fV"
      },
      "source": [
        "import gensim\n",
        "w2v_model=gensim.models.Word2Vec(list_of_sent_train, size=100, workers=4)"
      ],
      "execution_count": 167,
      "outputs": []
    },
    {
      "cell_type": "code",
      "metadata": {
        "id": "si4NJVWjsVLt"
      },
      "source": [
        "import numpy as np\n",
        "sent_vectors = []; # the avg-w2v for each sentence/review is stored in this train\n",
        "count = 1\n",
        "for sent in list_of_sent_train: # for each review/sentence\n",
        "    sent_vec = np.zeros(100) # as word vectors are of zero length\n",
        "    cnt_words =1; # num of words with a valid vector in the sentence/review\n",
        "    for word in sent: # for each word in a review/sentence\n",
        "        try:\n",
        "            vec = w2v_model.wv[word]\n",
        "            sent_vec += vec\n",
        "            cnt_words += 1\n",
        "        except:\n",
        "            pass\n",
        "    sent_vec /= cnt_words\n",
        "    sent_vectors.append(sent_vec)\n",
        "sent_vectors = np.array(sent_vectors)\n",
        "sent_vectors = np.nan_to_num(sent_vectors)"
      ],
      "execution_count": 170,
      "outputs": []
    },
    {
      "cell_type": "code",
      "metadata": {
        "id": "XaHPo-Evqt14"
      },
      "source": [
        "# Computing the 200th nearest neighbour distance of some point the dataset:\n",
        "twohundrethneigh = []\n",
        "for val in sent_vectors[:300]:\n",
        "    twohundrethneigh.append(compute200thnearestneighbour(val, sent_vectors[:300]) )\n",
        "twohundrethneigh.sort()"
      ],
      "execution_count": 171,
      "outputs": []
    },
    {
      "cell_type": "code",
      "metadata": {
        "colab": {
          "base_uri": "https://localhost:8080/"
        },
        "id": "rcvPMpmCtcLs",
        "outputId": "526f4889-6998-4839-d5ea-efb334e10e0e"
      },
      "source": [
        "# Training DBSCAN :\n",
        "model = DBSCAN(eps = 5, min_samples = minPts, n_jobs=-1)\n",
        "model.fit(sent_vectors)"
      ],
      "execution_count": 172,
      "outputs": [
        {
          "output_type": "execute_result",
          "data": {
            "text/plain": [
              "DBSCAN(algorithm='auto', eps=5, leaf_size=30, metric='euclidean',\n",
              "       metric_params=None, min_samples=200, n_jobs=-1, p=None)"
            ]
          },
          "metadata": {
            "tags": []
          },
          "execution_count": 172
        }
      ]
    },
    {
      "cell_type": "code",
      "metadata": {
        "colab": {
          "base_uri": "https://localhost:8080/",
          "height": 546
        },
        "id": "nq8TCOdFtffe",
        "outputId": "844574b5-c94f-498e-e3d9-c0a6ca352ae5"
      },
      "source": [
        "cluster_data_df['AVG-W2V Clus Label'] = model.labels_\n",
        "cluster_data_df.head(2)"
      ],
      "execution_count": 173,
      "outputs": [
        {
          "output_type": "stream",
          "text": [
            "/usr/local/lib/python3.6/dist-packages/ipykernel_launcher.py:1: SettingWithCopyWarning: \n",
            "A value is trying to be set on a copy of a slice from a DataFrame.\n",
            "Try using .loc[row_indexer,col_indexer] = value instead\n",
            "\n",
            "See the caveats in the documentation: https://pandas.pydata.org/pandas-docs/stable/user_guide/indexing.html#returning-a-view-versus-a-copy\n",
            "  \"\"\"Entry point for launching an IPython kernel.\n"
          ],
          "name": "stderr"
        },
        {
          "output_type": "execute_result",
          "data": {
            "text/html": [
              "<div>\n",
              "<style scoped>\n",
              "    .dataframe tbody tr th:only-of-type {\n",
              "        vertical-align: middle;\n",
              "    }\n",
              "\n",
              "    .dataframe tbody tr th {\n",
              "        vertical-align: top;\n",
              "    }\n",
              "\n",
              "    .dataframe thead th {\n",
              "        text-align: right;\n",
              "    }\n",
              "</style>\n",
              "<table border=\"1\" class=\"dataframe\">\n",
              "  <thead>\n",
              "    <tr style=\"text-align: right;\">\n",
              "      <th></th>\n",
              "      <th>Product Name</th>\n",
              "      <th>Brand Name</th>\n",
              "      <th>Price</th>\n",
              "      <th>Rating</th>\n",
              "      <th>Reviews</th>\n",
              "      <th>Review Votes</th>\n",
              "      <th>After noise removal</th>\n",
              "      <th>Punctuation removal</th>\n",
              "      <th>Remove numbers</th>\n",
              "      <th>Stopwords removal</th>\n",
              "      <th>Lower casing</th>\n",
              "      <th>Tokenization</th>\n",
              "      <th>Stemming</th>\n",
              "      <th>Lemmatization</th>\n",
              "      <th>Tfidf Clus Label</th>\n",
              "      <th>Bow Clus Label</th>\n",
              "      <th>AVG-W2V Clus Label</th>\n",
              "    </tr>\n",
              "  </thead>\n",
              "  <tbody>\n",
              "    <tr>\n",
              "      <th>0</th>\n",
              "      <td>\"CLEAR CLEAN ESN\" Sprint EPIC 4G Galaxy SPH-D7...</td>\n",
              "      <td>Samsung</td>\n",
              "      <td>199.99</td>\n",
              "      <td>5</td>\n",
              "      <td>I feel so LUCKY to have found this used (phone...</td>\n",
              "      <td>1.0</td>\n",
              "      <td>I feel so LUCKY to have found this used  phone...</td>\n",
              "      <td>I feel so LUCKY to have found this used  phone...</td>\n",
              "      <td>I feel so LUCKY to have found this used  phone...</td>\n",
              "      <td>I feel LUCKY found used phone us used hard pho...</td>\n",
              "      <td>i feel lucky found used phone us used hard pho...</td>\n",
              "      <td>[i, feel, lucky, found, used, phone, us, used,...</td>\n",
              "      <td>i feel lucki found use phone us use hard phone...</td>\n",
              "      <td>i feel lucki found use phone u use hard phone ...</td>\n",
              "      <td>1</td>\n",
              "      <td>5</td>\n",
              "      <td>0</td>\n",
              "    </tr>\n",
              "    <tr>\n",
              "      <th>1</th>\n",
              "      <td>\"CLEAR CLEAN ESN\" Sprint EPIC 4G Galaxy SPH-D7...</td>\n",
              "      <td>Samsung</td>\n",
              "      <td>199.99</td>\n",
              "      <td>4</td>\n",
              "      <td>nice phone, nice up grade from my pantach revu...</td>\n",
              "      <td>0.0</td>\n",
              "      <td>nice phone  nice up grade from my pantach revu...</td>\n",
              "      <td>nice phone  nice up grade from my pantach revu...</td>\n",
              "      <td>nice phone  nice up grade from my pantach revu...</td>\n",
              "      <td>nice phone nice grade pantach revue Very clean...</td>\n",
              "      <td>nice phone nice grade pantach revue very clean...</td>\n",
              "      <td>[nice, phone, nice, grade, pantach, revue, ver...</td>\n",
              "      <td>nice phone nice grade pantach revu veri clean ...</td>\n",
              "      <td>nice phone nice grade pantach revu veri clean ...</td>\n",
              "      <td>3</td>\n",
              "      <td>0</td>\n",
              "      <td>0</td>\n",
              "    </tr>\n",
              "  </tbody>\n",
              "</table>\n",
              "</div>"
            ],
            "text/plain": [
              "                                        Product Name  ... AVG-W2V Clus Label\n",
              "0  \"CLEAR CLEAN ESN\" Sprint EPIC 4G Galaxy SPH-D7...  ...                  0\n",
              "1  \"CLEAR CLEAN ESN\" Sprint EPIC 4G Galaxy SPH-D7...  ...                  0\n",
              "\n",
              "[2 rows x 17 columns]"
            ]
          },
          "metadata": {
            "tags": []
          },
          "execution_count": 173
        }
      ]
    },
    {
      "cell_type": "markdown",
      "metadata": {
        "id": "MeL_Af1nve7b"
      },
      "source": [
        "# Hierarchical Clustering"
      ]
    },
    {
      "cell_type": "code",
      "metadata": {
        "colab": {
          "base_uri": "https://localhost:8080/",
          "height": 282
        },
        "id": "GLTSoyytuFwD",
        "outputId": "9203bf58-50ce-43c6-fb4d-e2353a2f1ef1"
      },
      "source": [
        "import scipy\n",
        "from scipy.cluster import hierarchy\n",
        "dendro = hierarchy.dendrogram(hierarchy.linkage(sent_vectors,method = 'ward'))\n",
        "plt.axhline(y = 10) # cut at 30 to get 5 clusters"
      ],
      "execution_count": 175,
      "outputs": [
        {
          "output_type": "execute_result",
          "data": {
            "text/plain": [
              "<matplotlib.lines.Line2D at 0x7fd8c4c88cc0>"
            ]
          },
          "metadata": {
            "tags": []
          },
          "execution_count": 175
        },
        {
          "output_type": "display_data",
          "data": {
            "image/png": "[encoded data removed]",
            "text/plain": [
              "<Figure size 432x288 with 1 Axes>"
            ]
          },
          "metadata": {
            "tags": [],
            "needs_background": "light"
          }
        }
      ]
    },
    {
      "cell_type": "code",
      "metadata": {
        "id": "D1l352c9wqwK"
      },
      "source": [
        "from sklearn.cluster import AgglomerativeClustering\n",
        "\n",
        "cluster = AgglomerativeClustering(n_clusters=5, affinity='euclidean', linkage='ward')  #took n=5 from dendrogram curve \n",
        "Agg=cluster.fit_predict(sent_vectors)"
      ],
      "execution_count": 176,
      "outputs": []
    },
    {
      "cell_type": "code",
      "metadata": {
        "colab": {
          "base_uri": "https://localhost:8080/",
          "height": 546
        },
        "id": "WMrfO6Qgwtpm",
        "outputId": "28249218-4cc7-4870-9186-8dc616b5aade"
      },
      "source": [
        "# Giving Labels/assigning a cluster to each point/text \n",
        "aggdfa = cluster_data_df\n",
        "aggdfa['AVG-W2V Clus Label'] = cluster.labels_\n",
        "aggdfa.head(2)"
      ],
      "execution_count": 177,
      "outputs": [
        {
          "output_type": "stream",
          "text": [
            "/usr/local/lib/python3.6/dist-packages/ipykernel_launcher.py:3: SettingWithCopyWarning: \n",
            "A value is trying to be set on a copy of a slice from a DataFrame.\n",
            "Try using .loc[row_indexer,col_indexer] = value instead\n",
            "\n",
            "See the caveats in the documentation: https://pandas.pydata.org/pandas-docs/stable/user_guide/indexing.html#returning-a-view-versus-a-copy\n",
            "  This is separate from the ipykernel package so we can avoid doing imports until\n"
          ],
          "name": "stderr"
        },
        {
          "output_type": "execute_result",
          "data": {
            "text/html": [
              "<div>\n",
              "<style scoped>\n",
              "    .dataframe tbody tr th:only-of-type {\n",
              "        vertical-align: middle;\n",
              "    }\n",
              "\n",
              "    .dataframe tbody tr th {\n",
              "        vertical-align: top;\n",
              "    }\n",
              "\n",
              "    .dataframe thead th {\n",
              "        text-align: right;\n",
              "    }\n",
              "</style>\n",
              "<table border=\"1\" class=\"dataframe\">\n",
              "  <thead>\n",
              "    <tr style=\"text-align: right;\">\n",
              "      <th></th>\n",
              "      <th>Product Name</th>\n",
              "      <th>Brand Name</th>\n",
              "      <th>Price</th>\n",
              "      <th>Rating</th>\n",
              "      <th>Reviews</th>\n",
              "      <th>Review Votes</th>\n",
              "      <th>After noise removal</th>\n",
              "      <th>Punctuation removal</th>\n",
              "      <th>Remove numbers</th>\n",
              "      <th>Stopwords removal</th>\n",
              "      <th>Lower casing</th>\n",
              "      <th>Tokenization</th>\n",
              "      <th>Stemming</th>\n",
              "      <th>Lemmatization</th>\n",
              "      <th>Tfidf Clus Label</th>\n",
              "      <th>Bow Clus Label</th>\n",
              "      <th>AVG-W2V Clus Label</th>\n",
              "    </tr>\n",
              "  </thead>\n",
              "  <tbody>\n",
              "    <tr>\n",
              "      <th>0</th>\n",
              "      <td>\"CLEAR CLEAN ESN\" Sprint EPIC 4G Galaxy SPH-D7...</td>\n",
              "      <td>Samsung</td>\n",
              "      <td>199.99</td>\n",
              "      <td>5</td>\n",
              "      <td>I feel so LUCKY to have found this used (phone...</td>\n",
              "      <td>1.0</td>\n",
              "      <td>I feel so LUCKY to have found this used  phone...</td>\n",
              "      <td>I feel so LUCKY to have found this used  phone...</td>\n",
              "      <td>I feel so LUCKY to have found this used  phone...</td>\n",
              "      <td>I feel LUCKY found used phone us used hard pho...</td>\n",
              "      <td>i feel lucky found used phone us used hard pho...</td>\n",
              "      <td>[i, feel, lucky, found, used, phone, us, used,...</td>\n",
              "      <td>i feel lucki found use phone us use hard phone...</td>\n",
              "      <td>i feel lucki found use phone u use hard phone ...</td>\n",
              "      <td>1</td>\n",
              "      <td>5</td>\n",
              "      <td>0</td>\n",
              "    </tr>\n",
              "    <tr>\n",
              "      <th>1</th>\n",
              "      <td>\"CLEAR CLEAN ESN\" Sprint EPIC 4G Galaxy SPH-D7...</td>\n",
              "      <td>Samsung</td>\n",
              "      <td>199.99</td>\n",
              "      <td>4</td>\n",
              "      <td>nice phone, nice up grade from my pantach revu...</td>\n",
              "      <td>0.0</td>\n",
              "      <td>nice phone  nice up grade from my pantach revu...</td>\n",
              "      <td>nice phone  nice up grade from my pantach revu...</td>\n",
              "      <td>nice phone  nice up grade from my pantach revu...</td>\n",
              "      <td>nice phone nice grade pantach revue Very clean...</td>\n",
              "      <td>nice phone nice grade pantach revue very clean...</td>\n",
              "      <td>[nice, phone, nice, grade, pantach, revue, ver...</td>\n",
              "      <td>nice phone nice grade pantach revu veri clean ...</td>\n",
              "      <td>nice phone nice grade pantach revu veri clean ...</td>\n",
              "      <td>3</td>\n",
              "      <td>0</td>\n",
              "      <td>0</td>\n",
              "    </tr>\n",
              "  </tbody>\n",
              "</table>\n",
              "</div>"
            ],
            "text/plain": [
              "                                        Product Name  ... AVG-W2V Clus Label\n",
              "0  \"CLEAR CLEAN ESN\" Sprint EPIC 4G Galaxy SPH-D7...  ...                  0\n",
              "1  \"CLEAR CLEAN ESN\" Sprint EPIC 4G Galaxy SPH-D7...  ...                  0\n",
              "\n",
              "[2 rows x 17 columns]"
            ]
          },
          "metadata": {
            "tags": []
          },
          "execution_count": 177
        }
      ]
    },
    {
      "cell_type": "code",
      "metadata": {
        "colab": {
          "base_uri": "https://localhost:8080/"
        },
        "id": "BWhamIV0wx-1",
        "outputId": "d8ead83b-95fb-4e36-b0c2-0889ecab6d44"
      },
      "source": [
        "# How many points belong to each cluster ->\n",
        "aggdfa.groupby(['AVG-W2V Clus Label'])['Reviews'].count()"
      ],
      "execution_count": 179,
      "outputs": [
        {
          "output_type": "execute_result",
          "data": {
            "text/plain": [
              "AVG-W2V Clus Label\n",
              "0    414\n",
              "1    238\n",
              "2    100\n",
              "3     93\n",
              "4    155\n",
              "Name: Reviews, dtype: int64"
            ]
          },
          "metadata": {
            "tags": []
          },
          "execution_count": 179
        }
      ]
    },
    {
      "cell_type": "code",
      "metadata": {
        "colab": {
          "base_uri": "https://localhost:8080/"
        },
        "id": "-7Z5JEQzw4Jl",
        "outputId": "d1fdce2e-baff-4538-a560-9078e13d8c08"
      },
      "source": [
        "# Reading a review which belong to each group.\n",
        "for i in range(5):\n",
        "    print(\"2 reviews of assigned to cluster \", i)\n",
        "    print(\"-\" * 70)\n",
        "    print(aggdfa.iloc[aggdfa.groupby(['AVG-W2V Clus Label']).groups[i][0]]['Reviews'])\n",
        "    print('\\n')\n",
        "    print(aggdfa.iloc[aggdfa.groupby(['AVG-W2V Clus Label']).groups[i][1]]['Reviews'])\n",
        "    print('\\n')\n",
        "    print(\"_\" * 70)"
      ],
      "execution_count": 181,
      "outputs": [
        {
          "output_type": "stream",
          "text": [
            "2 reviews of assigned to cluster  0\n",
            "----------------------------------------------------------------------\n",
            "I feel so LUCKY to have found this used (phone to us & not used hard at all), phone on line from someone who upgraded and sold this one. My Son liked his old one that finally fell apart after 2.5+ years and didn't want an upgrade!! Thank you Seller, we really appreciate it & your honesty re: said used phone.I recommend this seller very highly & would but from them again!!\n",
            "\n",
            "\n",
            "nice phone, nice up grade from my pantach revue. Very clean set up and easy set up. never had an android phone but they are fantastic to say the least. perfect size for surfing and social media. great phone samsung\n",
            "\n",
            "\n",
            "______________________________________________________________________\n",
            "2 reviews of assigned to cluster  1\n",
            "----------------------------------------------------------------------\n",
            "It works good but it goes slow sometimes but its a very good phone I love it\n",
            "\n",
            "\n",
            "Great phone to replace my lost phone. The only thing is the volume up button does not work, but I can still go into settings to adjust. Other than that, it does the job until I am eligible to upgrade my phone again.Thaanks!\n",
            "\n",
            "\n",
            "______________________________________________________________________\n",
            "2 reviews of assigned to cluster  2\n",
            "----------------------------------------------------------------------\n",
            "excelente\n",
            "\n",
            "\n",
            "excelente\n",
            "\n",
            "\n",
            "______________________________________________________________________\n",
            "2 reviews of assigned to cluster  3\n",
            "----------------------------------------------------------------------\n",
            "Very pleased\n",
            "\n",
            "\n",
            "as described, fast ship!\n",
            "\n",
            "\n",
            "______________________________________________________________________\n",
            "2 reviews of assigned to cluster  4\n",
            "----------------------------------------------------------------------\n",
            "the reasons for the 3 star rating was it was in my opinion better than my iphone 4s but it tends to randomly crash, and randomly power off but it is good for storage space, battery usage, and camera\n",
            "\n",
            "\n",
            "excellent product in perfect condition\n",
            "\n",
            "\n",
            "______________________________________________________________________\n"
          ],
          "name": "stdout"
        }
      ]
    },
    {
      "cell_type": "markdown",
      "metadata": {
        "id": "sOZ23h9eWVgj"
      },
      "source": [
        "In one paragraph, please compare K means, DBSCAN and Hierarchical clustering. "
      ]
    },
    {
      "cell_type": "markdown",
      "metadata": {
        "id": "6XLDIyiqD8Kc"
      },
      "source": [
        " Compare K means, DBSCAN and Hierarchical clustering.\n",
        "\n",
        " K - means:\n",
        " K-means is more efficient with large datasets but does not work efficiently with noisy data.\n",
        "\n",
        " DBSCAN:\n",
        " DBSCAN is not efficient with large datasets but works efficiently with noisy data.\n",
        "\n",
        " Hierarchical Clustering:\n",
        " Hierarchical clustering is not efficient with hyper spherical shaped clusters.\n",
        "\n"
      ]
    }
  ]
}