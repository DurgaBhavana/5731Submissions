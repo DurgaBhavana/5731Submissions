{
  "nbformat": 4,
  "nbformat_minor": 0,
  "metadata": {
    "colab": {
      "name": "INFO5731_Assignment_One.ipynb",
      "provenance": [],
      "collapsed_sections": [],
      "include_colab_link": true
    },
    "kernelspec": {
      "name": "python3",
      "display_name": "Python 3"
    }
  },
  "cells": [
    {
      "cell_type": "markdown",
      "metadata": {
        "id": "view-in-github",
        "colab_type": "text"
      },
      "source": [
        "<a href=\"https://colab.research.google.com/github/DurgaBhavana/5731Submissions/blob/master/INFO5731_Assignment_One.ipynb\" target=\"_parent\"><img src=\"https://colab.research.google.com/assets/colab-badge.svg\" alt=\"Open In Colab\"/></a>"
      ]
    },
    {
      "cell_type": "markdown",
      "metadata": {
        "id": "Ryk8D1Q4Wsrp",
        "colab_type": "text"
      },
      "source": [
        "# **INFO5731 Assignment One**"
      ]
    },
    {
      "cell_type": "markdown",
      "metadata": {
        "id": "90_NR8c5XGWc",
        "colab_type": "text"
      },
      "source": [
        "# Question 1\n",
        "\n",
        "(20 points). Write a Python program to generate 12 random numbers between 1 and 100. Sort the list of numbers in ascending order and print it out. Sort the list of numbers in descending order and print it out. Calculate the average for the group and print it out."
      ]
    },
    {
      "cell_type": "code",
      "metadata": {
        "id": "5QX6bJjGWXY9",
        "colab_type": "code",
        "colab": {
          "base_uri": "https://localhost:8080/",
          "height": 84
        },
        "outputId": "eb440981-bf6e-4357-96c5-873b33597fe1"
      },
      "source": [
        "# import numpy library to use randint\n",
        "import numpy\n",
        "random_list = numpy.random.randint(1,100,size = 12)\n",
        "print(\"List: {0}\".format(random_list))\n",
        "ascending_list = sorted(random_list, reverse = False)\n",
        "print(\"List after sorted in ascending order: {0}\".format(ascending_list))\n",
        "descending_list = sorted(random_list,reverse = True)\n",
        "print(\"List after sorted in descending order: {0}\".format(descending_list))\n",
        "print(\"Average of elements in the list: {0}\".format(sum(random_list)/len(random_list)))"
      ],
      "execution_count": 243,
      "outputs": [
        {
          "output_type": "stream",
          "text": [
            "List: [97 15 85  7 85 65  3 97 82 88 69 44]\n",
            "List after sorted in ascending order: [3, 7, 15, 44, 65, 69, 82, 85, 85, 88, 97, 97]\n",
            "List after sorted in descending order: [97, 97, 88, 85, 85, 82, 69, 65, 44, 15, 7, 3]\n",
            "Average of elements in the list: 61.416666666666664\n"
          ],
          "name": "stdout"
        }
      ]
    },
    {
      "cell_type": "markdown",
      "metadata": {
        "id": "1F_PZdH9Sh49",
        "colab_type": "text"
      },
      "source": [
        "# Question 2\n",
        "(25 points). Write a program that will do the following string formatting tasks:\n",
        "\n",
        "(1) Ask the user to enter two sentences.\n",
        "\n",
        "(2) Make each sentence into a list. Each element in the list should correspond to a word in the sentence. For example, if the sentence is \"Alas! Am I alive? This is my first python program\", the program should print out ['Alas, '!', 'Am', 'I', 'alive, '?', 'This', 'is', 'my', 'first', 'python', 'program'].\n",
        "\n",
        "(3) Compare the two sentences. Print out a list of words that occur in both sentences.\n",
        "\n",
        "(4) Remove any punctuation from the sentence and print it back out. It should remove at least the following characters, but it can remove more: period(“.”), comma (“,”), semicolon (“;”), and colon (“:”)\n",
        "\n",
        "(5) Count the number of vowels in the sentences. Print out each vowel and the number of times it appears in the sentences, such as: a:2, e:1, i:0, etc"
      ]
    },
    {
      "cell_type": "code",
      "metadata": {
        "id": "Jf_5QXiLdb4H",
        "colab_type": "code",
        "colab": {
          "base_uri": "https://localhost:8080/",
          "height": 50
        },
        "outputId": "67ade4bd-e97e-46ae-9890-5691a2bfd879"
      },
      "source": [
        "import nltk\n",
        "nltk.download('punkt')\n",
        "from nltk.tokenize import word_tokenize"
      ],
      "execution_count": 80,
      "outputs": [
        {
          "output_type": "stream",
          "text": [
            "[nltk_data] Downloading package punkt to /root/nltk_data...\n",
            "[nltk_data]   Package punkt is already up-to-date!\n"
          ],
          "name": "stdout"
        }
      ]
    },
    {
      "cell_type": "code",
      "metadata": {
        "id": "9Jw8kDTX3rql",
        "colab_type": "code",
        "colab": {
          "base_uri": "https://localhost:8080/",
          "height": 50
        },
        "outputId": "7461a598-c223-4c20-a8ed-17a06acae582"
      },
      "source": [
        "# Question 1\n",
        "sample_sentence_1 = input(\"Enter a sentence: \")\n",
        "sample_sentence_2 = input(\"Enter second sentence: \")"
      ],
      "execution_count": 85,
      "outputs": [
        {
          "output_type": "stream",
          "text": [
            "Enter a sentence: I love you\n",
            "Enter second sentence: love\n"
          ],
          "name": "stdout"
        }
      ]
    },
    {
      "cell_type": "code",
      "metadata": {
        "id": "Y7mw8XBq30By",
        "colab_type": "code",
        "colab": {
          "base_uri": "https://localhost:8080/",
          "height": 67
        },
        "outputId": "dbd43f3b-5da5-4af8-f98f-06ca261a62b0"
      },
      "source": [
        "# Question 2\n",
        "sentence1 = word_tokenize(sample_sentence_1)\n",
        "sentence2 = word_tokenize(sample_sentence_2)\n",
        "print(\"The words in both the lists are : \\n{0} \\n{1}\".format(sentence1,sentence2))"
      ],
      "execution_count": 86,
      "outputs": [
        {
          "output_type": "stream",
          "text": [
            "The words in both the lists are : \n",
            "['I', 'love', 'you'] \n",
            "['love']\n"
          ],
          "name": "stdout"
        }
      ]
    },
    {
      "cell_type": "code",
      "metadata": {
        "id": "Dp9ok2Yc4FZ8",
        "colab_type": "code",
        "colab": {}
      },
      "source": [
        "# Question 3\n",
        "def common_in_sets(set1, set2):\n",
        "  s_set1 = set(set1)\n",
        "  s_set2 = set(set2)\n",
        "  if (s_set1 & s_set2):\n",
        "    print(\"The common elements are: {0}\".format(s_set1 & s_set2))\n",
        "  else:\n",
        "    print(\"No common elements\")  "
      ],
      "execution_count": 87,
      "outputs": []
    },
    {
      "cell_type": "code",
      "metadata": {
        "id": "WySo7wiE34Wn",
        "colab_type": "code",
        "colab": {
          "base_uri": "https://localhost:8080/",
          "height": 34
        },
        "outputId": "54fb1612-8eba-4c0d-ff8a-bcecb0a09fcc"
      },
      "source": [
        "common_in_sets(sentence1, sentence2)"
      ],
      "execution_count": 88,
      "outputs": [
        {
          "output_type": "stream",
          "text": [
            "The common elements are: {'love'}\n"
          ],
          "name": "stdout"
        }
      ]
    },
    {
      "cell_type": "code",
      "metadata": {
        "id": "Fc1cwJ7Y9Qnu",
        "colab_type": "code",
        "colab": {
          "base_uri": "https://localhost:8080/",
          "height": 67
        },
        "outputId": "a38930f8-dc49-4db6-b5b3-291194e6cf91"
      },
      "source": [
        "# Question 4\n",
        "getVals_1 = list([val for val in sample_sentence_1 \n",
        "               if val.isalpha() or val.isnumeric()])\n",
        "result_1 = \"\".join(getVals_1)\n",
        "getVals_2 = list([val for val in sample_sentence_2\n",
        "               if val.isalpha() or val.isnumeric()])\n",
        "result_2 = \"\".join(getVals_2)\n",
        "print (\"Sentence after removing punctuations: \\n{0} \\n{1}\".format(result_1, result_2))"
      ],
      "execution_count": 89,
      "outputs": [
        {
          "output_type": "stream",
          "text": [
            "Sentence after removing punctuations: \n",
            "Iloveyou \n",
            "love\n"
          ],
          "name": "stdout"
        }
      ]
    },
    {
      "cell_type": "code",
      "metadata": {
        "id": "8RC7Z8vtd0wq",
        "colab_type": "code",
        "colab": {
          "base_uri": "https://localhost:8080/",
          "height": 50
        },
        "outputId": "00a8cd39-f14b-4db8-d4a7-85af7380f75c"
      },
      "source": [
        "# Question 5\n",
        "lowercase_1 = sample_sentence_1.lower()\n",
        "lowercase_2 = sample_sentence_2.lower()\n",
        "vowel_counts1 = {}\n",
        "vowel_counts2 = {}\n",
        "for vowel in \"aeiou\":\n",
        "    count_vowels_1 = lowercase_1.count(vowel)\n",
        "    count_vowels_2 = lowercase_2.count(vowel)\n",
        "    vowel_counts1[vowel] = count_vowels_1\n",
        "    vowel_counts2[vowel] = count_vowels_2\n",
        "print(\"Count of vowels in sentence 1: {0} \\nCount of vowels in sentence 2: {1} \".format(vowel_counts1, vowel_counts2))"
      ],
      "execution_count": 90,
      "outputs": [
        {
          "output_type": "stream",
          "text": [
            "Count of vowels in sentence 1: {'a': 0, 'e': 1, 'i': 1, 'o': 2, 'u': 1} \n",
            "Count of vowels in sentence 2: {'a': 0, 'e': 1, 'i': 0, 'o': 1, 'u': 0} \n"
          ],
          "name": "stdout"
        }
      ]
    },
    {
      "cell_type": "markdown",
      "metadata": {
        "id": "CmFoI4jDS9nx",
        "colab_type": "text"
      },
      "source": [
        "# Question 3 \n",
        "\n",
        "(15 points). The formula that describes the volume V of a sphere with radius r is the following:\n",
        "\n",
        "$ V=\\frac{4}{3}\\ast\\ \\pi\\ast\\ r^3 $\n",
        "\n",
        "Write a program to calculate the value of V when r is in the range of 1–10. Output the result in the following format:\n",
        "\n",
        "\tr\tV\n",
        "\t1\t…\n",
        "\t2\t…\n",
        "\t3\t…\n"
      ]
    },
    {
      "cell_type": "code",
      "metadata": {
        "id": "pEyqeioAT95b",
        "colab_type": "code",
        "colab": {
          "base_uri": "https://localhost:8080/",
          "height": 202
        },
        "outputId": "c4620144-c4f9-48a5-9c24-86bff053f4b8"
      },
      "source": [
        "import numpy\n",
        "print(\"r   V\")\n",
        "for r in range(1,11):\n",
        "  V = (4.0/3.0) * numpy.pi * r**3\n",
        "  print(\"{0}   {1}\".format(r,V))\n"
      ],
      "execution_count": 97,
      "outputs": [
        {
          "output_type": "stream",
          "text": [
            "r   V\n",
            "1   4.1887902047863905\n",
            "2   33.510321638291124\n",
            "3   113.09733552923254\n",
            "4   268.082573106329\n",
            "5   523.5987755982989\n",
            "6   904.7786842338603\n",
            "7   1436.7550402417319\n",
            "8   2144.660584850632\n",
            "9   3053.6280592892786\n",
            "10   4188.790204786391\n"
          ],
          "name": "stdout"
        }
      ]
    },
    {
      "cell_type": "markdown",
      "metadata": {
        "id": "z3tBE7E-Xn5X",
        "colab_type": "text"
      },
      "source": [
        "# Question 4\n",
        "\n",
        "(40 points). In the field of Data Science, data is often formatted as a comma-delimited (CSV) file, where each line in a file corresponds to a field's value. Refer to Chapter 9 (p. 106) for more information on comma-delimited files. To answer this question, you will need to download the file [Assignment1_denton_housing.csv](https://github.com/unt-iialab/INFO5731_FALL2020/blob/master/Assignments/Assignment1_denton_housing.csv) included with this assignment. The [file Assignment1_denton_housing.csv](https://github.com/unt-iialab/INFO5731_FALL2020/blob/master/Assignments/Assignment1_denton_housing.csv) contains statistics about housing in the city of Denton from 2008 to 2014. Write a program to implement the following questions.\n",
        "\n",
        "(1) (10 pts) Calculate the difference in the number of Occupied Housing Units from year to year and print it. The difference must be calculated for the consecutive years such as 2008-2009, 2009-2010 etc. Finally, print the values in the ascending order.\n",
        "\n",
        "(2) (10 pts) For all the years, calculate the percentage of housing units which are vacant an occupied. Print the results in the following format:\n",
        "\n",
        "Year Vacant Housing Units Occupied Housing Units\n",
        "\n",
        "    2008  30%   70%                          \n",
        "\t2009 ----- -----\n",
        "\t2010 ----- -----\n",
        "    2011 ----- -----\n",
        "\t2012 ----- -----\n",
        "    2013 ----- -----\n",
        "\t2014 ----- -----\n",
        "  \n",
        "  \n",
        "\n",
        "(3) (10 pts) Calculate and print the valued and years in which the highest number of housing units were vacant and occupied. Print the results in the following format:  \n",
        "\n",
        "                              Year\tValue\n",
        "\tVacant Housing Units\t  -----   -----\n",
        "\tOccupied Housing Units\t-----   -----\n",
        "\n",
        "(4) (10 pts) Calculate the harmonic mean of the total housing units and print it out. You can find the information about harmonic mean here: https://ncalculators.com/statistics/harmonic-mean-calculator.htm"
      ]
    },
    {
      "cell_type": "code",
      "metadata": {
        "id": "Oyn1Q-gG26xv",
        "colab_type": "code",
        "colab": {}
      },
      "source": [
        "import pandas as pd"
      ],
      "execution_count": 212,
      "outputs": []
    },
    {
      "cell_type": "code",
      "metadata": {
        "id": "lqGYuHBhcsRH",
        "colab_type": "code",
        "colab": {
          "base_uri": "https://localhost:8080/",
          "height": 225
        },
        "outputId": "6084229f-aba8-46dd-a56b-67d018b9b6e1"
      },
      "source": [
        "# Question 1\n",
        "housing_data_df = pd.read_csv('/Assignment1_denton_housing.csv')\n",
        "hd_df = housing_data_df[[ 'year','title_field', 'value']].groupby(['title_field']).get_group('Occupied Housing Units')\n",
        "sorted_df = hd_df.sort_values(by=['year'])\n",
        "sorted_df['difference'] = sorted_df['value'].shift(-1) - sorted_df['value']\n",
        "final_df = sorted_df.sort_values(by=['difference'])\n",
        "final_df.dropna()"
      ],
      "execution_count": 226,
      "outputs": [
        {
          "output_type": "execute_result",
          "data": {
            "text/html": [
              "<div>\n",
              "<style scoped>\n",
              "    .dataframe tbody tr th:only-of-type {\n",
              "        vertical-align: middle;\n",
              "    }\n",
              "\n",
              "    .dataframe tbody tr th {\n",
              "        vertical-align: top;\n",
              "    }\n",
              "\n",
              "    .dataframe thead th {\n",
              "        text-align: right;\n",
              "    }\n",
              "</style>\n",
              "<table border=\"1\" class=\"dataframe\">\n",
              "  <thead>\n",
              "    <tr style=\"text-align: right;\">\n",
              "      <th></th>\n",
              "      <th>year</th>\n",
              "      <th>title_field</th>\n",
              "      <th>value</th>\n",
              "      <th>difference</th>\n",
              "    </tr>\n",
              "  </thead>\n",
              "  <tbody>\n",
              "    <tr>\n",
              "      <th>20</th>\n",
              "      <td>2008</td>\n",
              "      <td>Occupied Housing Units</td>\n",
              "      <td>36711</td>\n",
              "      <td>-795.0</td>\n",
              "    </tr>\n",
              "    <tr>\n",
              "      <th>14</th>\n",
              "      <td>2010</td>\n",
              "      <td>Occupied Housing Units</td>\n",
              "      <td>41007</td>\n",
              "      <td>-303.0</td>\n",
              "    </tr>\n",
              "    <tr>\n",
              "      <th>11</th>\n",
              "      <td>2011</td>\n",
              "      <td>Occupied Housing Units</td>\n",
              "      <td>40704</td>\n",
              "      <td>1404.0</td>\n",
              "    </tr>\n",
              "    <tr>\n",
              "      <th>8</th>\n",
              "      <td>2012</td>\n",
              "      <td>Occupied Housing Units</td>\n",
              "      <td>42108</td>\n",
              "      <td>1565.0</td>\n",
              "    </tr>\n",
              "    <tr>\n",
              "      <th>5</th>\n",
              "      <td>2013</td>\n",
              "      <td>Occupied Housing Units</td>\n",
              "      <td>43673</td>\n",
              "      <td>2622.0</td>\n",
              "    </tr>\n",
              "    <tr>\n",
              "      <th>17</th>\n",
              "      <td>2009</td>\n",
              "      <td>Occupied Housing Units</td>\n",
              "      <td>35916</td>\n",
              "      <td>5091.0</td>\n",
              "    </tr>\n",
              "  </tbody>\n",
              "</table>\n",
              "</div>"
            ],
            "text/plain": [
              "    year             title_field  value  difference\n",
              "20  2008  Occupied Housing Units  36711      -795.0\n",
              "14  2010  Occupied Housing Units  41007      -303.0\n",
              "11  2011  Occupied Housing Units  40704      1404.0\n",
              "8   2012  Occupied Housing Units  42108      1565.0\n",
              "5   2013  Occupied Housing Units  43673      2622.0\n",
              "17  2009  Occupied Housing Units  35916      5091.0"
            ]
          },
          "metadata": {
            "tags": []
          },
          "execution_count": 226
        }
      ]
    },
    {
      "cell_type": "code",
      "metadata": {
        "id": "ZjskUSMu25CK",
        "colab_type": "code",
        "colab": {
          "base_uri": "https://localhost:8080/",
          "height": 151
        },
        "outputId": "014ca3ac-14f8-4c58-9915-c88f1b57c8ce"
      },
      "source": [
        "# Question 2\n",
        "occupied_sum_df = housing_data_df.loc[housing_data_df['title_field'] == 'Occupied Housing Units'].sort_values(by = ['year'])['value'].values.tolist()\n",
        "vacant_sum_df = housing_data_df.loc[housing_data_df['title_field'] == 'Vacant Housing Units'].sort_values(by = ['year'])['value'].values.tolist()\n",
        "sum_df = housing_data_df.loc[housing_data_df['title_field'] == 'Total Housing Units'].sort_values(by=['year'])['value'].values.tolist()\n",
        "\n",
        "percent_vacant = [str((i/j)*100)+' %' for i,j in zip(vacant_sum_df,sum_df)]\n",
        "percent_occupied = [str((i/j)*100)+' %' for i,j in zip(occupied_sum_df,sum_df)]\n",
        "\n",
        "housing_data_df = pd.concat([pd.DataFrame(housing_data_df.loc[housing_data_df['title_field'] == 'Occupied Housing Units'].sort_values(by = ['year'])['year'].values.tolist(),\n",
        "                             columns=['Year']),\n",
        "                pd.DataFrame(percent_vacant,columns =['vacant housing units']),\n",
        "                pd.DataFrame(percent_occupied,columns =['occupied housing units'])],axis=1)\n",
        "print(housing_data_df)"
      ],
      "execution_count": 229,
      "outputs": [
        {
          "output_type": "stream",
          "text": [
            "   Year vacant housing units occupied housing units\n",
            "0  2008  10.88265281351653 %    89.11734718648347 %\n",
            "1  2009   9.07111572444872 %    90.92888427555128 %\n",
            "2  2010  8.142556337081672 %    91.85744366291833 %\n",
            "3  2011  9.379522229890688 %     90.6204777701093 %\n",
            "4  2012  6.677600230491346 %    93.32239976950866 %\n",
            "5  2013  8.801787504176412 %    91.19821249582358 %\n",
            "6  2014  5.730110570363885 %    94.26988942963611 %\n"
          ],
          "name": "stdout"
        }
      ]
    },
    {
      "cell_type": "code",
      "metadata": {
        "id": "JRMZJR9dDOs6",
        "colab_type": "code",
        "colab": {
          "base_uri": "https://localhost:8080/",
          "height": 67
        },
        "outputId": "b8e81d79-f3d5-4b4b-dd70-4eb5181aeb4a"
      },
      "source": [
        "# Question 3\n",
        "housing_data_df = pd.read_csv('/Assignment1_denton_housing.csv')\n",
        "highest_occupied = housing_data_df.loc[housing_data_df['title_field'] == 'Occupied Housing Units','value'].max()\n",
        "highest_vacant = housing_data_df.loc[housing_data_df['title_field'] == 'Vacant Housing Units','value'].max()\n",
        "occupied_df = housing_data_df.loc[(housing_data_df['title_field'] == 'Occupied Housing Units') & (housing_data_df['value'] == highest_occupied)]\n",
        "vacant_df = housing_data_df.loc[(housing_data_df['title_field'] == 'Vacant Housing Units') & (housing_data_df['value'] == highest_vacant)]\n",
        "housing_data_df = pd.concat([vacant_df,occupied_df])\n",
        "print(housing_data_df[['title_field','year','value']])"
      ],
      "execution_count": 236,
      "outputs": [
        {
          "output_type": "stream",
          "text": [
            "               title_field  year  value\n",
            "19    Vacant Housing Units  2008   4483\n",
            "2   Occupied Housing Units  2014  46295\n"
          ],
          "name": "stdout"
        }
      ]
    },
    {
      "cell_type": "code",
      "metadata": {
        "id": "_iX-U9xrQ-C6",
        "colab_type": "code",
        "colab": {
          "base_uri": "https://localhost:8080/",
          "height": 34
        },
        "outputId": "0332bfb0-49ce-45a4-bb18-f405fbfaa242"
      },
      "source": [
        "# Question 4\n",
        "from scipy.stats import hmean\n",
        "print(\"The harmonic mean of total housing units: {0}\".format(hmean(sum_df)))"
      ],
      "execution_count": 242,
      "outputs": [
        {
          "output_type": "stream",
          "text": [
            "The harmonic mean of total housing units: 44398.28543969185\n"
          ],
          "name": "stdout"
        }
      ]
    }
  ]
}