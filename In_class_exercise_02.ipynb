{
  "nbformat": 4,
  "nbformat_minor": 0,
  "metadata": {
    "colab": {
      "name": "In_class_exercise_02.ipynb",
      "provenance": [],
      "collapsed_sections": [],
      "include_colab_link": true
    },
    "kernelspec": {
      "display_name": "Python 3",
      "language": "python",
      "name": "python3"
    },
    "language_info": {
      "codemirror_mode": {
        "name": "ipython",
        "version": 3
      },
      "file_extension": ".py",
      "mimetype": "text/x-python",
      "name": "python",
      "nbconvert_exporter": "python",
      "pygments_lexer": "ipython3",
      "version": "3.7.4"
    }
  },
  "cells": [
    {
      "cell_type": "markdown",
      "metadata": {
        "id": "view-in-github",
        "colab_type": "text"
      },
      "source": [
        "<a href=\"https://colab.research.google.com/github/DurgaBhavana/5731Submissions/blob/master/In_class_exercise_02.ipynb\" target=\"_parent\"><img src=\"https://colab.research.google.com/assets/colab-badge.svg\" alt=\"Open In Colab\"/></a>"
      ]
    },
    {
      "cell_type": "markdown",
      "metadata": {
        "colab_type": "text",
        "id": "oo5bsEh2eeWi"
      },
      "source": [
        "# **The second In-class-exercise (9/9/2020, 20 points in total)**\n"
      ]
    },
    {
      "cell_type": "markdown",
      "metadata": {
        "colab_type": "text",
        "id": "2sPQ58dIeqgp"
      },
      "source": [
        "(1) Write a Python program to find the duplicate elements in a given array of integers. Return -1 If there are no such elements. (4 points)"
      ]
    },
    {
      "cell_type": "code",
      "metadata": {
        "colab_type": "code",
        "id": "mnrvKMFTeoJR",
        "colab": {
          "base_uri": "https://localhost:8080/",
          "height": 34
        },
        "outputId": "6a9c0c82-7d06-4ca8-f2f1-1fa7f55d2f7a"
      },
      "source": [
        "# write your answer here\n",
        "import numpy\n",
        "sample_array = [1,2,3,3,4,4,5,6,6,6,6,6,2]                                                     # read an array\n",
        "a = []\n",
        "for value, item in enumerate(sorted(sample_array)):                              # use loop to move around in the sorted array\n",
        "  if value == 0:                                                                 # use conditional statements to check if there are any duplicates, \n",
        "    temp_value = item                                                            # also using a temporary variable called \"temp_value\"\n",
        "  elif temp_value == item:\n",
        "    a.append(item)                                                               # append the value if the present item is equal to the previous item that is stored in temp_value\n",
        "  else:\n",
        "    temp_value = item\n",
        "if (a != []):                                                                    # a has all the duplicate values, check if it is not empty                                                                    # if not empty, assign the unique duplicate list to b\n",
        "  print(\"Duplicates in the given array are: {0}\".format(set(a)))                 # print the unique duplicate list\n",
        "else:\n",
        "  print(\"-1\")                                                                    # if duplicates appended array is empty(no duplicates found), print -1"
      ],
      "execution_count": 80,
      "outputs": [
        {
          "output_type": "stream",
          "text": [
            "Duplicates in the given array are: {2, 3, 4, 6}\n"
          ],
          "name": "stdout"
        }
      ]
    },
    {
      "cell_type": "markdown",
      "metadata": {
        "colab_type": "text",
        "id": "YYrH6n6IhZoQ"
      },
      "source": [
        "(2) Write a Python program to select all the Sundays of a specified year. (4 points)\n",
        "\n"
      ]
    },
    {
      "cell_type": "code",
      "metadata": {
        "colab_type": "code",
        "id": "OSfPLd23eLpX",
        "colab": {
          "base_uri": "https://localhost:8080/",
          "height": 890
        },
        "outputId": "106406ed-de4e-431b-eb58-6e6019ac9df0"
      },
      "source": [
        "# write your answer here\n",
        "from datetime import date, timedelta, datetime\n",
        "year = 2019\n",
        "b = []\n",
        "sundays_count = date(year, 1, 1)                                                  # first day of the year\n",
        "sundays_count = sundays_count + timedelta(days = 6 - sundays_count.weekday())     # identifying fist sunday of the year\n",
        "while sundays_count.year == year:\n",
        "  sundays_count = sundays_count + timedelta(days = 7)\n",
        "  b.append(sundays_count)\n",
        "for i in b:\n",
        "  print(i)"
      ],
      "execution_count": 146,
      "outputs": [
        {
          "output_type": "stream",
          "text": [
            "2019-01-13\n",
            "2019-01-20\n",
            "2019-01-27\n",
            "2019-02-03\n",
            "2019-02-10\n",
            "2019-02-17\n",
            "2019-02-24\n",
            "2019-03-03\n",
            "2019-03-10\n",
            "2019-03-17\n",
            "2019-03-24\n",
            "2019-03-31\n",
            "2019-04-07\n",
            "2019-04-14\n",
            "2019-04-21\n",
            "2019-04-28\n",
            "2019-05-05\n",
            "2019-05-12\n",
            "2019-05-19\n",
            "2019-05-26\n",
            "2019-06-02\n",
            "2019-06-09\n",
            "2019-06-16\n",
            "2019-06-23\n",
            "2019-06-30\n",
            "2019-07-07\n",
            "2019-07-14\n",
            "2019-07-21\n",
            "2019-07-28\n",
            "2019-08-04\n",
            "2019-08-11\n",
            "2019-08-18\n",
            "2019-08-25\n",
            "2019-09-01\n",
            "2019-09-08\n",
            "2019-09-15\n",
            "2019-09-22\n",
            "2019-09-29\n",
            "2019-10-06\n",
            "2019-10-13\n",
            "2019-10-20\n",
            "2019-10-27\n",
            "2019-11-03\n",
            "2019-11-10\n",
            "2019-11-17\n",
            "2019-11-24\n",
            "2019-12-01\n",
            "2019-12-08\n",
            "2019-12-15\n",
            "2019-12-22\n",
            "2019-12-29\n",
            "2020-01-05\n"
          ],
          "name": "stdout"
        }
      ]
    },
    {
      "cell_type": "markdown",
      "metadata": {
        "colab_type": "text",
        "id": "UIpziZ6Sjie-"
      },
      "source": [
        "(3) Python files reading and writing. Download the “[exercise_02_data _collection.zip](https://github.com/unt-iialab/INFO5731_FALL2020/blob/master/In_class_exercise/exercise_02_data_collection.zip)” to your local and un-zip it.\n",
        "\n",
        "*   Write a program to read all the txt files and save the sentences in all the files into one csv file with two columns, the first column is sentence id (txt file name+sentence line number), the second column is the sentence text content. (4 points)\n",
        "*   Remove all the punctuations from the sentences, save the processed sentences into a new column in the same csv file. (4 points)\n",
        "*   Ask the user to enter a word, return all the sentences that include this word, three kinds of information should be returned: sentence id, sentence text content, the count that user input word appear in the sentence. (4 points)\n",
        "\n"
      ]
    },
    {
      "cell_type": "code",
      "metadata": {
        "colab_type": "code",
        "id": "f3CUsrWOj1Xy",
        "colab": {
          "resources": {
            "http://localhost:8080/nbextensions/google.colab/files.js": {
              "data": "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",
              "ok": true,
              "headers": [
                [
                  "content-type",
                  "application/javascript"
                ]
              ],
              "status": 200,
              "status_text": ""
            }
          },
          "base_uri": "https://localhost:8080/",
          "height": 1000
        },
        "outputId": "890507d8-b2bf-407e-e995-777ae70b3865"
      },
      "source": [
        "# write your answer here\n",
        "import os\n",
        "from google.colab import files\n",
        "uploaded = files.upload()"
      ],
      "execution_count": 160,
      "outputs": [
        {
          "output_type": "display_data",
          "data": {
            "text/html": [
              "\n",
              "     <input type=\"file\" id=\"files-c160c3b3-2f6c-4973-a616-7eaf7bdfc0f6\" name=\"files[]\" multiple disabled\n",
              "        style=\"border:none\" />\n",
              "     <output id=\"result-c160c3b3-2f6c-4973-a616-7eaf7bdfc0f6\">\n",
              "      Upload widget is only available when the cell has been executed in the\n",
              "      current browser session. Please rerun this cell to enable.\n",
              "      </output>\n",
              "      <script src=\"/nbextensions/google.colab/files.js\"></script> "
            ],
            "text/plain": [
              "<IPython.core.display.HTML object>"
            ]
          },
          "metadata": {
            "tags": []
          }
        },
        {
          "output_type": "stream",
          "text": [
            "Saving ARTHROTEC.1.txt to ARTHROTEC.1 (1).txt\n",
            "Saving ARTHROTEC.2.txt to ARTHROTEC.2 (1).txt\n",
            "Saving ARTHROTEC.3.txt to ARTHROTEC.3 (1).txt\n",
            "Saving ARTHROTEC.4.txt to ARTHROTEC.4 (1).txt\n",
            "Saving ARTHROTEC.5.txt to ARTHROTEC.5 (1).txt\n",
            "Saving ARTHROTEC.6.txt to ARTHROTEC.6 (2).txt\n",
            "Saving ARTHROTEC.7.txt to ARTHROTEC.7 (1).txt\n",
            "Saving ARTHROTEC.8.txt to ARTHROTEC.8 (1).txt\n",
            "Saving ARTHROTEC.9.txt to ARTHROTEC.9 (1).txt\n",
            "Saving ARTHROTEC.10.txt to ARTHROTEC.10 (1).txt\n",
            "Saving ARTHROTEC.12.txt to ARTHROTEC.12 (1).txt\n",
            "Saving ARTHROTEC.13.txt to ARTHROTEC.13 (1).txt\n",
            "Saving ARTHROTEC.14.txt to ARTHROTEC.14 (1).txt\n",
            "Saving ARTHROTEC.15.txt to ARTHROTEC.15 (1).txt\n",
            "Saving ARTHROTEC.16.txt to ARTHROTEC.16 (1).txt\n",
            "Saving ARTHROTEC.17.txt to ARTHROTEC.17 (1).txt\n",
            "Saving ARTHROTEC.18.txt to ARTHROTEC.18 (1).txt\n",
            "Saving ARTHROTEC.19.txt to ARTHROTEC.19 (1).txt\n",
            "Saving ARTHROTEC.20.txt to ARTHROTEC.20 (1).txt\n",
            "Saving ARTHROTEC.21.txt to ARTHROTEC.21 (1).txt\n",
            "Saving ARTHROTEC.22.txt to ARTHROTEC.22 (1).txt\n",
            "Saving ARTHROTEC.23.txt to ARTHROTEC.23 (1).txt\n",
            "Saving ARTHROTEC.24.txt to ARTHROTEC.24 (1).txt\n",
            "Saving ARTHROTEC.25.txt to ARTHROTEC.25 (1).txt\n",
            "Saving ARTHROTEC.26.txt to ARTHROTEC.26 (1).txt\n",
            "Saving ARTHROTEC.27.txt to ARTHROTEC.27 (1).txt\n",
            "Saving ARTHROTEC.28.txt to ARTHROTEC.28 (1).txt\n",
            "Saving ARTHROTEC.29.txt to ARTHROTEC.29 (1).txt\n",
            "Saving ARTHROTEC.30.txt to ARTHROTEC.30 (1).txt\n",
            "Saving ARTHROTEC.31.txt to ARTHROTEC.31 (1).txt\n",
            "Saving ARTHROTEC.32.txt to ARTHROTEC.32 (1).txt\n",
            "Saving ARTHROTEC.33.txt to ARTHROTEC.33 (1).txt\n",
            "Saving ARTHROTEC.34.txt to ARTHROTEC.34 (1).txt\n",
            "Saving ARTHROTEC.35.txt to ARTHROTEC.35 (1).txt\n",
            "Saving ARTHROTEC.36.txt to ARTHROTEC.36 (1).txt\n",
            "Saving ARTHROTEC.37.txt to ARTHROTEC.37 (1).txt\n",
            "Saving ARTHROTEC.38.txt to ARTHROTEC.38 (1).txt\n",
            "Saving ARTHROTEC.39.txt to ARTHROTEC.39 (1).txt\n",
            "Saving ARTHROTEC.40.txt to ARTHROTEC.40 (1).txt\n",
            "Saving ARTHROTEC.41.txt to ARTHROTEC.41 (1).txt\n",
            "Saving ARTHROTEC.42.txt to ARTHROTEC.42 (1).txt\n",
            "Saving ARTHROTEC.43.txt to ARTHROTEC.43 (1).txt\n",
            "Saving ARTHROTEC.44.txt to ARTHROTEC.44 (1).txt\n",
            "Saving ARTHROTEC.45.txt to ARTHROTEC.45 (1).txt\n",
            "Saving ARTHROTEC.46.txt to ARTHROTEC.46 (1).txt\n",
            "Saving ARTHROTEC.47.txt to ARTHROTEC.47 (1).txt\n",
            "Saving ARTHROTEC.48.txt to ARTHROTEC.48 (1).txt\n",
            "Saving ARTHROTEC.49.txt to ARTHROTEC.49 (1).txt\n",
            "Saving ARTHROTEC.50.txt to ARTHROTEC.50 (1).txt\n",
            "Saving ARTHROTEC.51.txt to ARTHROTEC.51 (1).txt\n",
            "Saving ARTHROTEC.52.txt to ARTHROTEC.52 (1).txt\n",
            "Saving ARTHROTEC.53.txt to ARTHROTEC.53 (1).txt\n",
            "Saving ARTHROTEC.54.txt to ARTHROTEC.54 (1).txt\n",
            "Saving ARTHROTEC.55.txt to ARTHROTEC.55 (1).txt\n",
            "Saving ARTHROTEC.56.txt to ARTHROTEC.56 (1).txt\n",
            "Saving ARTHROTEC.57.txt to ARTHROTEC.57 (1).txt\n",
            "Saving ARTHROTEC.58.txt to ARTHROTEC.58 (1).txt\n",
            "Saving ARTHROTEC.59.txt to ARTHROTEC.59 (1).txt\n",
            "Saving ARTHROTEC.60.txt to ARTHROTEC.60 (1).txt\n",
            "Saving ARTHROTEC.61.txt to ARTHROTEC.61 (1).txt\n",
            "Saving ARTHROTEC.62.txt to ARTHROTEC.62 (1).txt\n",
            "Saving ARTHROTEC.63.txt to ARTHROTEC.63 (1).txt\n",
            "Saving ARTHROTEC.64.txt to ARTHROTEC.64 (1).txt\n",
            "Saving ARTHROTEC.65.txt to ARTHROTEC.65 (1).txt\n",
            "Saving ARTHROTEC.66.txt to ARTHROTEC.66 (1).txt\n",
            "Saving ARTHROTEC.67.txt to ARTHROTEC.67 (1).txt\n",
            "Saving ARTHROTEC.68.txt to ARTHROTEC.68 (1).txt\n",
            "Saving ARTHROTEC.69.txt to ARTHROTEC.69 (1).txt\n",
            "Saving ARTHROTEC.70.txt to ARTHROTEC.70 (1).txt\n",
            "Saving ARTHROTEC.71.txt to ARTHROTEC.71 (1).txt\n",
            "Saving ARTHROTEC.72.txt to ARTHROTEC.72 (1).txt\n",
            "Saving ARTHROTEC.73.txt to ARTHROTEC.73 (1).txt\n",
            "Saving ARTHROTEC.74.txt to ARTHROTEC.74 (1).txt\n",
            "Saving ARTHROTEC.75.txt to ARTHROTEC.75 (1).txt\n",
            "Saving ARTHROTEC.76.txt to ARTHROTEC.76 (1).txt\n",
            "Saving ARTHROTEC.77.txt to ARTHROTEC.77 (1).txt\n",
            "Saving ARTHROTEC.78.txt to ARTHROTEC.78 (1).txt\n",
            "Saving ARTHROTEC.79.txt to ARTHROTEC.79 (1).txt\n",
            "Saving ARTHROTEC.80.txt to ARTHROTEC.80 (1).txt\n",
            "Saving ARTHROTEC.81.txt to ARTHROTEC.81 (1).txt\n",
            "Saving ARTHROTEC.82.txt to ARTHROTEC.82 (1).txt\n",
            "Saving ARTHROTEC.83.txt to ARTHROTEC.83 (1).txt\n",
            "Saving ARTHROTEC.84.txt to ARTHROTEC.84 (1).txt\n",
            "Saving ARTHROTEC.85.txt to ARTHROTEC.85 (1).txt\n",
            "Saving ARTHROTEC.86.txt to ARTHROTEC.86 (1).txt\n",
            "Saving ARTHROTEC.87.txt to ARTHROTEC.87 (1).txt\n",
            "Saving ARTHROTEC.88.txt to ARTHROTEC.88 (1).txt\n",
            "Saving ARTHROTEC.89.txt to ARTHROTEC.89 (1).txt\n",
            "Saving ARTHROTEC.90.txt to ARTHROTEC.90 (1).txt\n",
            "Saving ARTHROTEC.91.txt to ARTHROTEC.91 (1).txt\n",
            "Saving ARTHROTEC.92.txt to ARTHROTEC.92 (1).txt\n",
            "Saving ARTHROTEC.93.txt to ARTHROTEC.93 (1).txt\n",
            "Saving ARTHROTEC.94.txt to ARTHROTEC.94 (1).txt\n",
            "Saving ARTHROTEC.95.txt to ARTHROTEC.95 (1).txt\n",
            "Saving ARTHROTEC.96.txt to ARTHROTEC.96 (1).txt\n",
            "Saving ARTHROTEC.97.txt to ARTHROTEC.97 (1).txt\n",
            "Saving ARTHROTEC.98.txt to ARTHROTEC.98 (1).txt\n",
            "Saving ARTHROTEC.99.txt to ARTHROTEC.99 (1).txt\n",
            "Saving ARTHROTEC.100.txt to ARTHROTEC.100 (1).txt\n"
          ],
          "name": "stdout"
        }
      ]
    },
    {
      "cell_type": "code",
      "metadata": {
        "id": "WWLgoR6RDQvd",
        "colab_type": "code",
        "colab": {
          "base_uri": "https://localhost:8080/",
          "height": 218
        },
        "outputId": "7245c388-2f3e-4afd-b5de-dd79ea0edea8"
      },
      "source": [
        "import pandas as pd\n",
        "import csv\n",
        "column_id = []\n",
        "result = []\n",
        "new_list = []\n",
        "read_sentence = []\n",
        "for file in uploaded:\n",
        "  with open(file, 'r') as file1:\n",
        "     read_sentence = file1.read().splitlines()\n",
        "     for j in range(len(read_sentence)):\n",
        "       column_id.append(file+'.'+str(j))\n",
        "     for i in read_sentence:\n",
        "       result.append(i)\n",
        "with open('INFO5731.csv', 'w') as file1:\n",
        "    writer = csv.writer(file1)\n",
        "    for val in result:\n",
        "        writer.writerow([val])\n",
        "output1 = pd.read_csv(\"INFO5731.csv\",names = ['text'])\n",
        "dataframe1 = pd.DataFrame(column_id,columns = ['Sentence_ID'])\n",
        "result_file = (pd.concat([output1,dataframe1],axis=1)).reindex(columns=['Sentence_ID','text'])\n",
        "result_file.to_csv('INFO5731_Final.csv')\n",
        "print(result_file['text'].str.replace('[^\\w\\s]',''))"
      ],
      "execution_count": 179,
      "outputs": [
        {
          "output_type": "stream",
          "text": [
            "0      I feel a bit drowsy  have a little blurred vis...\n",
            "1      Ive been on Arthrotec 50 for over 10 years on ...\n",
            "2      Due to my arthritis getting progressively wors...\n",
            "3      every day for the next month to see how I get ...\n",
            "4      So far its been very good pains almost gone bu...\n",
            "                             ...                        \n",
            "530                             canker sores in my mouth\n",
            "531                                             headache\n",
            "532              been off for 1 week still have bleeding\n",
            "533                                 helped my pain alot \n",
            "534                   too scared to take this drug again\n",
            "Name: text, Length: 535, dtype: object\n"
          ],
          "name": "stdout"
        }
      ]
    },
    {
      "cell_type": "code",
      "metadata": {
        "id": "nS-KskHHJWMK",
        "colab_type": "code",
        "colab": {
          "base_uri": "https://localhost:8080/",
          "height": 118
        },
        "outputId": "3e73c541-9f7f-43d5-bca7-72c1cf9bda26"
      },
      "source": [
        "word_to_search = input('Enter a word to find from the files:')\n",
        "result_file_2 = result_file[result_file['text'].str.contains(word_to_search,na=False)]\n",
        "del result_file_2['No_Punctuation']\n",
        "result_file_3 = result_file_2.text.str\n",
        "check_final3 = result_file_3.count(word_to_search)\n",
        "check_final = check_final3.to_frame(name='Frequency in sentence')\n",
        "print(pd.concat([result_file_2,check_final],axis=1))"
      ],
      "execution_count": 173,
      "outputs": [
        {
          "output_type": "stream",
          "text": [
            "Enter a word to find from the files:dizzy\n",
            "            Sentence_ID  ... Frequency in sentence\n",
            "91   ARTHROTEC.17.txt.6  ...                     1\n",
            "127  ARTHROTEC.23.txt.2  ...                     1\n",
            "\n",
            "[2 rows x 3 columns]\n"
          ],
          "name": "stdout"
        }
      ]
    },
    {
      "cell_type": "markdown",
      "metadata": {
        "colab_type": "text",
        "id": "-12cqmJEpZOh"
      },
      "source": [
        "(4) Install packages nltk, numpy, scipy, pandas, and sklearn on Google Colab. Write a program to test whether they are installed successfully. (3 points for extra)"
      ]
    },
    {
      "cell_type": "code",
      "metadata": {
        "id": "j8GXw5Ve4LJZ",
        "colab_type": "code",
        "colab": {
          "base_uri": "https://localhost:8080/",
          "height": 50
        },
        "outputId": "bee5d9b2-1be8-498c-be86-6993cc13695f"
      },
      "source": [
        "!pip install nltk # installing command for  nltk package"
      ],
      "execution_count": 97,
      "outputs": [
        {
          "output_type": "stream",
          "text": [
            "Requirement already satisfied: nltk in /usr/local/lib/python3.6/dist-packages (3.2.5)\n",
            "Requirement already satisfied: six in /usr/local/lib/python3.6/dist-packages (from nltk) (1.15.0)\n"
          ],
          "name": "stdout"
        }
      ]
    },
    {
      "cell_type": "code",
      "metadata": {
        "id": "pYtolG864Nan",
        "colab_type": "code",
        "colab": {
          "base_uri": "https://localhost:8080/",
          "height": 34
        },
        "outputId": "11eb2956-2adf-4d5c-baa2-1e9e6622e875"
      },
      "source": [
        "!pip install numpy # installing command for  nltk package"
      ],
      "execution_count": 110,
      "outputs": [
        {
          "output_type": "stream",
          "text": [
            "Requirement already satisfied: numpy in /usr/local/lib/python3.6/dist-packages (1.18.5)\n"
          ],
          "name": "stdout"
        }
      ]
    },
    {
      "cell_type": "code",
      "metadata": {
        "id": "AHmL8QiE4Ucd",
        "colab_type": "code",
        "colab": {
          "base_uri": "https://localhost:8080/",
          "height": 50
        },
        "outputId": "84beab98-b73a-4f78-a758-70814a4b9fef"
      },
      "source": [
        "!pip install scipy # installing command for  nltk package"
      ],
      "execution_count": 100,
      "outputs": [
        {
          "output_type": "stream",
          "text": [
            "Requirement already satisfied: scipy in /usr/local/lib/python3.6/dist-packages (1.4.1)\n",
            "Requirement already satisfied: numpy>=1.13.3 in /usr/local/lib/python3.6/dist-packages (from scipy) (1.18.5)\n"
          ],
          "name": "stdout"
        }
      ]
    },
    {
      "cell_type": "code",
      "metadata": {
        "id": "BjsqeLSg4XWi",
        "colab_type": "code",
        "colab": {
          "base_uri": "https://localhost:8080/",
          "height": 101
        },
        "outputId": "d80d3da7-c02c-4e4d-aa87-e0125909656a"
      },
      "source": [
        "!pip install pandas # installing command for  nltk package"
      ],
      "execution_count": 101,
      "outputs": [
        {
          "output_type": "stream",
          "text": [
            "Requirement already satisfied: pandas in /usr/local/lib/python3.6/dist-packages (1.0.5)\n",
            "Requirement already satisfied: pytz>=2017.2 in /usr/local/lib/python3.6/dist-packages (from pandas) (2018.9)\n",
            "Requirement already satisfied: python-dateutil>=2.6.1 in /usr/local/lib/python3.6/dist-packages (from pandas) (2.8.1)\n",
            "Requirement already satisfied: numpy>=1.13.3 in /usr/local/lib/python3.6/dist-packages (from pandas) (1.18.5)\n",
            "Requirement already satisfied: six>=1.5 in /usr/local/lib/python3.6/dist-packages (from python-dateutil>=2.6.1->pandas) (1.15.0)\n"
          ],
          "name": "stdout"
        }
      ]
    },
    {
      "cell_type": "code",
      "metadata": {
        "id": "hp3FB2oy4a_1",
        "colab_type": "code",
        "colab": {
          "base_uri": "https://localhost:8080/",
          "height": 101
        },
        "outputId": "70072087-8cc5-4cba-e3f8-6996d6ff5666"
      },
      "source": [
        "!pip install sklearn # installing command for  nltk package"
      ],
      "execution_count": 102,
      "outputs": [
        {
          "output_type": "stream",
          "text": [
            "Requirement already satisfied: sklearn in /usr/local/lib/python3.6/dist-packages (0.0)\n",
            "Requirement already satisfied: scikit-learn in /usr/local/lib/python3.6/dist-packages (from sklearn) (0.22.2.post1)\n",
            "Requirement already satisfied: joblib>=0.11 in /usr/local/lib/python3.6/dist-packages (from scikit-learn->sklearn) (0.16.0)\n",
            "Requirement already satisfied: scipy>=0.17.0 in /usr/local/lib/python3.6/dist-packages (from scikit-learn->sklearn) (1.4.1)\n",
            "Requirement already satisfied: numpy>=1.11.0 in /usr/local/lib/python3.6/dist-packages (from scikit-learn->sklearn) (1.18.5)\n"
          ],
          "name": "stdout"
        }
      ]
    },
    {
      "cell_type": "code",
      "metadata": {
        "colab_type": "code",
        "id": "f1pn1Zl2qK77",
        "colab": {
          "base_uri": "https://localhost:8080/",
          "height": 50
        },
        "outputId": "cc5e70c1-87ab-4fe5-d4f6-c6d0dcc72e0c"
      },
      "source": [
        "import nltk\n",
        "nltk.download('punkt')\n",
        "import numpy\n",
        "import scipy\n",
        "import pandas\n",
        "import sklearn"
      ],
      "execution_count": 137,
      "outputs": [
        {
          "output_type": "stream",
          "text": [
            "[nltk_data] Downloading package punkt to /root/nltk_data...\n",
            "[nltk_data]   Unzipping tokenizers/punkt.zip.\n"
          ],
          "name": "stdout"
        }
      ]
    },
    {
      "cell_type": "code",
      "metadata": {
        "id": "WvaYyO8X3_yH",
        "colab_type": "code",
        "colab": {
          "base_uri": "https://localhost:8080/",
          "height": 34
        },
        "outputId": "5bf2154b-0c8a-4598-f6c8-14a9ca95511a"
      },
      "source": [
        "from nltk.tokenize import word_tokenize\n",
        "sample_data = \"INFO 5731 - Computational methods\"\n",
        "print(word_tokenize(sample_data))"
      ],
      "execution_count": 140,
      "outputs": [
        {
          "output_type": "stream",
          "text": [
            "['INFO', '5731', '-', 'Computational', 'methods']\n"
          ],
          "name": "stdout"
        }
      ]
    },
    {
      "cell_type": "code",
      "metadata": {
        "id": "zLqYMHRc6-qL",
        "colab_type": "code",
        "colab": {
          "base_uri": "https://localhost:8080/",
          "height": 50
        },
        "outputId": "354b3992-57fd-4fee-c602-83d863d9e128"
      },
      "source": [
        "a = numpy.zeros((2,2)) # create an array of zeroes of size 2x2\n",
        "print(a)"
      ],
      "execution_count": 121,
      "outputs": [
        {
          "output_type": "stream",
          "text": [
            "[[0. 0.]\n",
            " [0. 0.]]\n"
          ],
          "name": "stdout"
        }
      ]
    },
    {
      "cell_type": "code",
      "metadata": {
        "id": "8LKk8eisAZ68",
        "colab_type": "code",
        "colab": {
          "base_uri": "https://localhost:8080/",
          "height": 34
        },
        "outputId": "84a994a3-bef5-4ac5-bd75-6adab01d0cf7"
      },
      "source": [
        "from scipy.special import cbrt\n",
        "cb = cbrt([456533, 512])\n",
        "print(cb)"
      ],
      "execution_count": 133,
      "outputs": [
        {
          "output_type": "stream",
          "text": [
            "[77.  8.]\n"
          ],
          "name": "stdout"
        }
      ]
    },
    {
      "cell_type": "code",
      "metadata": {
        "id": "Rzg7VAk97b0F",
        "colab_type": "code",
        "colab": {
          "base_uri": "https://localhost:8080/",
          "height": 34
        },
        "outputId": "b8191c16-39a0-42be-8caa-a7fd0c2abf85"
      },
      "source": [
        "date = pandas.to_datetime('9-9-2019')\n",
        "print(date)"
      ],
      "execution_count": 130,
      "outputs": [
        {
          "output_type": "stream",
          "text": [
            "2019-09-09 00:00:00\n"
          ],
          "name": "stdout"
        }
      ]
    },
    {
      "cell_type": "code",
      "metadata": {
        "id": "AVB1a4lw8wcv",
        "colab_type": "code",
        "colab": {
          "base_uri": "https://localhost:8080/",
          "height": 84
        },
        "outputId": "39b0a166-9d0e-4406-d49e-604b28aa5a61"
      },
      "source": [
        "from sklearn import svm\n",
        "clf = svm.SVC(gamma=0.001, C=100.)\n",
        "print(clf)"
      ],
      "execution_count": 131,
      "outputs": [
        {
          "output_type": "stream",
          "text": [
            "SVC(C=100.0, break_ties=False, cache_size=200, class_weight=None, coef0=0.0,\n",
            "    decision_function_shape='ovr', degree=3, gamma=0.001, kernel='rbf',\n",
            "    max_iter=-1, probability=False, random_state=None, shrinking=True,\n",
            "    tol=0.001, verbose=False)\n"
          ],
          "name": "stdout"
        }
      ]
    }
  ]
}