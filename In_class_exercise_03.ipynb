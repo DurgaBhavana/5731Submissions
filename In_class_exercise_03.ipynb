{
  "nbformat": 4,
  "nbformat_minor": 0,
  "metadata": {
    "kernelspec": {
      "display_name": "Python 3",
      "language": "python",
      "name": "python3"
    },
    "language_info": {
      "codemirror_mode": {
        "name": "ipython",
        "version": 3
      },
      "file_extension": ".py",
      "mimetype": "text/x-python",
      "name": "python",
      "nbconvert_exporter": "python",
      "pygments_lexer": "ipython3",
      "version": "3.7.4"
    },
    "colab": {
      "name": "In-class-exercise-03.ipynb",
      "provenance": [],
      "collapsed_sections": [],
      "include_colab_link": true
    }
  },
  "cells": [
    {
      "cell_type": "markdown",
      "metadata": {
        "id": "view-in-github",
        "colab_type": "text"
      },
      "source": [
        "<a href=\"https://colab.research.google.com/github/DurgaBhavana/5731Submissions/blob/master/In_class_exercise_03.ipynb\" target=\"_parent\"><img src=\"https://colab.research.google.com/assets/colab-badge.svg\" alt=\"Open In Colab\"/></a>"
      ]
    },
    {
      "cell_type": "markdown",
      "metadata": {
        "id": "GP6LVm9WD3Q_",
        "colab_type": "text"
      },
      "source": [
        "## The third In-class-exercise (9/16/2020, 20 points in total)"
      ]
    },
    {
      "cell_type": "markdown",
      "metadata": {
        "id": "qdApBkymD3RB",
        "colab_type": "text"
      },
      "source": [
        "The purpose of this exercise is to under users' information needs, then collect the data for analysis."
      ]
    },
    {
      "cell_type": "markdown",
      "metadata": {
        "id": "6gshsuasD3RC",
        "colab_type": "text"
      },
      "source": [
        "Question 1 (8 points): Describe an interesting research question (or practical question) you have in mind, what kind of data should be collected to answer the question(s)? How many data needed for the analysis? The detail steps for collecting and save the data. "
      ]
    },
    {
      "cell_type": "code",
      "metadata": {
        "id": "-IguKv55D3RD",
        "colab_type": "code",
        "colab": {}
      },
      "source": [
        "# Your answer here (no code for this question, write down your answer as detail as possible for the above questions):\n",
        "'''\n",
        "Describe an interesting research question?\n",
        "-- To understand the reviews of Best Buy and to understand if the customers are satisfied\n",
        " \n",
        "what kind of data should be collected to answer the question?\n",
        "-- The data that I have collected includes all the reviews provided by the customers that have bought through best buy.\n",
        "-- I have used the data from the website to know whether the customer reviews are positive or negative.\n",
        "\n",
        "How many data needed for the analysis?\n",
        "-- To acquire accurate results, we need to consider more data and hence I have considered data with approximately 500 rows\n",
        "\n",
        "Detail the steps for collecting and saving the data?\n",
        "-- BeautifulSoup library is used to extract the data from the website\n",
        "-- Firstly, I have extracted the reviews using classname and append it to the empty list.\n",
        "-- To extract more than 500 reviews, I had to iterate for 26 times as each page consisted of 20 reviews and dynamically generated the url through iteration\n",
        "-- As my data includes white spaces and new line characters, I have appended and removed them from the data\n",
        "-- After this, I have created a data frame from the list\n",
        "'''"
      ],
      "execution_count": 3,
      "outputs": []
    },
    {
      "cell_type": "markdown",
      "metadata": {
        "id": "NDqSvMGSD3RG",
        "colab_type": "text"
      },
      "source": [
        "Question 2 (12 points): Write python code to collect 500 items of the data you plan to collect above."
      ]
    },
    {
      "cell_type": "code",
      "metadata": {
        "id": "sVaHnL-eHnPW",
        "colab_type": "code",
        "colab": {}
      },
      "source": [
        "# import all the required libraries and packages\n",
        "import pandas as pd\n",
        "from bs4 import BeautifulSoup\n",
        "import requests"
      ],
      "execution_count": 8,
      "outputs": []
    },
    {
      "cell_type": "code",
      "metadata": {
        "id": "vEe4dN60D3RH",
        "colab_type": "code",
        "colab": {}
      },
      "source": [
        "# read the link of the website that we want to scrape\n",
        "scrape_link = 'https://www.trustpilot.com/review/www.bestbuy.com'\n",
        "text = []\n",
        "# loop to move through the number of pages| Here, we have selected 26 pages as each page has 20 rows to extract at least of 500 rows\n",
        "for i in range(26):\n",
        "  if i>0:\n",
        "    # moving from second page through 26 pages\n",
        "    scrape_link = scrape_link + '?page=' + str(i)\n",
        "  #initialised the parser\n",
        "  reviews = (BeautifulSoup((requests.get(scrape_link)).text, 'html.parser')).find_all(class_='review-content__text')\n",
        "  #appending and removing white spaces and new line characters\n",
        "  for review in reviews:\n",
        "    removing_white_spaces = review.text.strip()\n",
        "    text.append(removing_white_spaces.replace('\\n', ''))"
      ],
      "execution_count": 10,
      "outputs": []
    },
    {
      "cell_type": "code",
      "metadata": {
        "id": "9p9FXNnGG8G3",
        "colab_type": "code",
        "colab": {
          "base_uri": "https://localhost:8080/",
          "height": 402
        },
        "outputId": "59cc2be2-e5d1-4fbd-b11c-e89e315fa467"
      },
      "source": [
        "# creating a data frame from the list\n",
        "reviews_df = pd.DataFrame((text), columns =['Best Buy Review'])\n",
        "reviews_df"
      ],
      "execution_count": 11,
      "outputs": [
        {
          "output_type": "execute_result",
          "data": {
            "text/html": [
              "<div>\n",
              "<style scoped>\n",
              "    .dataframe tbody tr th:only-of-type {\n",
              "        vertical-align: middle;\n",
              "    }\n",
              "\n",
              "    .dataframe tbody tr th {\n",
              "        vertical-align: top;\n",
              "    }\n",
              "\n",
              "    .dataframe thead th {\n",
              "        text-align: right;\n",
              "    }\n",
              "</style>\n",
              "<table border=\"1\" class=\"dataframe\">\n",
              "  <thead>\n",
              "    <tr style=\"text-align: right;\">\n",
              "      <th></th>\n",
              "      <th>Best Buy Review</th>\n",
              "    </tr>\n",
              "  </thead>\n",
              "  <tbody>\n",
              "    <tr>\n",
              "      <th>0</th>\n",
              "      <td>Juvenile CS workers; smirking, grabbed receipt...</td>\n",
              "    </tr>\n",
              "    <tr>\n",
              "      <th>1</th>\n",
              "      <td>I bought a gas cooktop from Best Buy, has a de...</td>\n",
              "    </tr>\n",
              "    <tr>\n",
              "      <th>2</th>\n",
              "      <td>I ordered a washer and paid in full. I schedul...</td>\n",
              "    </tr>\n",
              "    <tr>\n",
              "      <th>3</th>\n",
              "      <td>We bought a washer from Best Buy and set up fo...</td>\n",
              "    </tr>\n",
              "    <tr>\n",
              "      <th>4</th>\n",
              "      <td>So, I get approved for a new best buy credit c...</td>\n",
              "    </tr>\n",
              "    <tr>\n",
              "      <th>...</th>\n",
              "      <td>...</td>\n",
              "    </tr>\n",
              "    <tr>\n",
              "      <th>515</th>\n",
              "      <td>Think real hard before buying warranty at Best...</td>\n",
              "    </tr>\n",
              "    <tr>\n",
              "      <th>516</th>\n",
              "      <td>we purchased a insignia tv , which is a best b...</td>\n",
              "    </tr>\n",
              "    <tr>\n",
              "      <th>517</th>\n",
              "      <td>I purchased a used Microsoft surface from best...</td>\n",
              "    </tr>\n",
              "    <tr>\n",
              "      <th>518</th>\n",
              "      <td>My wife and I needed to purchase a TV stand. S...</td>\n",
              "    </tr>\n",
              "    <tr>\n",
              "      <th>519</th>\n",
              "      <td>BEST BUY IS THE WORST, NEVER BUY ANYTHING FROM...</td>\n",
              "    </tr>\n",
              "  </tbody>\n",
              "</table>\n",
              "<p>520 rows × 1 columns</p>\n",
              "</div>"
            ],
            "text/plain": [
              "                                       Best Buy Review\n",
              "0    Juvenile CS workers; smirking, grabbed receipt...\n",
              "1    I bought a gas cooktop from Best Buy, has a de...\n",
              "2    I ordered a washer and paid in full. I schedul...\n",
              "3    We bought a washer from Best Buy and set up fo...\n",
              "4    So, I get approved for a new best buy credit c...\n",
              "..                                                 ...\n",
              "515  Think real hard before buying warranty at Best...\n",
              "516  we purchased a insignia tv , which is a best b...\n",
              "517  I purchased a used Microsoft surface from best...\n",
              "518  My wife and I needed to purchase a TV stand. S...\n",
              "519  BEST BUY IS THE WORST, NEVER BUY ANYTHING FROM...\n",
              "\n",
              "[520 rows x 1 columns]"
            ]
          },
          "metadata": {
            "tags": []
          },
          "execution_count": 11
        }
      ]
    }
  ]
}